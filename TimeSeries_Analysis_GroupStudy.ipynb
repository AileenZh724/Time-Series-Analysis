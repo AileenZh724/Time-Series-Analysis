{
 "cells": [
  {
   "cell_type": "code",
   "execution_count": 4,
   "id": "b2c709c2",
   "metadata": {},
   "outputs": [
    {
     "name": "stdout",
     "output_type": "stream",
     "text": [
      "Requirement already satisfied: yfinance in c:\\users\\sherry\\conda\\lib\\site-packages (0.1.74)\n",
      "Requirement already satisfied: lxml>=4.5.1 in c:\\users\\sherry\\conda\\lib\\site-packages (from yfinance) (4.8.0)\n",
      "Requirement already satisfied: multitasking>=0.0.7 in c:\\users\\sherry\\conda\\lib\\site-packages (from yfinance) (0.0.9)\n",
      "Requirement already satisfied: requests>=2.26 in c:\\users\\sherry\\conda\\lib\\site-packages (from yfinance) (2.27.1)\n",
      "Requirement already satisfied: numpy>=1.15 in c:\\users\\sherry\\conda\\lib\\site-packages (from yfinance) (1.21.5)\n",
      "Requirement already satisfied: pandas>=0.24.0 in c:\\users\\sherry\\conda\\lib\\site-packages (from yfinance) (1.4.2)\n",
      "Requirement already satisfied: pytz>=2020.1 in c:\\users\\sherry\\conda\\lib\\site-packages (from pandas>=0.24.0->yfinance) (2021.3)\n",
      "Requirement already satisfied: python-dateutil>=2.8.1 in c:\\users\\sherry\\conda\\lib\\site-packages (from pandas>=0.24.0->yfinance) (2.8.2)\n",
      "Requirement already satisfied: six>=1.5 in c:\\users\\sherry\\conda\\lib\\site-packages (from python-dateutil>=2.8.1->pandas>=0.24.0->yfinance) (1.16.0)\n",
      "Requirement already satisfied: idna<4,>=2.5 in c:\\users\\sherry\\conda\\lib\\site-packages (from requests>=2.26->yfinance) (3.3)\n",
      "Requirement already satisfied: charset-normalizer~=2.0.0 in c:\\users\\sherry\\conda\\lib\\site-packages (from requests>=2.26->yfinance) (2.0.4)\n",
      "Requirement already satisfied: certifi>=2017.4.17 in c:\\users\\sherry\\conda\\lib\\site-packages (from requests>=2.26->yfinance) (2021.10.8)\n",
      "Requirement already satisfied: urllib3<1.27,>=1.21.1 in c:\\users\\sherry\\conda\\lib\\site-packages (from requests>=2.26->yfinance) (1.26.9)\n",
      "Requirement already satisfied: tqdm in c:\\users\\sherry\\conda\\lib\\site-packages (4.64.0)\n",
      "Requirement already satisfied: colorama in c:\\users\\sherry\\conda\\lib\\site-packages (from tqdm) (0.4.4)\n"
     ]
    }
   ],
   "source": [
    "!pip install yfinance\n",
    "!pip install tqdm\n",
    "from tqdm.notebook import tqdm\n",
    "import yfinance as yf\n",
    "import random\n",
    "import statsmodels.api as sm\n",
    "import matplotlib.pyplot as plt\n",
    "from statsmodels.tsa.arima.model import ARIMA\n",
    "import pandas as pd\n",
    "import numpy as np\n",
    "from mpl_toolkits.mplot3d import Axes3D\n",
    "from datetime import datetime\n",
    "from statsmodels.multivariate.pca import PCA\n",
    "from statsmodels.multivariate.factor import Factor\n",
    "from statsmodels.multivariate.factor_rotation import rotate_factors\n",
    "from scipy import stats\n",
    "from scipy.stats import kurtosis"
   ]
  },
  {
   "cell_type": "code",
   "execution_count": 6,
   "id": "051968fc",
   "metadata": {},
   "outputs": [
    {
     "data": {
      "text/html": [
       "<div>\n",
       "<style scoped>\n",
       "    .dataframe tbody tr th:only-of-type {\n",
       "        vertical-align: middle;\n",
       "    }\n",
       "\n",
       "    .dataframe tbody tr th {\n",
       "        vertical-align: top;\n",
       "    }\n",
       "\n",
       "    .dataframe thead th {\n",
       "        text-align: right;\n",
       "    }\n",
       "</style>\n",
       "<table border=\"1\" class=\"dataframe\">\n",
       "  <thead>\n",
       "    <tr style=\"text-align: right;\">\n",
       "      <th></th>\n",
       "      <th>SEK.AX</th>\n",
       "      <th>TLS.AX</th>\n",
       "      <th>WOW.AX</th>\n",
       "      <th>WBC.AX</th>\n",
       "      <th>BHP.AX</th>\n",
       "      <th>CBA.AX</th>\n",
       "      <th>CPU.AX</th>\n",
       "      <th>WES.AX</th>\n",
       "    </tr>\n",
       "  </thead>\n",
       "  <tbody>\n",
       "    <tr>\n",
       "      <th>1</th>\n",
       "      <td>2.332449</td>\n",
       "      <td>-0.290231</td>\n",
       "      <td>-0.606161</td>\n",
       "      <td>0.826615</td>\n",
       "      <td>0.463186</td>\n",
       "      <td>1.501333</td>\n",
       "      <td>-1.046218</td>\n",
       "      <td>1.303018</td>\n",
       "    </tr>\n",
       "    <tr>\n",
       "      <th>2</th>\n",
       "      <td>-2.775910</td>\n",
       "      <td>-1.759583</td>\n",
       "      <td>-0.178999</td>\n",
       "      <td>-0.471491</td>\n",
       "      <td>1.239974</td>\n",
       "      <td>0.501419</td>\n",
       "      <td>-0.527200</td>\n",
       "      <td>-1.495173</td>\n",
       "    </tr>\n",
       "    <tr>\n",
       "      <th>3</th>\n",
       "      <td>1.616499</td>\n",
       "      <td>-1.791093</td>\n",
       "      <td>-0.215203</td>\n",
       "      <td>-1.348169</td>\n",
       "      <td>-0.114186</td>\n",
       "      <td>-0.969303</td>\n",
       "      <td>-0.441541</td>\n",
       "      <td>-1.615539</td>\n",
       "    </tr>\n",
       "    <tr>\n",
       "      <th>4</th>\n",
       "      <td>-1.025644</td>\n",
       "      <td>1.791093</td>\n",
       "      <td>0.858046</td>\n",
       "      <td>0.398427</td>\n",
       "      <td>-0.343242</td>\n",
       "      <td>1.290363</td>\n",
       "      <td>1.841346</td>\n",
       "      <td>2.445409</td>\n",
       "    </tr>\n",
       "    <tr>\n",
       "      <th>5</th>\n",
       "      <td>-2.083416</td>\n",
       "      <td>-0.891540</td>\n",
       "      <td>-0.320900</td>\n",
       "      <td>0.119174</td>\n",
       "      <td>1.929853</td>\n",
       "      <td>0.727416</td>\n",
       "      <td>1.637256</td>\n",
       "      <td>0.285708</td>\n",
       "    </tr>\n",
       "    <tr>\n",
       "      <th>...</th>\n",
       "      <td>...</td>\n",
       "      <td>...</td>\n",
       "      <td>...</td>\n",
       "      <td>...</td>\n",
       "      <td>...</td>\n",
       "      <td>...</td>\n",
       "      <td>...</td>\n",
       "      <td>...</td>\n",
       "    </tr>\n",
       "    <tr>\n",
       "      <th>3180</th>\n",
       "      <td>-1.597276</td>\n",
       "      <td>0.000000</td>\n",
       "      <td>1.120242</td>\n",
       "      <td>1.557522</td>\n",
       "      <td>-1.338835</td>\n",
       "      <td>0.876640</td>\n",
       "      <td>0.315706</td>\n",
       "      <td>1.738800</td>\n",
       "    </tr>\n",
       "    <tr>\n",
       "      <th>3181</th>\n",
       "      <td>0.866557</td>\n",
       "      <td>-0.505052</td>\n",
       "      <td>-1.303794</td>\n",
       "      <td>-1.142870</td>\n",
       "      <td>0.077719</td>\n",
       "      <td>-1.481950</td>\n",
       "      <td>0.824024</td>\n",
       "      <td>-1.099143</td>\n",
       "    </tr>\n",
       "    <tr>\n",
       "      <th>3182</th>\n",
       "      <td>3.684513</td>\n",
       "      <td>1.257876</td>\n",
       "      <td>-1.081948</td>\n",
       "      <td>0.458718</td>\n",
       "      <td>-1.146148</td>\n",
       "      <td>1.315096</td>\n",
       "      <td>0.972204</td>\n",
       "      <td>-0.106323</td>\n",
       "    </tr>\n",
       "    <tr>\n",
       "      <th>3183</th>\n",
       "      <td>-2.228382</td>\n",
       "      <td>0.995028</td>\n",
       "      <td>1.892306</td>\n",
       "      <td>0.502164</td>\n",
       "      <td>1.662817</td>\n",
       "      <td>-0.383839</td>\n",
       "      <td>-1.520795</td>\n",
       "      <td>1.478381</td>\n",
       "    </tr>\n",
       "    <tr>\n",
       "      <th>3184</th>\n",
       "      <td>-2.105334</td>\n",
       "      <td>-0.995028</td>\n",
       "      <td>-0.469728</td>\n",
       "      <td>0.499663</td>\n",
       "      <td>0.795581</td>\n",
       "      <td>1.166620</td>\n",
       "      <td>-0.947506</td>\n",
       "      <td>-2.011715</td>\n",
       "    </tr>\n",
       "  </tbody>\n",
       "</table>\n",
       "<p>3184 rows × 8 columns</p>\n",
       "</div>"
      ],
      "text/plain": [
       "        SEK.AX    TLS.AX    WOW.AX    WBC.AX    BHP.AX    CBA.AX    CPU.AX  \\\n",
       "1     2.332449 -0.290231 -0.606161  0.826615  0.463186  1.501333 -1.046218   \n",
       "2    -2.775910 -1.759583 -0.178999 -0.471491  1.239974  0.501419 -0.527200   \n",
       "3     1.616499 -1.791093 -0.215203 -1.348169 -0.114186 -0.969303 -0.441541   \n",
       "4    -1.025644  1.791093  0.858046  0.398427 -0.343242  1.290363  1.841346   \n",
       "5    -2.083416 -0.891540 -0.320900  0.119174  1.929853  0.727416  1.637256   \n",
       "...        ...       ...       ...       ...       ...       ...       ...   \n",
       "3180 -1.597276  0.000000  1.120242  1.557522 -1.338835  0.876640  0.315706   \n",
       "3181  0.866557 -0.505052 -1.303794 -1.142870  0.077719 -1.481950  0.824024   \n",
       "3182  3.684513  1.257876 -1.081948  0.458718 -1.146148  1.315096  0.972204   \n",
       "3183 -2.228382  0.995028  1.892306  0.502164  1.662817 -0.383839 -1.520795   \n",
       "3184 -2.105334 -0.995028 -0.469728  0.499663  0.795581  1.166620 -0.947506   \n",
       "\n",
       "        WES.AX  \n",
       "1     1.303018  \n",
       "2    -1.495173  \n",
       "3    -1.615539  \n",
       "4     2.445409  \n",
       "5     0.285708  \n",
       "...        ...  \n",
       "3180  1.738800  \n",
       "3181 -1.099143  \n",
       "3182 -0.106323  \n",
       "3183  1.478381  \n",
       "3184 -2.011715  \n",
       "\n",
       "[3184 rows x 8 columns]"
      ]
     },
     "execution_count": 6,
     "metadata": {},
     "output_type": "execute_result"
    }
   ],
   "source": [
    "data_mygrp = pd.read_csv(\"my_group_data.csv\")\n",
    "data_p = data_mygrp.iloc[: , 1:]\n",
    "data = np.log(data_p[:]).diff() * 100\n",
    "data = data[1:]  \n",
    "data"
   ]
  },
  {
   "cell_type": "markdown",
   "id": "04cfd6e7",
   "metadata": {},
   "source": [
    "## Section 1"
   ]
  },
  {
   "cell_type": "markdown",
   "id": "c96790eb",
   "metadata": {},
   "source": [
    "### Question 1"
   ]
  },
  {
   "cell_type": "code",
   "execution_count": 7,
   "id": "c71d24de",
   "metadata": {},
   "outputs": [
    {
     "data": {
      "text/html": [
       "<div>\n",
       "<style scoped>\n",
       "    .dataframe tbody tr th:only-of-type {\n",
       "        vertical-align: middle;\n",
       "    }\n",
       "\n",
       "    .dataframe tbody tr th {\n",
       "        vertical-align: top;\n",
       "    }\n",
       "\n",
       "    .dataframe thead th {\n",
       "        text-align: right;\n",
       "    }\n",
       "</style>\n",
       "<table border=\"1\" class=\"dataframe\">\n",
       "  <thead>\n",
       "    <tr style=\"text-align: right;\">\n",
       "      <th></th>\n",
       "      <th>com_1</th>\n",
       "      <th>com_2</th>\n",
       "      <th>com_3</th>\n",
       "      <th>com_4</th>\n",
       "      <th>com_5</th>\n",
       "      <th>com_6</th>\n",
       "      <th>com_7</th>\n",
       "      <th>com_8</th>\n",
       "    </tr>\n",
       "  </thead>\n",
       "  <tbody>\n",
       "    <tr>\n",
       "      <th>0</th>\n",
       "      <td>-1.863465</td>\n",
       "      <td>1.276017</td>\n",
       "      <td>0.277924</td>\n",
       "      <td>-1.622758</td>\n",
       "      <td>1.393210</td>\n",
       "      <td>-0.078026</td>\n",
       "      <td>1.143867</td>\n",
       "      <td>-0.629715</td>\n",
       "    </tr>\n",
       "    <tr>\n",
       "      <th>1</th>\n",
       "      <td>1.978754</td>\n",
       "      <td>-2.663142</td>\n",
       "      <td>-1.272415</td>\n",
       "      <td>0.002813</td>\n",
       "      <td>0.987100</td>\n",
       "      <td>-1.023380</td>\n",
       "      <td>-0.700281</td>\n",
       "      <td>-0.827712</td>\n",
       "    </tr>\n",
       "    <tr>\n",
       "      <th>2</th>\n",
       "      <td>1.277834</td>\n",
       "      <td>1.981825</td>\n",
       "      <td>-1.970495</td>\n",
       "      <td>-0.646992</td>\n",
       "      <td>0.173860</td>\n",
       "      <td>-1.017675</td>\n",
       "      <td>-0.862113</td>\n",
       "      <td>-0.180741</td>\n",
       "    </tr>\n",
       "    <tr>\n",
       "      <th>3</th>\n",
       "      <td>-1.881898</td>\n",
       "      <td>-1.270525</td>\n",
       "      <td>2.087182</td>\n",
       "      <td>1.695621</td>\n",
       "      <td>-1.297612</td>\n",
       "      <td>0.426000</td>\n",
       "      <td>1.134780</td>\n",
       "      <td>-0.535138</td>\n",
       "    </tr>\n",
       "    <tr>\n",
       "      <th>4</th>\n",
       "      <td>-0.443654</td>\n",
       "      <td>-2.750442</td>\n",
       "      <td>-1.379597</td>\n",
       "      <td>1.255901</td>\n",
       "      <td>0.152591</td>\n",
       "      <td>-0.606862</td>\n",
       "      <td>0.558419</td>\n",
       "      <td>-0.555917</td>\n",
       "    </tr>\n",
       "    <tr>\n",
       "      <th>...</th>\n",
       "      <td>...</td>\n",
       "      <td>...</td>\n",
       "      <td>...</td>\n",
       "      <td>...</td>\n",
       "      <td>...</td>\n",
       "      <td>...</td>\n",
       "      <td>...</td>\n",
       "      <td>...</td>\n",
       "    </tr>\n",
       "    <tr>\n",
       "      <th>3179</th>\n",
       "      <td>-0.424999</td>\n",
       "      <td>-1.210542</td>\n",
       "      <td>2.640016</td>\n",
       "      <td>1.201231</td>\n",
       "      <td>0.499042</td>\n",
       "      <td>-0.932569</td>\n",
       "      <td>0.635257</td>\n",
       "      <td>0.432784</td>\n",
       "    </tr>\n",
       "    <tr>\n",
       "      <th>3180</th>\n",
       "      <td>1.022323</td>\n",
       "      <td>1.299577</td>\n",
       "      <td>-2.183445</td>\n",
       "      <td>0.539752</td>\n",
       "      <td>-0.427955</td>\n",
       "      <td>0.485697</td>\n",
       "      <td>0.009145</td>\n",
       "      <td>0.314831</td>\n",
       "    </tr>\n",
       "    <tr>\n",
       "      <th>3181</th>\n",
       "      <td>-2.216979</td>\n",
       "      <td>3.286497</td>\n",
       "      <td>0.123566</td>\n",
       "      <td>0.354267</td>\n",
       "      <td>0.790821</td>\n",
       "      <td>1.727873</td>\n",
       "      <td>-0.093366</td>\n",
       "      <td>-0.760111</td>\n",
       "    </tr>\n",
       "    <tr>\n",
       "      <th>3182</th>\n",
       "      <td>-0.052172</td>\n",
       "      <td>-3.046187</td>\n",
       "      <td>1.453715</td>\n",
       "      <td>-1.702184</td>\n",
       "      <td>-1.326170</td>\n",
       "      <td>-0.585698</td>\n",
       "      <td>0.245436</td>\n",
       "      <td>0.866505</td>\n",
       "    </tr>\n",
       "    <tr>\n",
       "      <th>3183</th>\n",
       "      <td>1.449704</td>\n",
       "      <td>-2.176597</td>\n",
       "      <td>-0.636244</td>\n",
       "      <td>-0.283242</td>\n",
       "      <td>1.938346</td>\n",
       "      <td>-0.053485</td>\n",
       "      <td>-1.241728</td>\n",
       "      <td>-0.769043</td>\n",
       "    </tr>\n",
       "  </tbody>\n",
       "</table>\n",
       "<p>3184 rows × 8 columns</p>\n",
       "</div>"
      ],
      "text/plain": [
       "         com_1     com_2     com_3     com_4     com_5     com_6     com_7  \\\n",
       "0    -1.863465  1.276017  0.277924 -1.622758  1.393210 -0.078026  1.143867   \n",
       "1     1.978754 -2.663142 -1.272415  0.002813  0.987100 -1.023380 -0.700281   \n",
       "2     1.277834  1.981825 -1.970495 -0.646992  0.173860 -1.017675 -0.862113   \n",
       "3    -1.881898 -1.270525  2.087182  1.695621 -1.297612  0.426000  1.134780   \n",
       "4    -0.443654 -2.750442 -1.379597  1.255901  0.152591 -0.606862  0.558419   \n",
       "...        ...       ...       ...       ...       ...       ...       ...   \n",
       "3179 -0.424999 -1.210542  2.640016  1.201231  0.499042 -0.932569  0.635257   \n",
       "3180  1.022323  1.299577 -2.183445  0.539752 -0.427955  0.485697  0.009145   \n",
       "3181 -2.216979  3.286497  0.123566  0.354267  0.790821  1.727873 -0.093366   \n",
       "3182 -0.052172 -3.046187  1.453715 -1.702184 -1.326170 -0.585698  0.245436   \n",
       "3183  1.449704 -2.176597 -0.636244 -0.283242  1.938346 -0.053485 -1.241728   \n",
       "\n",
       "         com_8  \n",
       "0    -0.629715  \n",
       "1    -0.827712  \n",
       "2    -0.180741  \n",
       "3    -0.535138  \n",
       "4    -0.555917  \n",
       "...        ...  \n",
       "3179  0.432784  \n",
       "3180  0.314831  \n",
       "3181 -0.760111  \n",
       "3182  0.866505  \n",
       "3183 -0.769043  \n",
       "\n",
       "[3184 rows x 8 columns]"
      ]
     },
     "execution_count": 7,
     "metadata": {},
     "output_type": "execute_result"
    }
   ],
   "source": [
    "from sklearn.decomposition import PCA\n",
    "\n",
    "pca = PCA(n_components=8)\n",
    "pca_results = pca.fit_transform(data)\n",
    "pca_results = pd.DataFrame(pca_results)\n",
    "pca_results.columns = list(map(lambda x: 'com_'+str(x+1), range(8)))\n",
    "pca_results # PCA result\n"
   ]
  },
  {
   "cell_type": "code",
   "execution_count": 8,
   "id": "bb3383b4",
   "metadata": {},
   "outputs": [
    {
     "data": {
      "text/plain": [
       "array([0.47742374, 0.13658312, 0.10063475, 0.09718306, 0.07468448,\n",
       "       0.05735493, 0.03712413, 0.01901179])"
      ]
     },
     "execution_count": 8,
     "metadata": {},
     "output_type": "execute_result"
    }
   ],
   "source": [
    "pca.explained_variance_ratio_  # percentage of the total variance\n"
   ]
  },
  {
   "cell_type": "markdown",
   "id": "84610a67",
   "metadata": {},
   "source": [
    "### Question 2\n",
    "I would choose **four** principal component. Because the proportion of the first four principal components are as high as 80%, which is far more than the proportion of other principal components, so choosing only one principal component will have better explanatory power."
   ]
  },
  {
   "cell_type": "markdown",
   "id": "10934b90",
   "metadata": {},
   "source": [
    "### Question 3"
   ]
  },
  {
   "cell_type": "code",
   "execution_count": 9,
   "id": "0445993f",
   "metadata": {},
   "outputs": [
    {
     "data": {
      "text/html": [
       "<div>\n",
       "<style scoped>\n",
       "    .dataframe tbody tr th:only-of-type {\n",
       "        vertical-align: middle;\n",
       "    }\n",
       "\n",
       "    .dataframe tbody tr th {\n",
       "        vertical-align: top;\n",
       "    }\n",
       "\n",
       "    .dataframe thead th {\n",
       "        text-align: right;\n",
       "    }\n",
       "</style>\n",
       "<table border=\"1\" class=\"dataframe\">\n",
       "  <thead>\n",
       "    <tr style=\"text-align: right;\">\n",
       "      <th></th>\n",
       "      <th>com_1</th>\n",
       "      <th>com_2</th>\n",
       "      <th>com_3</th>\n",
       "      <th>com_4</th>\n",
       "    </tr>\n",
       "  </thead>\n",
       "  <tbody>\n",
       "    <tr>\n",
       "      <th>0</th>\n",
       "      <td>-1.863465</td>\n",
       "      <td>1.276017</td>\n",
       "      <td>0.277924</td>\n",
       "      <td>-1.622758</td>\n",
       "    </tr>\n",
       "    <tr>\n",
       "      <th>1</th>\n",
       "      <td>1.978754</td>\n",
       "      <td>-2.663142</td>\n",
       "      <td>-1.272415</td>\n",
       "      <td>0.002813</td>\n",
       "    </tr>\n",
       "    <tr>\n",
       "      <th>2</th>\n",
       "      <td>1.277834</td>\n",
       "      <td>1.981825</td>\n",
       "      <td>-1.970495</td>\n",
       "      <td>-0.646992</td>\n",
       "    </tr>\n",
       "    <tr>\n",
       "      <th>3</th>\n",
       "      <td>-1.881898</td>\n",
       "      <td>-1.270525</td>\n",
       "      <td>2.087182</td>\n",
       "      <td>1.695621</td>\n",
       "    </tr>\n",
       "    <tr>\n",
       "      <th>4</th>\n",
       "      <td>-0.443654</td>\n",
       "      <td>-2.750442</td>\n",
       "      <td>-1.379597</td>\n",
       "      <td>1.255901</td>\n",
       "    </tr>\n",
       "    <tr>\n",
       "      <th>...</th>\n",
       "      <td>...</td>\n",
       "      <td>...</td>\n",
       "      <td>...</td>\n",
       "      <td>...</td>\n",
       "    </tr>\n",
       "    <tr>\n",
       "      <th>3179</th>\n",
       "      <td>-0.424999</td>\n",
       "      <td>-1.210542</td>\n",
       "      <td>2.640016</td>\n",
       "      <td>1.201231</td>\n",
       "    </tr>\n",
       "    <tr>\n",
       "      <th>3180</th>\n",
       "      <td>1.022323</td>\n",
       "      <td>1.299577</td>\n",
       "      <td>-2.183445</td>\n",
       "      <td>0.539752</td>\n",
       "    </tr>\n",
       "    <tr>\n",
       "      <th>3181</th>\n",
       "      <td>-2.216979</td>\n",
       "      <td>3.286497</td>\n",
       "      <td>0.123566</td>\n",
       "      <td>0.354267</td>\n",
       "    </tr>\n",
       "    <tr>\n",
       "      <th>3182</th>\n",
       "      <td>-0.052172</td>\n",
       "      <td>-3.046187</td>\n",
       "      <td>1.453715</td>\n",
       "      <td>-1.702184</td>\n",
       "    </tr>\n",
       "    <tr>\n",
       "      <th>3183</th>\n",
       "      <td>1.449704</td>\n",
       "      <td>-2.176597</td>\n",
       "      <td>-0.636244</td>\n",
       "      <td>-0.283242</td>\n",
       "    </tr>\n",
       "  </tbody>\n",
       "</table>\n",
       "<p>3184 rows × 4 columns</p>\n",
       "</div>"
      ],
      "text/plain": [
       "         com_1     com_2     com_3     com_4\n",
       "0    -1.863465  1.276017  0.277924 -1.622758\n",
       "1     1.978754 -2.663142 -1.272415  0.002813\n",
       "2     1.277834  1.981825 -1.970495 -0.646992\n",
       "3    -1.881898 -1.270525  2.087182  1.695621\n",
       "4    -0.443654 -2.750442 -1.379597  1.255901\n",
       "...        ...       ...       ...       ...\n",
       "3179 -0.424999 -1.210542  2.640016  1.201231\n",
       "3180  1.022323  1.299577 -2.183445  0.539752\n",
       "3181 -2.216979  3.286497  0.123566  0.354267\n",
       "3182 -0.052172 -3.046187  1.453715 -1.702184\n",
       "3183  1.449704 -2.176597 -0.636244 -0.283242\n",
       "\n",
       "[3184 rows x 4 columns]"
      ]
     },
     "execution_count": 9,
     "metadata": {},
     "output_type": "execute_result"
    }
   ],
   "source": [
    "pca = PCA(n_components=4)\n",
    "pca_results1 = pca.fit_transform(data)\n",
    "pca_results1 = pd.DataFrame(pca_results1)\n",
    "pca_results1.columns = list(map(lambda x: 'com_'+str(x+1), range(4)))\n",
    "pca_results1  # PCA result\n"
   ]
  },
  {
   "cell_type": "code",
   "execution_count": 10,
   "id": "6b063253",
   "metadata": {},
   "outputs": [
    {
     "data": {
      "text/html": [
       "<div>\n",
       "<style scoped>\n",
       "    .dataframe tbody tr th:only-of-type {\n",
       "        vertical-align: middle;\n",
       "    }\n",
       "\n",
       "    .dataframe tbody tr th {\n",
       "        vertical-align: top;\n",
       "    }\n",
       "\n",
       "    .dataframe thead th {\n",
       "        text-align: right;\n",
       "    }\n",
       "</style>\n",
       "<table border=\"1\" class=\"dataframe\">\n",
       "  <thead>\n",
       "    <tr style=\"text-align: right;\">\n",
       "      <th></th>\n",
       "      <th>com_1</th>\n",
       "      <th>com_2</th>\n",
       "      <th>com_3</th>\n",
       "      <th>com_4</th>\n",
       "    </tr>\n",
       "  </thead>\n",
       "  <tbody>\n",
       "    <tr>\n",
       "      <th>count</th>\n",
       "      <td>3.184000e+03</td>\n",
       "      <td>3.184000e+03</td>\n",
       "      <td>3.184000e+03</td>\n",
       "      <td>3.184000e+03</td>\n",
       "    </tr>\n",
       "    <tr>\n",
       "      <th>mean</th>\n",
       "      <td>1.436595e-17</td>\n",
       "      <td>-2.998718e-17</td>\n",
       "      <td>1.743441e-17</td>\n",
       "      <td>8.316212e-18</td>\n",
       "    </tr>\n",
       "    <tr>\n",
       "      <th>std</th>\n",
       "      <td>2.919480e+00</td>\n",
       "      <td>1.561536e+00</td>\n",
       "      <td>1.340379e+00</td>\n",
       "      <td>1.317191e+00</td>\n",
       "    </tr>\n",
       "    <tr>\n",
       "      <th>min</th>\n",
       "      <td>-2.108806e+01</td>\n",
       "      <td>-1.160859e+01</td>\n",
       "      <td>-7.107626e+00</td>\n",
       "      <td>-7.849376e+00</td>\n",
       "    </tr>\n",
       "    <tr>\n",
       "      <th>25%</th>\n",
       "      <td>-1.616773e+00</td>\n",
       "      <td>-8.461701e-01</td>\n",
       "      <td>-7.458559e-01</td>\n",
       "      <td>-7.590153e-01</td>\n",
       "    </tr>\n",
       "    <tr>\n",
       "      <th>50%</th>\n",
       "      <td>-9.630600e-02</td>\n",
       "      <td>-3.263843e-03</td>\n",
       "      <td>-2.547219e-03</td>\n",
       "      <td>-3.460514e-02</td>\n",
       "    </tr>\n",
       "    <tr>\n",
       "      <th>75%</th>\n",
       "      <td>1.466407e+00</td>\n",
       "      <td>8.276430e-01</td>\n",
       "      <td>7.570436e-01</td>\n",
       "      <td>6.989494e-01</td>\n",
       "    </tr>\n",
       "    <tr>\n",
       "      <th>max</th>\n",
       "      <td>2.511091e+01</td>\n",
       "      <td>1.295860e+01</td>\n",
       "      <td>8.459279e+00</td>\n",
       "      <td>1.246795e+01</td>\n",
       "    </tr>\n",
       "  </tbody>\n",
       "</table>\n",
       "</div>"
      ],
      "text/plain": [
       "              com_1         com_2         com_3         com_4\n",
       "count  3.184000e+03  3.184000e+03  3.184000e+03  3.184000e+03\n",
       "mean   1.436595e-17 -2.998718e-17  1.743441e-17  8.316212e-18\n",
       "std    2.919480e+00  1.561536e+00  1.340379e+00  1.317191e+00\n",
       "min   -2.108806e+01 -1.160859e+01 -7.107626e+00 -7.849376e+00\n",
       "25%   -1.616773e+00 -8.461701e-01 -7.458559e-01 -7.590153e-01\n",
       "50%   -9.630600e-02 -3.263843e-03 -2.547219e-03 -3.460514e-02\n",
       "75%    1.466407e+00  8.276430e-01  7.570436e-01  6.989494e-01\n",
       "max    2.511091e+01  1.295860e+01  8.459279e+00  1.246795e+01"
      ]
     },
     "execution_count": 10,
     "metadata": {},
     "output_type": "execute_result"
    }
   ],
   "source": [
    "pca_results1.describe() # Discribe"
   ]
  },
  {
   "cell_type": "markdown",
   "id": "a6d6d18b",
   "metadata": {},
   "source": [
    "### Question 4"
   ]
  },
  {
   "cell_type": "markdown",
   "id": "08b563ac",
   "metadata": {},
   "source": [
    "Let the covariance matrix corresponding to the original data matrix Y be C, and P is a set of matrixes composed of rows by basis, and let X=PY, then X is the data after the basis transformation of Y on P. Let the covariance matrix of X be D, let us derive the relationship between D and C:\n",
    "\n",
    "$$\\begin{aligned} D &=\\frac{1}{m} Y Y^T \\\\ &=\\frac{1}{m}(P X)(P X)^T \\\\ &=\\frac{1}{m} P X X^T P^T \\\\ &=P\\left(\\frac{1}{m} X X^T\\right) P^T \\\\ &=P C P^T \\end{aligned}$$\n",
    "\n",
    "This makes it clear that the P we are looking for is the P that diagonalizes the original covariance matrix. In other words, the optimization goal becomes to find a matrix P, satisfying that $PCP^T$ is a diagonal matrix, and the diagonal elements are arranged in descending order, then the first K rows of P are the basis to be found, and the first K rows of P are the basis to be found. The matrix consisting of K rows is multiplied by X to reduce X from N dimension to K dimension and satisfy the above optimization conditions.\n",
    "\n",
    "Therefore, we know that the covariance matrix of the matrix X of the PCA corresponding to Y is a diagonal diagonal matrix. That is, each column of X is orthogonal.\n",
    "\n",
    "Therefore, it can also be proved that the first two PCs of Y are orthogonal, that is, the covariance is 0."
   ]
  },
  {
   "cell_type": "code",
   "execution_count": null,
   "id": "00689ecb",
   "metadata": {},
   "outputs": [],
   "source": []
  },
  {
   "cell_type": "markdown",
   "id": "f52577be",
   "metadata": {},
   "source": [
    "# Section 1 q5-q11"
   ]
  },
  {
   "cell_type": "code",
   "execution_count": 11,
   "id": "7711bfee",
   "metadata": {},
   "outputs": [
    {
     "data": {
      "text/html": [
       "<div>\n",
       "<style scoped>\n",
       "    .dataframe tbody tr th:only-of-type {\n",
       "        vertical-align: middle;\n",
       "    }\n",
       "\n",
       "    .dataframe tbody tr th {\n",
       "        vertical-align: top;\n",
       "    }\n",
       "\n",
       "    .dataframe thead th {\n",
       "        text-align: right;\n",
       "    }\n",
       "</style>\n",
       "<table border=\"1\" class=\"dataframe\">\n",
       "  <thead>\n",
       "    <tr style=\"text-align: right;\">\n",
       "      <th></th>\n",
       "      <th>SEK.AX</th>\n",
       "      <th>TLS.AX</th>\n",
       "      <th>WOW.AX</th>\n",
       "      <th>WBC.AX</th>\n",
       "      <th>BHP.AX</th>\n",
       "      <th>CBA.AX</th>\n",
       "      <th>CPU.AX</th>\n",
       "      <th>WES.AX</th>\n",
       "    </tr>\n",
       "  </thead>\n",
       "  <tbody>\n",
       "    <tr>\n",
       "      <th>SEK.AX</th>\n",
       "      <td>3.772920</td>\n",
       "      <td>0.585890</td>\n",
       "      <td>0.676341</td>\n",
       "      <td>1.156163</td>\n",
       "      <td>1.020527</td>\n",
       "      <td>1.069322</td>\n",
       "      <td>1.262719</td>\n",
       "      <td>0.999922</td>\n",
       "    </tr>\n",
       "    <tr>\n",
       "      <th>TLS.AX</th>\n",
       "      <td>0.585890</td>\n",
       "      <td>1.469148</td>\n",
       "      <td>0.490053</td>\n",
       "      <td>0.563594</td>\n",
       "      <td>0.531268</td>\n",
       "      <td>0.571643</td>\n",
       "      <td>0.470539</td>\n",
       "      <td>0.612652</td>\n",
       "    </tr>\n",
       "    <tr>\n",
       "      <th>WOW.AX</th>\n",
       "      <td>0.676341</td>\n",
       "      <td>0.490053</td>\n",
       "      <td>1.508071</td>\n",
       "      <td>0.645225</td>\n",
       "      <td>0.649254</td>\n",
       "      <td>0.686684</td>\n",
       "      <td>0.545398</td>\n",
       "      <td>0.822275</td>\n",
       "    </tr>\n",
       "    <tr>\n",
       "      <th>WBC.AX</th>\n",
       "      <td>1.156163</td>\n",
       "      <td>0.563594</td>\n",
       "      <td>0.645225</td>\n",
       "      <td>2.120889</td>\n",
       "      <td>1.154611</td>\n",
       "      <td>1.524452</td>\n",
       "      <td>1.074878</td>\n",
       "      <td>0.908975</td>\n",
       "    </tr>\n",
       "    <tr>\n",
       "      <th>BHP.AX</th>\n",
       "      <td>1.020527</td>\n",
       "      <td>0.531268</td>\n",
       "      <td>0.649254</td>\n",
       "      <td>1.154611</td>\n",
       "      <td>3.023784</td>\n",
       "      <td>1.025025</td>\n",
       "      <td>1.043888</td>\n",
       "      <td>0.773331</td>\n",
       "    </tr>\n",
       "    <tr>\n",
       "      <th>CBA.AX</th>\n",
       "      <td>1.069322</td>\n",
       "      <td>0.571643</td>\n",
       "      <td>0.686684</td>\n",
       "      <td>1.524452</td>\n",
       "      <td>1.025025</td>\n",
       "      <td>1.668053</td>\n",
       "      <td>0.942541</td>\n",
       "      <td>0.887067</td>\n",
       "    </tr>\n",
       "    <tr>\n",
       "      <th>CPU.AX</th>\n",
       "      <td>1.262719</td>\n",
       "      <td>0.470539</td>\n",
       "      <td>0.545398</td>\n",
       "      <td>1.074878</td>\n",
       "      <td>1.043888</td>\n",
       "      <td>0.942541</td>\n",
       "      <td>2.724947</td>\n",
       "      <td>0.779447</td>\n",
       "    </tr>\n",
       "    <tr>\n",
       "      <th>WES.AX</th>\n",
       "      <td>0.999922</td>\n",
       "      <td>0.612652</td>\n",
       "      <td>0.822275</td>\n",
       "      <td>0.908975</td>\n",
       "      <td>0.773331</td>\n",
       "      <td>0.887067</td>\n",
       "      <td>0.779447</td>\n",
       "      <td>1.565015</td>\n",
       "    </tr>\n",
       "  </tbody>\n",
       "</table>\n",
       "</div>"
      ],
      "text/plain": [
       "          SEK.AX    TLS.AX    WOW.AX    WBC.AX    BHP.AX    CBA.AX    CPU.AX  \\\n",
       "SEK.AX  3.772920  0.585890  0.676341  1.156163  1.020527  1.069322  1.262719   \n",
       "TLS.AX  0.585890  1.469148  0.490053  0.563594  0.531268  0.571643  0.470539   \n",
       "WOW.AX  0.676341  0.490053  1.508071  0.645225  0.649254  0.686684  0.545398   \n",
       "WBC.AX  1.156163  0.563594  0.645225  2.120889  1.154611  1.524452  1.074878   \n",
       "BHP.AX  1.020527  0.531268  0.649254  1.154611  3.023784  1.025025  1.043888   \n",
       "CBA.AX  1.069322  0.571643  0.686684  1.524452  1.025025  1.668053  0.942541   \n",
       "CPU.AX  1.262719  0.470539  0.545398  1.074878  1.043888  0.942541  2.724947   \n",
       "WES.AX  0.999922  0.612652  0.822275  0.908975  0.773331  0.887067  0.779447   \n",
       "\n",
       "          WES.AX  \n",
       "SEK.AX  0.999922  \n",
       "TLS.AX  0.612652  \n",
       "WOW.AX  0.822275  \n",
       "WBC.AX  0.908975  \n",
       "BHP.AX  0.773331  \n",
       "CBA.AX  0.887067  \n",
       "CPU.AX  0.779447  \n",
       "WES.AX  1.565015  "
      ]
     },
     "execution_count": 11,
     "metadata": {},
     "output_type": "execute_result"
    }
   ],
   "source": [
    "# Sample covariance matrix \n",
    "data.cov()"
   ]
  },
  {
   "cell_type": "code",
   "execution_count": 12,
   "id": "6eb7cfcb",
   "metadata": {},
   "outputs": [],
   "source": [
    "'''\n",
    "Biplot for a given weight matrix\n",
    "'''\n",
    "def biplot(weight):\n",
    "    ax = plt.axes()\n",
    "    for i in range(weight.shape[0]):\n",
    "        w = weight[i, :]\n",
    "        ax.plot([0, w[0]], [0, w[1]])\n",
    "        ax.scatter(w[0], w[1])\n",
    "    ax.axhline(y=0, color='k', alpha=0.6)\n",
    "    ax.axvline(x=0, color='k', alpha=0.6)\n",
    "    lim = np.max(np.abs(weight[:, :2]))\n",
    "    lim = lim + 0.1 * lim\n",
    "    ax.axis([-lim, lim, -lim, lim])\n",
    "    ax.grid(True)\n",
    "    ax.set_xlabel('Component 1')\n",
    "    ax.set_ylabel('Component 2')\n",
    "    return ax\n",
    "\n",
    "'''\n",
    "3D biplot for a given weight matrix\n",
    "'''\n",
    "def biplot3d(weight):\n",
    "    ax = plt.axes(projection=\"3d\")\n",
    "    for i in range(weight.shape[0]):\n",
    "        w = weight[i, :]\n",
    "        ax.plot([0, w[0]], [0, w[1]], [0, w[2]])\n",
    "        ax.scatter(w[0], w[1], w[2])\n",
    "    lim = np.max(np.abs(weight[:, :3]))\n",
    "    lim = lim + 0.1 * lim\n",
    "    ax.axis([-lim, lim, -lim, lim])\n",
    "    ax.set_zbound(lower=-lim, upper=lim)\n",
    "    ax.plot([-lim, lim], [0, 0], [0, 0], 'k', alpha=0.6)\n",
    "    ax.plot([0, 0], [-lim, lim], [0, 0], 'k', alpha=0.6)\n",
    "    ax.plot([0, 0], [0, 0], [-lim, lim], 'k', alpha=0.6)\n",
    "    ax.grid(True)\n",
    "    ax.set_xlabel('Component 1')\n",
    "    ax.set_ylabel('Component 2')\n",
    "    ax.set_zlabel('Component 3')\n",
    "    return ax"
   ]
  },
  {
   "cell_type": "code",
   "execution_count": 13,
   "id": "860dcec4",
   "metadata": {},
   "outputs": [],
   "source": [
    "#1- factor Model\n",
    "\n",
    "fm1 = Factor(endog=data, n_factor=1, method='ml')\n",
    "result1 = fm1.fit()"
   ]
  },
  {
   "cell_type": "code",
   "execution_count": 14,
   "id": "43a3ca71",
   "metadata": {},
   "outputs": [
    {
     "data": {
      "text/plain": [
       "array([[0.5080848 ],\n",
       "       [0.42828534],\n",
       "       [0.50320774],\n",
       "       [0.86229582],\n",
       "       [0.53440925],\n",
       "       [0.89935846],\n",
       "       [0.5296242 ],\n",
       "       [0.64071428]])"
      ]
     },
     "execution_count": 14,
     "metadata": {},
     "output_type": "execute_result"
    }
   ],
   "source": [
    "# Standardised factor loadings\n",
    "result1.loadings"
   ]
  },
  {
   "cell_type": "code",
   "execution_count": 15,
   "id": "4d857c03",
   "metadata": {},
   "outputs": [
    {
     "data": {
      "text/plain": [
       "array([0.74185006, 0.81657162, 0.7467816 , 0.25644552, 0.71440633,\n",
       "       0.19115405, 0.7194984 , 0.58948512])"
      ]
     },
     "execution_count": 15,
     "metadata": {},
     "output_type": "execute_result"
    }
   ],
   "source": [
    "# Specific error variances, for standardised data\n",
    "result1.uniqueness"
   ]
  },
  {
   "cell_type": "code",
   "execution_count": 16,
   "id": "eb457264",
   "metadata": {},
   "outputs": [
    {
     "data": {
      "text/html": [
       "<div>\n",
       "<style scoped>\n",
       "    .dataframe tbody tr th:only-of-type {\n",
       "        vertical-align: middle;\n",
       "    }\n",
       "\n",
       "    .dataframe tbody tr th {\n",
       "        vertical-align: top;\n",
       "    }\n",
       "\n",
       "    .dataframe thead th {\n",
       "        text-align: right;\n",
       "    }\n",
       "</style>\n",
       "<table border=\"1\" class=\"dataframe\">\n",
       "  <thead>\n",
       "    <tr style=\"text-align: right;\">\n",
       "      <th></th>\n",
       "      <th>SEK.AX</th>\n",
       "      <th>TLS.AX</th>\n",
       "      <th>WOW.AX</th>\n",
       "      <th>WBC.AX</th>\n",
       "      <th>BHP.AX</th>\n",
       "      <th>CBA.AX</th>\n",
       "      <th>CPU.AX</th>\n",
       "      <th>WES.AX</th>\n",
       "    </tr>\n",
       "  </thead>\n",
       "  <tbody>\n",
       "    <tr>\n",
       "      <th>SER2</th>\n",
       "      <td>2.7989</td>\n",
       "      <td>1.1997</td>\n",
       "      <td>1.1262</td>\n",
       "      <td>0.5439</td>\n",
       "      <td>2.1602</td>\n",
       "      <td>0.3189</td>\n",
       "      <td>1.9606</td>\n",
       "      <td>0.9226</td>\n",
       "    </tr>\n",
       "    <tr>\n",
       "      <th>S2</th>\n",
       "      <td>3.7729</td>\n",
       "      <td>1.4691</td>\n",
       "      <td>1.5081</td>\n",
       "      <td>2.1209</td>\n",
       "      <td>3.0238</td>\n",
       "      <td>1.6681</td>\n",
       "      <td>2.7249</td>\n",
       "      <td>1.5650</td>\n",
       "    </tr>\n",
       "  </tbody>\n",
       "</table>\n",
       "</div>"
      ],
      "text/plain": [
       "      SEK.AX  TLS.AX  WOW.AX  WBC.AX  BHP.AX  CBA.AX  CPU.AX  WES.AX\n",
       "SER2  2.7989  1.1997  1.1262  0.5439  2.1602  0.3189  1.9606  0.9226\n",
       "S2    3.7729  1.4691  1.5081  2.1209  3.0238  1.6681  2.7249  1.5650"
      ]
     },
     "execution_count": 16,
     "metadata": {},
     "output_type": "execute_result"
    }
   ],
   "source": [
    "ser2 = result1.uniqueness * data.var()    # rescaled uniqueness for actual data\n",
    "tbl_var = pd.DataFrame({'SER2' : ser2.round(4),\n",
    "                       'S2': data.var().round(4)})\n",
    "tbl_var.T"
   ]
  },
  {
   "cell_type": "code",
   "execution_count": 17,
   "id": "6b6979f1",
   "metadata": {},
   "outputs": [
    {
     "data": {
      "text/html": [
       "<div>\n",
       "<style scoped>\n",
       "    .dataframe tbody tr th:only-of-type {\n",
       "        vertical-align: middle;\n",
       "    }\n",
       "\n",
       "    .dataframe tbody tr th {\n",
       "        vertical-align: top;\n",
       "    }\n",
       "\n",
       "    .dataframe thead th {\n",
       "        text-align: right;\n",
       "    }\n",
       "</style>\n",
       "<table border=\"1\" class=\"dataframe\">\n",
       "  <thead>\n",
       "    <tr style=\"text-align: right;\">\n",
       "      <th></th>\n",
       "      <th>SEK.AX</th>\n",
       "      <th>TLS.AX</th>\n",
       "      <th>WOW.AX</th>\n",
       "      <th>WBC.AX</th>\n",
       "      <th>BHP.AX</th>\n",
       "      <th>CBA.AX</th>\n",
       "      <th>CPU.AX</th>\n",
       "      <th>WES.AX</th>\n",
       "    </tr>\n",
       "  </thead>\n",
       "  <tbody>\n",
       "    <tr>\n",
       "      <th>r2</th>\n",
       "      <td>0.2581</td>\n",
       "      <td>0.1834</td>\n",
       "      <td>0.2532</td>\n",
       "      <td>0.7436</td>\n",
       "      <td>0.2856</td>\n",
       "      <td>0.8088</td>\n",
       "      <td>0.2805</td>\n",
       "      <td>0.4105</td>\n",
       "    </tr>\n",
       "    <tr>\n",
       "      <th>SER</th>\n",
       "      <td>1.6730</td>\n",
       "      <td>1.0953</td>\n",
       "      <td>1.0612</td>\n",
       "      <td>0.7375</td>\n",
       "      <td>1.4698</td>\n",
       "      <td>0.5647</td>\n",
       "      <td>1.4002</td>\n",
       "      <td>0.9605</td>\n",
       "    </tr>\n",
       "    <tr>\n",
       "      <th>s</th>\n",
       "      <td>1.9424</td>\n",
       "      <td>1.2121</td>\n",
       "      <td>1.2280</td>\n",
       "      <td>1.4563</td>\n",
       "      <td>1.7389</td>\n",
       "      <td>1.2915</td>\n",
       "      <td>1.6507</td>\n",
       "      <td>1.2510</td>\n",
       "    </tr>\n",
       "  </tbody>\n",
       "</table>\n",
       "</div>"
      ],
      "text/plain": [
       "     SEK.AX  TLS.AX  WOW.AX  WBC.AX  BHP.AX  CBA.AX  CPU.AX  WES.AX\n",
       "r2   0.2581  0.1834  0.2532  0.7436  0.2856  0.8088  0.2805  0.4105\n",
       "SER  1.6730  1.0953  1.0612  0.7375  1.4698  0.5647  1.4002  0.9605\n",
       "s    1.9424  1.2121  1.2280  1.4563  1.7389  1.2915  1.6507  1.2510"
      ]
     },
     "execution_count": 17,
     "metadata": {},
     "output_type": "execute_result"
    }
   ],
   "source": [
    "ser = np.sqrt(ser2)\n",
    "r2 = result1.communality \n",
    "tbl_r = pd.DataFrame({'r2': r2.round(4),\n",
    "                      'SER' : ser.round(4),\n",
    "                      's': data.std().round(4)})\n",
    "tbl_r.T"
   ]
  },
  {
   "cell_type": "code",
   "execution_count": 18,
   "id": "ec4b4df1",
   "metadata": {},
   "outputs": [
    {
     "data": {
      "text/plain": [
       "38.211965363227165"
      ]
     },
     "execution_count": 18,
     "metadata": {},
     "output_type": "execute_result"
    }
   ],
   "source": [
    "# overall amount of variance captured \n",
    "(np.trace(data.cov()) - np.sum(ser2)) / np.trace(data.cov()) *100"
   ]
  },
  {
   "cell_type": "code",
   "execution_count": 19,
   "id": "59296657",
   "metadata": {},
   "outputs": [
    {
     "data": {
      "text/plain": [
       "SEK.AX    0.534081\n",
       "TLS.AX    0.450199\n",
       "WOW.AX    0.528954\n",
       "WBC.AX    0.906415\n",
       "BHP.AX    0.561752\n",
       "CBA.AX    0.945374\n",
       "CPU.AX    0.556722\n",
       "WES.AX    0.673497\n",
       "Name: Score, dtype: float64"
      ]
     },
     "execution_count": 19,
     "metadata": {},
     "output_type": "execute_result"
    }
   ],
   "source": [
    "score = result1.factor_scoring(method='regression', transform=True)\n",
    "corr_f = data.copy()\n",
    "corr_f['Score'] = score\n",
    "corr_f.corr()['Score'][:8]"
   ]
  },
  {
   "cell_type": "code",
   "execution_count": 20,
   "id": "b5203346",
   "metadata": {},
   "outputs": [
    {
     "data": {
      "text/html": [
       "<div>\n",
       "<style scoped>\n",
       "    .dataframe tbody tr th:only-of-type {\n",
       "        vertical-align: middle;\n",
       "    }\n",
       "\n",
       "    .dataframe tbody tr th {\n",
       "        vertical-align: top;\n",
       "    }\n",
       "\n",
       "    .dataframe thead th {\n",
       "        text-align: right;\n",
       "    }\n",
       "</style>\n",
       "<table border=\"1\" class=\"dataframe\">\n",
       "  <thead>\n",
       "    <tr style=\"text-align: right;\">\n",
       "      <th></th>\n",
       "      <th>SEK.AX</th>\n",
       "      <th>TLS.AX</th>\n",
       "      <th>WOW.AX</th>\n",
       "      <th>WBC.AX</th>\n",
       "      <th>BHP.AX</th>\n",
       "      <th>CBA.AX</th>\n",
       "      <th>CPU.AX</th>\n",
       "      <th>WES.AX</th>\n",
       "    </tr>\n",
       "  </thead>\n",
       "  <tbody>\n",
       "    <tr>\n",
       "      <th>Correlation</th>\n",
       "      <td>0.5341</td>\n",
       "      <td>0.4502</td>\n",
       "      <td>0.5290</td>\n",
       "      <td>0.9064</td>\n",
       "      <td>0.5618</td>\n",
       "      <td>0.9454</td>\n",
       "      <td>0.5567</td>\n",
       "      <td>0.6735</td>\n",
       "    </tr>\n",
       "    <tr>\n",
       "      <th>Loading</th>\n",
       "      <td>0.9869</td>\n",
       "      <td>0.5191</td>\n",
       "      <td>0.6180</td>\n",
       "      <td>1.2558</td>\n",
       "      <td>0.9293</td>\n",
       "      <td>1.1615</td>\n",
       "      <td>0.8743</td>\n",
       "      <td>0.8015</td>\n",
       "    </tr>\n",
       "    <tr>\n",
       "      <th>r2</th>\n",
       "      <td>0.2581</td>\n",
       "      <td>0.1834</td>\n",
       "      <td>0.2532</td>\n",
       "      <td>0.7436</td>\n",
       "      <td>0.2856</td>\n",
       "      <td>0.8088</td>\n",
       "      <td>0.2805</td>\n",
       "      <td>0.4105</td>\n",
       "    </tr>\n",
       "  </tbody>\n",
       "</table>\n",
       "</div>"
      ],
      "text/plain": [
       "             SEK.AX  TLS.AX  WOW.AX  WBC.AX  BHP.AX  CBA.AX  CPU.AX  WES.AX\n",
       "Correlation  0.5341  0.4502  0.5290  0.9064  0.5618  0.9454  0.5567  0.6735\n",
       "Loading      0.9869  0.5191  0.6180  1.2558  0.9293  1.1615  0.8743  0.8015\n",
       "r2           0.2581  0.1834  0.2532  0.7436  0.2856  0.8088  0.2805  0.4105"
      ]
     },
     "execution_count": 20,
     "metadata": {},
     "output_type": "execute_result"
    }
   ],
   "source": [
    "tbl_corr = pd.DataFrame({'Correlation' : corr_f.corr()['Score'][:8].round(4),\n",
    "                      'Loading': (result1.loadings[:, 0] * data.std()).round(4),\n",
    "                      'r2': r2.round(4)})\n",
    "tbl_corr.T"
   ]
  },
  {
   "cell_type": "markdown",
   "id": "3803b313",
   "metadata": {},
   "source": [
    "There is a statistical test comparing the sample covariance matrix to the var- cov matrix estimated using the loadings and specific variances, under the ML estimation method.\n",
    "\n",
    "T is the total number of rows in the matrix and m is the number of factor. N is the number of columns in the matrix.\n",
    "\n",
    "The test statistic is:\n",
    "$$LR(m) = -[T - 1 - \\frac{2n + 5}{6} - \\frac{2m}{3}]\\left(\\ln\\lvert \\hat{\\Sigma} \\rvert - \\ln \\lvert\\hat{\\beta}\\hat{\\beta}'+\\hat{\\Psi}\\rvert\\right) $$\n",
    "which, under a null hypothesis that the number of factors equals m, follows a chi-squared distribution with $0.5[(n − m)^2 − n − m]$ degrees of freedom.\n",
    "\n",
    "Also it worths to mention that P-value calculated by chi-squared test is at 5% significance level which could be used as an indicator to show if rejection of null hypothesis."
   ]
  },
  {
   "cell_type": "code",
   "execution_count": 21,
   "id": "60e2c2b3",
   "metadata": {},
   "outputs": [
    {
     "data": {
      "text/html": [
       "<div>\n",
       "<style scoped>\n",
       "    .dataframe tbody tr th:only-of-type {\n",
       "        vertical-align: middle;\n",
       "    }\n",
       "\n",
       "    .dataframe tbody tr th {\n",
       "        vertical-align: top;\n",
       "    }\n",
       "\n",
       "    .dataframe thead th {\n",
       "        text-align: right;\n",
       "    }\n",
       "</style>\n",
       "<table border=\"1\" class=\"dataframe\">\n",
       "  <thead>\n",
       "    <tr style=\"text-align: right;\">\n",
       "      <th></th>\n",
       "      <th>SEK.AX</th>\n",
       "      <th>TLS.AX</th>\n",
       "      <th>WOW.AX</th>\n",
       "      <th>WBC.AX</th>\n",
       "      <th>BHP.AX</th>\n",
       "      <th>CBA.AX</th>\n",
       "      <th>CPU.AX</th>\n",
       "      <th>WES.AX</th>\n",
       "    </tr>\n",
       "  </thead>\n",
       "  <tbody>\n",
       "    <tr>\n",
       "      <th>Correlation</th>\n",
       "      <td>0.5341</td>\n",
       "      <td>0.4502</td>\n",
       "      <td>0.5290</td>\n",
       "      <td>0.9064</td>\n",
       "      <td>0.5618</td>\n",
       "      <td>0.9454</td>\n",
       "      <td>0.5567</td>\n",
       "      <td>0.6735</td>\n",
       "    </tr>\n",
       "    <tr>\n",
       "      <th>Loading</th>\n",
       "      <td>0.9869</td>\n",
       "      <td>0.5191</td>\n",
       "      <td>0.6180</td>\n",
       "      <td>1.2558</td>\n",
       "      <td>0.9293</td>\n",
       "      <td>1.1615</td>\n",
       "      <td>0.8743</td>\n",
       "      <td>0.8015</td>\n",
       "    </tr>\n",
       "    <tr>\n",
       "      <th>r2</th>\n",
       "      <td>0.2581</td>\n",
       "      <td>0.1834</td>\n",
       "      <td>0.2532</td>\n",
       "      <td>0.7436</td>\n",
       "      <td>0.2856</td>\n",
       "      <td>0.8088</td>\n",
       "      <td>0.2805</td>\n",
       "      <td>0.4105</td>\n",
       "    </tr>\n",
       "  </tbody>\n",
       "</table>\n",
       "</div>"
      ],
      "text/plain": [
       "             SEK.AX  TLS.AX  WOW.AX  WBC.AX  BHP.AX  CBA.AX  CPU.AX  WES.AX\n",
       "Correlation  0.5341  0.4502  0.5290  0.9064  0.5618  0.9454  0.5567  0.6735\n",
       "Loading      0.9869  0.5191  0.6180  1.2558  0.9293  1.1615  0.8743  0.8015\n",
       "r2           0.2581  0.1834  0.2532  0.7436  0.2856  0.8088  0.2805  0.4105"
      ]
     },
     "execution_count": 21,
     "metadata": {},
     "output_type": "execute_result"
    }
   ],
   "source": [
    "tbl_corr = pd.DataFrame({'Correlation' : corr_f.corr()['Score'][:8].round(4),\n",
    "                      'Loading': (result1.loadings[:, 0] * data.std()).round(4),\n",
    "                      'r2': r2.round(4)})\n",
    "tbl_corr.T"
   ]
  },
  {
   "cell_type": "code",
   "execution_count": 22,
   "id": "1e3c7459",
   "metadata": {},
   "outputs": [
    {
     "data": {
      "text/plain": [
       "array([[1.00000022, 0.21760527, 0.2556722 , 0.4381194 , 0.27152522,\n",
       "        0.45695036, 0.26909401, 0.32553719],\n",
       "       [0.21760527, 0.99999995, 0.2155165 , 0.36930865, 0.22887965,\n",
       "        0.38518204, 0.22683028, 0.27440853],\n",
       "       [0.2556722 , 0.2155165 , 0.99999964, 0.43391393, 0.26891887,\n",
       "        0.45256414, 0.266511  , 0.32241239],\n",
       "       [0.4381194 , 0.36930865, 0.43391393, 0.99999959, 0.46081886,\n",
       "        0.77551304, 0.45669273, 0.55248524],\n",
       "       [0.27152522, 0.22887965, 0.26891887, 0.46081886, 0.99999958,\n",
       "        0.48062548, 0.28303607, 0.34240364],\n",
       "       [0.45695036, 0.38518204, 0.45256414, 0.77551304, 0.48062548,\n",
       "        0.99999969, 0.47632201, 0.57623181],\n",
       "       [0.26909401, 0.22683028, 0.266511  , 0.45669273, 0.28303607,\n",
       "        0.47632201, 1.00000019, 0.33933779],\n",
       "       [0.32553719, 0.27440853, 0.32241239, 0.55248524, 0.34240364,\n",
       "        0.57623181, 0.33933779, 0.99999991]])"
      ]
     },
     "execution_count": 22,
     "metadata": {},
     "output_type": "execute_result"
    }
   ],
   "source": [
    "# show fitted correlation matrix using factor loadings and uniquenesss for statndardised data\n",
    "result1.fitted_cov"
   ]
  },
  {
   "cell_type": "code",
   "execution_count": 23,
   "id": "2d312bda",
   "metadata": {},
   "outputs": [
    {
     "data": {
      "text/html": [
       "<div>\n",
       "<style scoped>\n",
       "    .dataframe tbody tr th:only-of-type {\n",
       "        vertical-align: middle;\n",
       "    }\n",
       "\n",
       "    .dataframe tbody tr th {\n",
       "        vertical-align: top;\n",
       "    }\n",
       "\n",
       "    .dataframe thead th {\n",
       "        text-align: right;\n",
       "    }\n",
       "</style>\n",
       "<table border=\"1\" class=\"dataframe\">\n",
       "  <thead>\n",
       "    <tr style=\"text-align: right;\">\n",
       "      <th></th>\n",
       "      <th>SEK.AX</th>\n",
       "      <th>TLS.AX</th>\n",
       "      <th>WOW.AX</th>\n",
       "      <th>WBC.AX</th>\n",
       "      <th>BHP.AX</th>\n",
       "      <th>CBA.AX</th>\n",
       "      <th>CPU.AX</th>\n",
       "      <th>WES.AX</th>\n",
       "    </tr>\n",
       "  </thead>\n",
       "  <tbody>\n",
       "    <tr>\n",
       "      <th>SEK.AX</th>\n",
       "      <td>1.000000</td>\n",
       "      <td>0.248854</td>\n",
       "      <td>0.283541</td>\n",
       "      <td>0.408716</td>\n",
       "      <td>0.302142</td>\n",
       "      <td>0.426250</td>\n",
       "      <td>0.393812</td>\n",
       "      <td>0.411498</td>\n",
       "    </tr>\n",
       "    <tr>\n",
       "      <th>TLS.AX</th>\n",
       "      <td>0.248854</td>\n",
       "      <td>1.000000</td>\n",
       "      <td>0.329230</td>\n",
       "      <td>0.319282</td>\n",
       "      <td>0.252061</td>\n",
       "      <td>0.365163</td>\n",
       "      <td>0.235171</td>\n",
       "      <td>0.404038</td>\n",
       "    </tr>\n",
       "    <tr>\n",
       "      <th>WOW.AX</th>\n",
       "      <td>0.283541</td>\n",
       "      <td>0.329230</td>\n",
       "      <td>1.000000</td>\n",
       "      <td>0.360779</td>\n",
       "      <td>0.304038</td>\n",
       "      <td>0.432953</td>\n",
       "      <td>0.269044</td>\n",
       "      <td>0.535238</td>\n",
       "    </tr>\n",
       "    <tr>\n",
       "      <th>WBC.AX</th>\n",
       "      <td>0.408716</td>\n",
       "      <td>0.319282</td>\n",
       "      <td>0.360779</td>\n",
       "      <td>1.000000</td>\n",
       "      <td>0.455933</td>\n",
       "      <td>0.810494</td>\n",
       "      <td>0.447117</td>\n",
       "      <td>0.498923</td>\n",
       "    </tr>\n",
       "    <tr>\n",
       "      <th>BHP.AX</th>\n",
       "      <td>0.302142</td>\n",
       "      <td>0.252061</td>\n",
       "      <td>0.304038</td>\n",
       "      <td>0.455933</td>\n",
       "      <td>1.000000</td>\n",
       "      <td>0.456409</td>\n",
       "      <td>0.363663</td>\n",
       "      <td>0.355493</td>\n",
       "    </tr>\n",
       "    <tr>\n",
       "      <th>CBA.AX</th>\n",
       "      <td>0.426250</td>\n",
       "      <td>0.365163</td>\n",
       "      <td>0.432953</td>\n",
       "      <td>0.810494</td>\n",
       "      <td>0.456409</td>\n",
       "      <td>1.000000</td>\n",
       "      <td>0.442096</td>\n",
       "      <td>0.549025</td>\n",
       "    </tr>\n",
       "    <tr>\n",
       "      <th>CPU.AX</th>\n",
       "      <td>0.393812</td>\n",
       "      <td>0.235171</td>\n",
       "      <td>0.269044</td>\n",
       "      <td>0.447117</td>\n",
       "      <td>0.363663</td>\n",
       "      <td>0.442096</td>\n",
       "      <td>1.000000</td>\n",
       "      <td>0.377440</td>\n",
       "    </tr>\n",
       "    <tr>\n",
       "      <th>WES.AX</th>\n",
       "      <td>0.411498</td>\n",
       "      <td>0.404038</td>\n",
       "      <td>0.535238</td>\n",
       "      <td>0.498923</td>\n",
       "      <td>0.355493</td>\n",
       "      <td>0.549025</td>\n",
       "      <td>0.377440</td>\n",
       "      <td>1.000000</td>\n",
       "    </tr>\n",
       "  </tbody>\n",
       "</table>\n",
       "</div>"
      ],
      "text/plain": [
       "          SEK.AX    TLS.AX    WOW.AX    WBC.AX    BHP.AX    CBA.AX    CPU.AX  \\\n",
       "SEK.AX  1.000000  0.248854  0.283541  0.408716  0.302142  0.426250  0.393812   \n",
       "TLS.AX  0.248854  1.000000  0.329230  0.319282  0.252061  0.365163  0.235171   \n",
       "WOW.AX  0.283541  0.329230  1.000000  0.360779  0.304038  0.432953  0.269044   \n",
       "WBC.AX  0.408716  0.319282  0.360779  1.000000  0.455933  0.810494  0.447117   \n",
       "BHP.AX  0.302142  0.252061  0.304038  0.455933  1.000000  0.456409  0.363663   \n",
       "CBA.AX  0.426250  0.365163  0.432953  0.810494  0.456409  1.000000  0.442096   \n",
       "CPU.AX  0.393812  0.235171  0.269044  0.447117  0.363663  0.442096  1.000000   \n",
       "WES.AX  0.411498  0.404038  0.535238  0.498923  0.355493  0.549025  0.377440   \n",
       "\n",
       "          WES.AX  \n",
       "SEK.AX  0.411498  \n",
       "TLS.AX  0.404038  \n",
       "WOW.AX  0.535238  \n",
       "WBC.AX  0.498923  \n",
       "BHP.AX  0.355493  \n",
       "CBA.AX  0.549025  \n",
       "CPU.AX  0.377440  \n",
       "WES.AX  1.000000  "
      ]
     },
     "execution_count": 23,
     "metadata": {},
     "output_type": "execute_result"
    }
   ],
   "source": [
    "x = (data - data.mean()) / data.std()\n",
    "x.cov()"
   ]
  },
  {
   "cell_type": "code",
   "execution_count": 24,
   "id": "28edaf3b",
   "metadata": {},
   "outputs": [],
   "source": [
    "ll = np.log(np.linalg.det(x.cov())) - np.log(np.linalg.det(result1.fitted_cov))"
   ]
  },
  {
   "cell_type": "code",
   "execution_count": 25,
   "id": "b460b996",
   "metadata": {},
   "outputs": [
    {
     "data": {
      "text/plain": [
       "967.9602831509933"
      ]
     },
     "execution_count": 25,
     "metadata": {},
     "output_type": "execute_result"
    }
   ],
   "source": [
    "m = 1\n",
    "T = data.shape[0]\n",
    "n = data.shape[1]\n",
    "lr = -(T - 1 - (2 * n + 5) / 6 - 2 * m / 3) * ll\n",
    "lr"
   ]
  },
  {
   "cell_type": "code",
   "execution_count": 26,
   "id": "34cd53f5",
   "metadata": {},
   "outputs": [
    {
     "data": {
      "text/plain": [
       "21.0"
      ]
     },
     "execution_count": 26,
     "metadata": {},
     "output_type": "execute_result"
    }
   ],
   "source": [
    "df = 0.5 * ((n - m) **2 - (n - m)) \n",
    "df"
   ]
  },
  {
   "cell_type": "code",
   "execution_count": 27,
   "id": "6b5b0bf2",
   "metadata": {},
   "outputs": [
    {
     "data": {
      "text/plain": [
       "1.8629940230393437e-191"
      ]
     },
     "execution_count": 27,
     "metadata": {},
     "output_type": "execute_result"
    }
   ],
   "source": [
    "stats.chi2.sf(lr, df)"
   ]
  },
  {
   "cell_type": "code",
   "execution_count": 28,
   "id": "774e0ff0",
   "metadata": {},
   "outputs": [],
   "source": [
    "fm2 = Factor(endog=data, n_factor=2, method='ml')\n",
    "result2 = fm2.fit()"
   ]
  },
  {
   "cell_type": "code",
   "execution_count": 29,
   "id": "310ffedf",
   "metadata": {},
   "outputs": [
    {
     "data": {
      "text/plain": [
       "array([[ 0.49920246,  0.17770483],\n",
       "       [ 0.42045839,  0.27988231],\n",
       "       [ 0.50034281,  0.42978569],\n",
       "       [ 0.9067052 , -0.21103147],\n",
       "       [ 0.52611929,  0.08205594],\n",
       "       [ 0.88155005, -0.04627889],\n",
       "       [ 0.52181313,  0.10437264],\n",
       "       [ 0.65211009,  0.45883578]])"
      ]
     },
     "execution_count": 29,
     "metadata": {},
     "output_type": "execute_result"
    }
   ],
   "source": [
    "result2.loadings"
   ]
  },
  {
   "cell_type": "markdown",
   "id": "f0da86d6",
   "metadata": {},
   "source": [
    "### Question 5"
   ]
  },
  {
   "cell_type": "markdown",
   "id": "8b60230b",
   "metadata": {},
   "source": [
    "The table below indicates the actual factor loadings, showing how much each factor relates to each variable after getting standardized. Factor loading refers to the beta which could be changed on different assets and factors remains the same for each asset. Specific error variances (SER) gets standarized to show how much variance can not be explained by model. Commonality captures the common variance. \n",
    "\n",
    "The actual loading for Factor 1 is mostly postive except for BHP, showing it closed to market trend. Actual loadings for Factor 2 show negetive values for all assets which has a contrasting effect with market trend. "
   ]
  },
  {
   "cell_type": "code",
   "execution_count": 30,
   "id": "1d796fa3",
   "metadata": {},
   "outputs": [
    {
     "data": {
      "text/html": [
       "<div>\n",
       "<style scoped>\n",
       "    .dataframe tbody tr th:only-of-type {\n",
       "        vertical-align: middle;\n",
       "    }\n",
       "\n",
       "    .dataframe tbody tr th {\n",
       "        vertical-align: top;\n",
       "    }\n",
       "\n",
       "    .dataframe thead th {\n",
       "        text-align: right;\n",
       "    }\n",
       "</style>\n",
       "<table border=\"1\" class=\"dataframe\">\n",
       "  <thead>\n",
       "    <tr style=\"text-align: right;\">\n",
       "      <th></th>\n",
       "      <th>Factor 1</th>\n",
       "      <th>Factor 2</th>\n",
       "    </tr>\n",
       "  </thead>\n",
       "  <tbody>\n",
       "    <tr>\n",
       "      <th>SEK.AX</th>\n",
       "      <td>0.9697</td>\n",
       "      <td>0.3452</td>\n",
       "    </tr>\n",
       "    <tr>\n",
       "      <th>TLS.AX</th>\n",
       "      <td>0.5096</td>\n",
       "      <td>0.3392</td>\n",
       "    </tr>\n",
       "    <tr>\n",
       "      <th>WOW.AX</th>\n",
       "      <td>0.6144</td>\n",
       "      <td>0.5278</td>\n",
       "    </tr>\n",
       "    <tr>\n",
       "      <th>WBC.AX</th>\n",
       "      <td>1.3205</td>\n",
       "      <td>-0.3073</td>\n",
       "    </tr>\n",
       "    <tr>\n",
       "      <th>BHP.AX</th>\n",
       "      <td>0.9149</td>\n",
       "      <td>0.1427</td>\n",
       "    </tr>\n",
       "    <tr>\n",
       "      <th>CBA.AX</th>\n",
       "      <td>1.1385</td>\n",
       "      <td>-0.0598</td>\n",
       "    </tr>\n",
       "    <tr>\n",
       "      <th>CPU.AX</th>\n",
       "      <td>0.8614</td>\n",
       "      <td>0.1723</td>\n",
       "    </tr>\n",
       "    <tr>\n",
       "      <th>WES.AX</th>\n",
       "      <td>0.8158</td>\n",
       "      <td>0.5740</td>\n",
       "    </tr>\n",
       "  </tbody>\n",
       "</table>\n",
       "</div>"
      ],
      "text/plain": [
       "        Factor 1  Factor 2\n",
       "SEK.AX    0.9697    0.3452\n",
       "TLS.AX    0.5096    0.3392\n",
       "WOW.AX    0.6144    0.5278\n",
       "WBC.AX    1.3205   -0.3073\n",
       "BHP.AX    0.9149    0.1427\n",
       "CBA.AX    1.1385   -0.0598\n",
       "CPU.AX    0.8614    0.1723\n",
       "WES.AX    0.8158    0.5740"
      ]
     },
     "execution_count": 30,
     "metadata": {},
     "output_type": "execute_result"
    }
   ],
   "source": [
    "# Actual loadings\n",
    "tbl_loading2 = pd.DataFrame({'Factor 1': round(result2.loadings[:,0] * data.std(), 4),\n",
    "                             'Factor 2': round(result2.loadings[:,1] * data.std(), 4)})\n",
    "tbl_loading2"
   ]
  },
  {
   "cell_type": "code",
   "execution_count": 31,
   "id": "a87f2106",
   "metadata": {},
   "outputs": [
    {
     "name": "stdout",
     "output_type": "stream",
     "text": [
      "[0.71921774 0.74488072 0.5649412  0.13335133 0.71646526 0.22072755\n",
      " 0.71681743 0.364222  ]\n"
     ]
    },
    {
     "data": {
      "text/plain": [
       "SEK.AX    2.713551\n",
       "TLS.AX    1.094340\n",
       "WOW.AX    0.851972\n",
       "WBC.AX    0.282823\n",
       "BHP.AX    2.166436\n",
       "CBA.AX    0.368185\n",
       "CPU.AX    1.953290\n",
       "WES.AX    0.570013\n",
       "dtype: float64"
      ]
     },
     "execution_count": 31,
     "metadata": {},
     "output_type": "execute_result"
    }
   ],
   "source": [
    "# Specific error variances\n",
    "print(result2.uniqueness)\n",
    "ser2_2 = result2.uniqueness * data.var()\n",
    "ser2_2"
   ]
  },
  {
   "cell_type": "code",
   "execution_count": 32,
   "id": "8a2f0d40",
   "metadata": {},
   "outputs": [
    {
     "data": {
      "text/html": [
       "<div>\n",
       "<style scoped>\n",
       "    .dataframe tbody tr th:only-of-type {\n",
       "        vertical-align: middle;\n",
       "    }\n",
       "\n",
       "    .dataframe tbody tr th {\n",
       "        vertical-align: top;\n",
       "    }\n",
       "\n",
       "    .dataframe thead th {\n",
       "        text-align: right;\n",
       "    }\n",
       "</style>\n",
       "<table border=\"1\" class=\"dataframe\">\n",
       "  <thead>\n",
       "    <tr style=\"text-align: right;\">\n",
       "      <th></th>\n",
       "      <th>SEK.AX</th>\n",
       "      <th>TLS.AX</th>\n",
       "      <th>WOW.AX</th>\n",
       "      <th>WBC.AX</th>\n",
       "      <th>BHP.AX</th>\n",
       "      <th>CBA.AX</th>\n",
       "      <th>CPU.AX</th>\n",
       "      <th>WES.AX</th>\n",
       "    </tr>\n",
       "  </thead>\n",
       "  <tbody>\n",
       "    <tr>\n",
       "      <th>m = 1</th>\n",
       "      <td>2.7989</td>\n",
       "      <td>1.1997</td>\n",
       "      <td>1.1262</td>\n",
       "      <td>0.5439</td>\n",
       "      <td>2.1602</td>\n",
       "      <td>0.3189</td>\n",
       "      <td>1.9606</td>\n",
       "      <td>0.9226</td>\n",
       "    </tr>\n",
       "    <tr>\n",
       "      <th>m = 2</th>\n",
       "      <td>2.7136</td>\n",
       "      <td>1.0943</td>\n",
       "      <td>0.8520</td>\n",
       "      <td>0.2828</td>\n",
       "      <td>2.1664</td>\n",
       "      <td>0.3682</td>\n",
       "      <td>1.9533</td>\n",
       "      <td>0.5700</td>\n",
       "    </tr>\n",
       "  </tbody>\n",
       "</table>\n",
       "</div>"
      ],
      "text/plain": [
       "       SEK.AX  TLS.AX  WOW.AX  WBC.AX  BHP.AX  CBA.AX  CPU.AX  WES.AX\n",
       "m = 1  2.7989  1.1997  1.1262  0.5439  2.1602  0.3189  1.9606  0.9226\n",
       "m = 2  2.7136  1.0943  0.8520  0.2828  2.1664  0.3682  1.9533  0.5700"
      ]
     },
     "execution_count": 32,
     "metadata": {},
     "output_type": "execute_result"
    }
   ],
   "source": [
    "tbl_var2 = pd.DataFrame({'m = 1': ser2.round(4),\n",
    "                         'm = 2': ser2_2.round(4)})\n",
    "tbl_var2.T"
   ]
  },
  {
   "cell_type": "code",
   "execution_count": 33,
   "id": "2cf9878a",
   "metadata": {},
   "outputs": [
    {
     "data": {
      "text/html": [
       "<div>\n",
       "<style scoped>\n",
       "    .dataframe tbody tr th:only-of-type {\n",
       "        vertical-align: middle;\n",
       "    }\n",
       "\n",
       "    .dataframe tbody tr th {\n",
       "        vertical-align: top;\n",
       "    }\n",
       "\n",
       "    .dataframe thead th {\n",
       "        text-align: right;\n",
       "    }\n",
       "</style>\n",
       "<table border=\"1\" class=\"dataframe\">\n",
       "  <thead>\n",
       "    <tr style=\"text-align: right;\">\n",
       "      <th></th>\n",
       "      <th>SEK.AX</th>\n",
       "      <th>TLS.AX</th>\n",
       "      <th>WOW.AX</th>\n",
       "      <th>WBC.AX</th>\n",
       "      <th>BHP.AX</th>\n",
       "      <th>CBA.AX</th>\n",
       "      <th>CPU.AX</th>\n",
       "      <th>WES.AX</th>\n",
       "    </tr>\n",
       "  </thead>\n",
       "  <tbody>\n",
       "    <tr>\n",
       "      <th>s</th>\n",
       "      <td>1.9424</td>\n",
       "      <td>1.2121</td>\n",
       "      <td>1.2280</td>\n",
       "      <td>1.4563</td>\n",
       "      <td>1.7389</td>\n",
       "      <td>1.2915</td>\n",
       "      <td>1.6507</td>\n",
       "      <td>1.2510</td>\n",
       "    </tr>\n",
       "    <tr>\n",
       "      <th>SER (m=1)</th>\n",
       "      <td>1.6730</td>\n",
       "      <td>1.0953</td>\n",
       "      <td>1.0612</td>\n",
       "      <td>0.7375</td>\n",
       "      <td>1.4698</td>\n",
       "      <td>0.5647</td>\n",
       "      <td>1.4002</td>\n",
       "      <td>0.9605</td>\n",
       "    </tr>\n",
       "    <tr>\n",
       "      <th>SER (m=2)</th>\n",
       "      <td>1.6473</td>\n",
       "      <td>1.0461</td>\n",
       "      <td>0.9230</td>\n",
       "      <td>0.5318</td>\n",
       "      <td>1.4719</td>\n",
       "      <td>0.6068</td>\n",
       "      <td>1.3976</td>\n",
       "      <td>0.7550</td>\n",
       "    </tr>\n",
       "    <tr>\n",
       "      <th>r2 (m=1)</th>\n",
       "      <td>0.2581</td>\n",
       "      <td>0.1834</td>\n",
       "      <td>0.2532</td>\n",
       "      <td>0.7436</td>\n",
       "      <td>0.2856</td>\n",
       "      <td>0.8088</td>\n",
       "      <td>0.2805</td>\n",
       "      <td>0.4105</td>\n",
       "    </tr>\n",
       "    <tr>\n",
       "      <th>r2 (m=2)</th>\n",
       "      <td>0.2808</td>\n",
       "      <td>0.2551</td>\n",
       "      <td>0.4351</td>\n",
       "      <td>0.8666</td>\n",
       "      <td>0.2835</td>\n",
       "      <td>0.7793</td>\n",
       "      <td>0.2832</td>\n",
       "      <td>0.6358</td>\n",
       "    </tr>\n",
       "  </tbody>\n",
       "</table>\n",
       "</div>"
      ],
      "text/plain": [
       "           SEK.AX  TLS.AX  WOW.AX  WBC.AX  BHP.AX  CBA.AX  CPU.AX  WES.AX\n",
       "s          1.9424  1.2121  1.2280  1.4563  1.7389  1.2915  1.6507  1.2510\n",
       "SER (m=1)  1.6730  1.0953  1.0612  0.7375  1.4698  0.5647  1.4002  0.9605\n",
       "SER (m=2)  1.6473  1.0461  0.9230  0.5318  1.4719  0.6068  1.3976  0.7550\n",
       "r2 (m=1)   0.2581  0.1834  0.2532  0.7436  0.2856  0.8088  0.2805  0.4105\n",
       "r2 (m=2)   0.2808  0.2551  0.4351  0.8666  0.2835  0.7793  0.2832  0.6358"
      ]
     },
     "execution_count": 33,
     "metadata": {},
     "output_type": "execute_result"
    }
   ],
   "source": [
    "ser_2 = np.sqrt(ser2_2)\n",
    "r2_2 = result2.communality \n",
    "tbl_r_2 = pd.DataFrame({'s': data.std().round(4),\n",
    "                        'SER (m=1)' : ser.round(4),\n",
    "                        'SER (m=2)' : ser_2.round(4),\n",
    "                        'r2 (m=1)': r2.round(4),\n",
    "                        'r2 (m=2)': r2_2.round(4)})\n",
    "tbl_r_2.T"
   ]
  },
  {
   "cell_type": "code",
   "execution_count": 34,
   "id": "52de41ad",
   "metadata": {},
   "outputs": [
    {
     "data": {
      "text/plain": [
       "43.98304925440166"
      ]
     },
     "execution_count": 34,
     "metadata": {},
     "output_type": "execute_result"
    }
   ],
   "source": [
    "# overall amount of variance captured \n",
    "(np.trace(data.cov()) - np.sum(ser2_2)) / np.trace(data.cov()) *100"
   ]
  },
  {
   "cell_type": "code",
   "execution_count": 35,
   "id": "31050571",
   "metadata": {},
   "outputs": [
    {
     "data": {
      "text/plain": [
       "array([[0.99999984, 0.2596303 , 0.32614736, 0.41512816, 0.27722178,\n",
       "        0.43184797, 0.27903792, 0.4070723 ],\n",
       "       [0.2596303 , 1.00000008, 0.33066274, 0.32216784, 0.24417727,\n",
       "        0.35770247, 0.24861276, 0.40260517],\n",
       "       [0.32614736, 0.33066274, 0.99999987, 0.36296512, 0.29850647,\n",
       "        0.42118722, 0.30594331, 0.52347965],\n",
       "       [0.41512816, 0.32216784, 0.36296512, 0.99999994, 0.45971871,\n",
       "        0.80907232, 0.45110477, 0.49444283],\n",
       "       [0.27722178, 0.24417727, 0.29850647, 0.45971871, 0.99999995,\n",
       "        0.46000303, 0.28310034, 0.3807379 ],\n",
       "       [0.43184797, 0.35770247, 0.42118722, 0.80907232, 0.46000303,\n",
       "        0.99999978, 0.45517414, 0.55363327],\n",
       "       [0.27903792, 0.24861276, 0.30594331, 0.45110477, 0.28310034,\n",
       "        0.45517414, 1.00000001, 0.3881695 ],\n",
       "       [0.4070723 , 0.40260517, 0.52347965, 0.49444283, 0.3807379 ,\n",
       "        0.55363327, 0.3881695 , 0.99999984]])"
      ]
     },
     "execution_count": 35,
     "metadata": {},
     "output_type": "execute_result"
    }
   ],
   "source": [
    "result2.fitted_cov"
   ]
  },
  {
   "cell_type": "markdown",
   "id": "207bf974",
   "metadata": {},
   "source": [
    "### Question 6"
   ]
  },
  {
   "cell_type": "markdown",
   "id": "0e587ce0",
   "metadata": {},
   "source": [
    "The factor loadings are mostly positive except for one and relatively similar in magnitude, suggesting the returns are similarly positively related to the underlying factor. This suggests the underlying 1st factor behaves like a market factor. The second factor loadings contain some negative values which shows it captures some negative returns. \n",
    "\n",
    "This interpretation is supported by the plot above showing that the estimated factors, in the middle plot, captures most of the up  movements that seem similar in 8 assets' return  series in the top plot. i.e. when most series have larger positive returns, the factor is also positive. The factor follows the general, shared mainly upwards movements of the 8 return series. 2nd Factor in the bottom plots then shows a contrasting effect compared to the first factor. It captures the opposite downwards movements that 8 log returns series contain. "
   ]
  },
  {
   "cell_type": "code",
   "execution_count": 36,
   "id": "89cf8795",
   "metadata": {},
   "outputs": [
    {
     "data": {
      "image/png": "[encoded data removed]",
      "text/plain": [
       "<Figure size 720x576 with 3 Axes>"
      ]
     },
     "metadata": {
      "needs_background": "light"
     },
     "output_type": "display_data"
    }
   ],
   "source": [
    "score_2 = result2.factor_scoring(method='regression', transform=True)\n",
    "fig, ax = plt.subplots(3, 1, figsize=(10, 8))\n",
    "data.plot(ax=ax[0])\n",
    "ax[0].set_title('8 Asset Returns')\n",
    "ax[0].legend(loc='best', ncol=5, fontsize=12)\n",
    "ax[1].plot(score_2[:,0] * (-1))\n",
    "ax[1].set_title('1st Factor')\n",
    "ax[2].plot(score_2[:,1])\n",
    "ax[2].set_title('2st Factor')\n",
    "plt.tight_layout()\n",
    "plt.show()"
   ]
  },
  {
   "cell_type": "code",
   "execution_count": 37,
   "id": "6a0bfe43",
   "metadata": {},
   "outputs": [
    {
     "data": {
      "text/html": [
       "<div>\n",
       "<style scoped>\n",
       "    .dataframe tbody tr th:only-of-type {\n",
       "        vertical-align: middle;\n",
       "    }\n",
       "\n",
       "    .dataframe tbody tr th {\n",
       "        vertical-align: top;\n",
       "    }\n",
       "\n",
       "    .dataframe thead th {\n",
       "        text-align: right;\n",
       "    }\n",
       "</style>\n",
       "<table border=\"1\" class=\"dataframe\">\n",
       "  <thead>\n",
       "    <tr style=\"text-align: right;\">\n",
       "      <th></th>\n",
       "      <th>SEK.AX</th>\n",
       "      <th>TLS.AX</th>\n",
       "      <th>WOW.AX</th>\n",
       "      <th>WBC.AX</th>\n",
       "      <th>BHP.AX</th>\n",
       "      <th>CBA.AX</th>\n",
       "      <th>CPU.AX</th>\n",
       "      <th>WES.AX</th>\n",
       "      <th>Factor 1</th>\n",
       "      <th>Factor 2</th>\n",
       "    </tr>\n",
       "  </thead>\n",
       "  <tbody>\n",
       "    <tr>\n",
       "      <th>SEK.AX</th>\n",
       "      <td>1.0000</td>\n",
       "      <td>0.2489</td>\n",
       "      <td>0.2835</td>\n",
       "      <td>0.4087</td>\n",
       "      <td>0.3021</td>\n",
       "      <td>0.4263</td>\n",
       "      <td>0.3938</td>\n",
       "      <td>0.4115</td>\n",
       "      <td>-0.5186</td>\n",
       "      <td>0.2319</td>\n",
       "    </tr>\n",
       "    <tr>\n",
       "      <th>TLS.AX</th>\n",
       "      <td>0.2489</td>\n",
       "      <td>1.0000</td>\n",
       "      <td>0.3292</td>\n",
       "      <td>0.3193</td>\n",
       "      <td>0.2521</td>\n",
       "      <td>0.3652</td>\n",
       "      <td>0.2352</td>\n",
       "      <td>0.4040</td>\n",
       "      <td>-0.4368</td>\n",
       "      <td>0.3653</td>\n",
       "    </tr>\n",
       "    <tr>\n",
       "      <th>WOW.AX</th>\n",
       "      <td>0.2835</td>\n",
       "      <td>0.3292</td>\n",
       "      <td>1.0000</td>\n",
       "      <td>0.3608</td>\n",
       "      <td>0.3040</td>\n",
       "      <td>0.4330</td>\n",
       "      <td>0.2690</td>\n",
       "      <td>0.5352</td>\n",
       "      <td>-0.5197</td>\n",
       "      <td>0.5609</td>\n",
       "    </tr>\n",
       "    <tr>\n",
       "      <th>WBC.AX</th>\n",
       "      <td>0.4087</td>\n",
       "      <td>0.3193</td>\n",
       "      <td>0.3608</td>\n",
       "      <td>1.0000</td>\n",
       "      <td>0.4559</td>\n",
       "      <td>0.8105</td>\n",
       "      <td>0.4471</td>\n",
       "      <td>0.4989</td>\n",
       "      <td>-0.9419</td>\n",
       "      <td>-0.2754</td>\n",
       "    </tr>\n",
       "    <tr>\n",
       "      <th>BHP.AX</th>\n",
       "      <td>0.3021</td>\n",
       "      <td>0.2521</td>\n",
       "      <td>0.3040</td>\n",
       "      <td>0.4559</td>\n",
       "      <td>1.0000</td>\n",
       "      <td>0.4564</td>\n",
       "      <td>0.3637</td>\n",
       "      <td>0.3555</td>\n",
       "      <td>-0.5465</td>\n",
       "      <td>0.1071</td>\n",
       "    </tr>\n",
       "    <tr>\n",
       "      <th>CBA.AX</th>\n",
       "      <td>0.4263</td>\n",
       "      <td>0.3652</td>\n",
       "      <td>0.4330</td>\n",
       "      <td>0.8105</td>\n",
       "      <td>0.4564</td>\n",
       "      <td>1.0000</td>\n",
       "      <td>0.4421</td>\n",
       "      <td>0.5490</td>\n",
       "      <td>-0.9157</td>\n",
       "      <td>-0.0604</td>\n",
       "    </tr>\n",
       "    <tr>\n",
       "      <th>CPU.AX</th>\n",
       "      <td>0.3938</td>\n",
       "      <td>0.2352</td>\n",
       "      <td>0.2690</td>\n",
       "      <td>0.4471</td>\n",
       "      <td>0.3637</td>\n",
       "      <td>0.4421</td>\n",
       "      <td>1.0000</td>\n",
       "      <td>0.3774</td>\n",
       "      <td>-0.5421</td>\n",
       "      <td>0.1362</td>\n",
       "    </tr>\n",
       "    <tr>\n",
       "      <th>WES.AX</th>\n",
       "      <td>0.4115</td>\n",
       "      <td>0.4040</td>\n",
       "      <td>0.5352</td>\n",
       "      <td>0.4989</td>\n",
       "      <td>0.3555</td>\n",
       "      <td>0.5490</td>\n",
       "      <td>0.3774</td>\n",
       "      <td>1.0000</td>\n",
       "      <td>-0.6774</td>\n",
       "      <td>0.5988</td>\n",
       "    </tr>\n",
       "    <tr>\n",
       "      <th>Factor 1</th>\n",
       "      <td>-0.5186</td>\n",
       "      <td>-0.4368</td>\n",
       "      <td>-0.5197</td>\n",
       "      <td>-0.9419</td>\n",
       "      <td>-0.5465</td>\n",
       "      <td>-0.9157</td>\n",
       "      <td>-0.5421</td>\n",
       "      <td>-0.6774</td>\n",
       "      <td>1.0000</td>\n",
       "      <td>0.0000</td>\n",
       "    </tr>\n",
       "    <tr>\n",
       "      <th>Factor 2</th>\n",
       "      <td>0.2319</td>\n",
       "      <td>0.3653</td>\n",
       "      <td>0.5609</td>\n",
       "      <td>-0.2754</td>\n",
       "      <td>0.1071</td>\n",
       "      <td>-0.0604</td>\n",
       "      <td>0.1362</td>\n",
       "      <td>0.5988</td>\n",
       "      <td>0.0000</td>\n",
       "      <td>1.0000</td>\n",
       "    </tr>\n",
       "  </tbody>\n",
       "</table>\n",
       "</div>"
      ],
      "text/plain": [
       "          SEK.AX  TLS.AX  WOW.AX  WBC.AX  BHP.AX  CBA.AX  CPU.AX  WES.AX  \\\n",
       "SEK.AX    1.0000  0.2489  0.2835  0.4087  0.3021  0.4263  0.3938  0.4115   \n",
       "TLS.AX    0.2489  1.0000  0.3292  0.3193  0.2521  0.3652  0.2352  0.4040   \n",
       "WOW.AX    0.2835  0.3292  1.0000  0.3608  0.3040  0.4330  0.2690  0.5352   \n",
       "WBC.AX    0.4087  0.3193  0.3608  1.0000  0.4559  0.8105  0.4471  0.4989   \n",
       "BHP.AX    0.3021  0.2521  0.3040  0.4559  1.0000  0.4564  0.3637  0.3555   \n",
       "CBA.AX    0.4263  0.3652  0.4330  0.8105  0.4564  1.0000  0.4421  0.5490   \n",
       "CPU.AX    0.3938  0.2352  0.2690  0.4471  0.3637  0.4421  1.0000  0.3774   \n",
       "WES.AX    0.4115  0.4040  0.5352  0.4989  0.3555  0.5490  0.3774  1.0000   \n",
       "Factor 1 -0.5186 -0.4368 -0.5197 -0.9419 -0.5465 -0.9157 -0.5421 -0.6774   \n",
       "Factor 2  0.2319  0.3653  0.5609 -0.2754  0.1071 -0.0604  0.1362  0.5988   \n",
       "\n",
       "          Factor 1  Factor 2  \n",
       "SEK.AX     -0.5186    0.2319  \n",
       "TLS.AX     -0.4368    0.3653  \n",
       "WOW.AX     -0.5197    0.5609  \n",
       "WBC.AX     -0.9419   -0.2754  \n",
       "BHP.AX     -0.5465    0.1071  \n",
       "CBA.AX     -0.9157   -0.0604  \n",
       "CPU.AX     -0.5421    0.1362  \n",
       "WES.AX     -0.6774    0.5988  \n",
       "Factor 1    1.0000    0.0000  \n",
       "Factor 2    0.0000    1.0000  "
      ]
     },
     "execution_count": 37,
     "metadata": {},
     "output_type": "execute_result"
    }
   ],
   "source": [
    "corr_f2 = data.copy()\n",
    "corr_f2['Factor 1'] = score_2[:,0] *(-1)\n",
    "corr_f2['Factor 2'] = score_2[:,1]\n",
    "corr_f2.corr().iloc[:, :].round(4)"
   ]
  },
  {
   "cell_type": "code",
   "execution_count": 38,
   "id": "b2cd2329",
   "metadata": {},
   "outputs": [
    {
     "data": {
      "image/png": "[encoded data removed]",
      "text/plain": [
       "<Figure size 504x360 with 1 Axes>"
      ]
     },
     "metadata": {
      "needs_background": "light"
     },
     "output_type": "display_data"
    }
   ],
   "source": [
    "plt.figure(figsize=(7, 5))\n",
    "biplot(tbl_loading2.values)\n",
    "plt.tight_layout()\n",
    "plt.show()"
   ]
  },
  {
   "cell_type": "markdown",
   "id": "208cca55",
   "metadata": {},
   "source": [
    "### Question 7"
   ]
  },
  {
   "cell_type": "markdown",
   "id": "67dd2f77",
   "metadata": {},
   "source": [
    "The null hypothesis is m=2 factor model estimates matrix that is not significantly different to the sample covariance matrix; the alternative hypothesis is  m=2 factor model estimates matrix that is significantly different to the sample covariance matrix;\n",
    "Since P-value is 0 which is less than 0.05, We thus have solid statistical evidence to reject the null hypothesis and conclude that the m = 2 factor model estimates a covariance matrix that is significantly different to the sample covariance matrix i.e. the m = 2 FM does not fit the data well."
   ]
  },
  {
   "cell_type": "code",
   "execution_count": 39,
   "id": "1b903db5",
   "metadata": {},
   "outputs": [
    {
     "data": {
      "text/plain": [
       "172.49709808441494"
      ]
     },
     "execution_count": 39,
     "metadata": {},
     "output_type": "execute_result"
    }
   ],
   "source": [
    "# Chi-squared test\n",
    "ll_2 = np.log(np.linalg.det(x.cov())) - np.log(np.linalg.det(result2.fitted_cov))\n",
    "m = 2\n",
    "lr_2 = -(T - 1 - (2 * n + 5) / 6 - 2 * m / 3) * ll_2\n",
    "lr_2"
   ]
  },
  {
   "cell_type": "code",
   "execution_count": 40,
   "id": "3897bdb5",
   "metadata": {},
   "outputs": [
    {
     "data": {
      "text/plain": [
       "15.0"
      ]
     },
     "execution_count": 40,
     "metadata": {},
     "output_type": "execute_result"
    }
   ],
   "source": [
    "df2 = 0.5 * ((n - m) **2 - (n - m))\n",
    "df2"
   ]
  },
  {
   "cell_type": "code",
   "execution_count": 41,
   "id": "73d8ae0d",
   "metadata": {},
   "outputs": [
    {
     "data": {
      "text/plain": [
       "0.0"
      ]
     },
     "execution_count": 41,
     "metadata": {},
     "output_type": "execute_result"
    }
   ],
   "source": [
    "stats.chi2.sf(lr_2, df2).round(4)"
   ]
  },
  {
   "cell_type": "code",
   "execution_count": 42,
   "id": "61be5cd9",
   "metadata": {},
   "outputs": [],
   "source": [
    "fm3 = Factor(endog=data, n_factor=3, method='ml')\n",
    "result3 = fm3.fit()"
   ]
  },
  {
   "cell_type": "code",
   "execution_count": 43,
   "id": "2975e1ef",
   "metadata": {},
   "outputs": [
    {
     "data": {
      "text/plain": [
       "22.44246589239233"
      ]
     },
     "execution_count": 43,
     "metadata": {},
     "output_type": "execute_result"
    }
   ],
   "source": [
    "# Chi-squared test\n",
    "ll_3 = np.log(np.linalg.det(x.cov())) - np.log(np.linalg.det(result3.fitted_cov))\n",
    "m = 3\n",
    "lr_3 = -(T - 1 - (2 * n + 5) / 6 - 2 * m / 3) * ll_3\n",
    "lr_3\n",
    "\n"
   ]
  },
  {
   "cell_type": "code",
   "execution_count": 44,
   "id": "e7b53b9e",
   "metadata": {},
   "outputs": [
    {
     "data": {
      "text/plain": [
       "10.0"
      ]
     },
     "execution_count": 44,
     "metadata": {},
     "output_type": "execute_result"
    }
   ],
   "source": [
    "df3 = 0.5 * ((n - m) * (n - m - 1) )\n",
    "df3"
   ]
  },
  {
   "cell_type": "code",
   "execution_count": 45,
   "id": "92626e32",
   "metadata": {},
   "outputs": [
    {
     "data": {
      "text/plain": [
       "0.01300253764748235"
      ]
     },
     "execution_count": 45,
     "metadata": {},
     "output_type": "execute_result"
    }
   ],
   "source": [
    "stats.chi2.sf(lr_3, df3)"
   ]
  },
  {
   "cell_type": "code",
   "execution_count": 46,
   "id": "98b90bf9",
   "metadata": {},
   "outputs": [],
   "source": [
    "ser2_3 = result3.uniqueness * data.var()"
   ]
  },
  {
   "cell_type": "code",
   "execution_count": 47,
   "id": "3bf49186",
   "metadata": {},
   "outputs": [
    {
     "data": {
      "text/plain": [
       "49.54624550669827"
      ]
     },
     "execution_count": 47,
     "metadata": {},
     "output_type": "execute_result"
    }
   ],
   "source": [
    "# overall amount of variance captured \n",
    "(np.trace(data.cov()) - np.sum(ser2_3)) / np.trace(data.cov()) *100"
   ]
  },
  {
   "cell_type": "code",
   "execution_count": 48,
   "id": "4c81ae39",
   "metadata": {},
   "outputs": [
    {
     "name": "stderr",
     "output_type": "stream",
     "text": [
      "C:\\Users\\sherry\\conda\\lib\\site-packages\\statsmodels\\multivariate\\factor.py:419: UserWarning: Fitting did not converge\n",
      "  warnings.warn(\"Fitting did not converge\")\n"
     ]
    },
    {
     "data": {
      "text/plain": [
       "array([[-4.11488884e-01,  2.78689498e-01, -2.62725792e-01,\n",
       "         8.35273222e-03],\n",
       "       [-4.04030285e-01,  1.67807557e-01, -1.10793381e-01,\n",
       "         2.35591512e-01],\n",
       "       [-5.35231613e-01,  1.43609966e-01, -1.16173433e-01,\n",
       "         3.21171126e-01],\n",
       "       [-4.98911766e-01,  8.12691383e-01,  8.03530240e-02,\n",
       "        -4.23344739e-02],\n",
       "       [-3.55480437e-01,  3.67918430e-01, -2.09136692e-01,\n",
       "         1.01750115e-01],\n",
       "       [-5.49012627e-01,  6.69066958e-01, -2.36308071e-02,\n",
       "         1.24676509e-01],\n",
       "       [-3.77422418e-01,  3.62468579e-01, -5.28672472e-01,\n",
       "        -1.50860507e-01],\n",
       "       [-9.99989378e-01, -4.56075495e-06,  2.92496334e-07,\n",
       "        -2.37711401e-07]])"
      ]
     },
     "execution_count": 48,
     "metadata": {},
     "output_type": "execute_result"
    }
   ],
   "source": [
    "fm4 = Factor(endog=data, n_factor=4, method='ml')\n",
    "result4 = fm4.fit()\n",
    "result4.loadings"
   ]
  },
  {
   "cell_type": "code",
   "execution_count": 49,
   "id": "c6056a35",
   "metadata": {},
   "outputs": [
    {
     "data": {
      "text/html": [
       "<div>\n",
       "<style scoped>\n",
       "    .dataframe tbody tr th:only-of-type {\n",
       "        vertical-align: middle;\n",
       "    }\n",
       "\n",
       "    .dataframe tbody tr th {\n",
       "        vertical-align: top;\n",
       "    }\n",
       "\n",
       "    .dataframe thead th {\n",
       "        text-align: right;\n",
       "    }\n",
       "</style>\n",
       "<table border=\"1\" class=\"dataframe\">\n",
       "  <thead>\n",
       "    <tr style=\"text-align: right;\">\n",
       "      <th></th>\n",
       "      <th>Factor 1</th>\n",
       "      <th>Factor 2</th>\n",
       "      <th>Factor 3</th>\n",
       "      <th>Factor 4</th>\n",
       "    </tr>\n",
       "  </thead>\n",
       "  <tbody>\n",
       "    <tr>\n",
       "      <th>SEK.AX</th>\n",
       "      <td>-0.7993</td>\n",
       "      <td>0.5413</td>\n",
       "      <td>-0.5103</td>\n",
       "      <td>0.0162</td>\n",
       "    </tr>\n",
       "    <tr>\n",
       "      <th>TLS.AX</th>\n",
       "      <td>-0.4897</td>\n",
       "      <td>0.2034</td>\n",
       "      <td>-0.1343</td>\n",
       "      <td>0.2856</td>\n",
       "    </tr>\n",
       "    <tr>\n",
       "      <th>WOW.AX</th>\n",
       "      <td>-0.6573</td>\n",
       "      <td>0.1764</td>\n",
       "      <td>-0.1427</td>\n",
       "      <td>0.3944</td>\n",
       "    </tr>\n",
       "    <tr>\n",
       "      <th>WBC.AX</th>\n",
       "      <td>-0.7266</td>\n",
       "      <td>1.1835</td>\n",
       "      <td>0.1170</td>\n",
       "      <td>-0.0617</td>\n",
       "    </tr>\n",
       "    <tr>\n",
       "      <th>BHP.AX</th>\n",
       "      <td>-0.6181</td>\n",
       "      <td>0.6398</td>\n",
       "      <td>-0.3637</td>\n",
       "      <td>0.1769</td>\n",
       "    </tr>\n",
       "    <tr>\n",
       "      <th>CBA.AX</th>\n",
       "      <td>-0.7091</td>\n",
       "      <td>0.8641</td>\n",
       "      <td>-0.0305</td>\n",
       "      <td>0.1610</td>\n",
       "    </tr>\n",
       "    <tr>\n",
       "      <th>CPU.AX</th>\n",
       "      <td>-0.6230</td>\n",
       "      <td>0.5983</td>\n",
       "      <td>-0.8727</td>\n",
       "      <td>-0.2490</td>\n",
       "    </tr>\n",
       "    <tr>\n",
       "      <th>WES.AX</th>\n",
       "      <td>-1.2510</td>\n",
       "      <td>-0.0000</td>\n",
       "      <td>0.0000</td>\n",
       "      <td>-0.0000</td>\n",
       "    </tr>\n",
       "  </tbody>\n",
       "</table>\n",
       "</div>"
      ],
      "text/plain": [
       "        Factor 1  Factor 2  Factor 3  Factor 4\n",
       "SEK.AX   -0.7993    0.5413   -0.5103    0.0162\n",
       "TLS.AX   -0.4897    0.2034   -0.1343    0.2856\n",
       "WOW.AX   -0.6573    0.1764   -0.1427    0.3944\n",
       "WBC.AX   -0.7266    1.1835    0.1170   -0.0617\n",
       "BHP.AX   -0.6181    0.6398   -0.3637    0.1769\n",
       "CBA.AX   -0.7091    0.8641   -0.0305    0.1610\n",
       "CPU.AX   -0.6230    0.5983   -0.8727   -0.2490\n",
       "WES.AX   -1.2510   -0.0000    0.0000   -0.0000"
      ]
     },
     "execution_count": 49,
     "metadata": {},
     "output_type": "execute_result"
    }
   ],
   "source": [
    "tbl_loading4 = pd.DataFrame({'Factor 1': round(result4.loadings[:,0] * data.std(), 4),\n",
    "                             'Factor 2': round(result4.loadings[:,1] * data.std(), 4),\n",
    "                             'Factor 3': round(result4.loadings[:,2] * data.std(), 4),\n",
    "                             'Factor 4': round(result4.loadings[:,3] * data.std(), 4)})\n",
    "tbl_loading4"
   ]
  },
  {
   "cell_type": "code",
   "execution_count": 50,
   "id": "8e2bffa6",
   "metadata": {},
   "outputs": [
    {
     "data": {
      "text/plain": [
       "2.3648630024483195"
      ]
     },
     "execution_count": 50,
     "metadata": {},
     "output_type": "execute_result"
    }
   ],
   "source": [
    "# Chi-squared test\n",
    "ll_4 = np.log(np.linalg.det(x.cov())) - np.log(np.linalg.det(result4.fitted_cov))\n",
    "m = 4\n",
    "lr_4 = -(T - 1 - (2 * n + 5) / 6 - 2 * m / 3) * ll_4\n",
    "lr_4\n",
    "\n"
   ]
  },
  {
   "cell_type": "code",
   "execution_count": 51,
   "id": "a60ae689",
   "metadata": {},
   "outputs": [
    {
     "data": {
      "text/plain": [
       "6.0"
      ]
     },
     "execution_count": 51,
     "metadata": {},
     "output_type": "execute_result"
    }
   ],
   "source": [
    "df4 = 0.5 * ((n - m) * (n - m - 1) )\n",
    "df4"
   ]
  },
  {
   "cell_type": "code",
   "execution_count": 52,
   "id": "01255fee",
   "metadata": {},
   "outputs": [
    {
     "data": {
      "text/plain": [
       "0.8832745041197966"
      ]
     },
     "execution_count": 52,
     "metadata": {},
     "output_type": "execute_result"
    }
   ],
   "source": [
    "stats.chi2.sf(lr_4, df4)"
   ]
  },
  {
   "cell_type": "code",
   "execution_count": 53,
   "id": "32b6d29c",
   "metadata": {},
   "outputs": [],
   "source": [
    "ser3_4 = result4.uniqueness * data.var()"
   ]
  },
  {
   "cell_type": "code",
   "execution_count": 54,
   "id": "4be9483b",
   "metadata": {},
   "outputs": [
    {
     "data": {
      "text/plain": [
       "53.352222849392426"
      ]
     },
     "execution_count": 54,
     "metadata": {},
     "output_type": "execute_result"
    }
   ],
   "source": [
    "# overall amount of variance captured \n",
    "(np.trace(data.cov()) - np.sum(ser3_4)) / np.trace(data.cov()) *100"
   ]
  },
  {
   "cell_type": "code",
   "execution_count": 55,
   "id": "72ae16a4",
   "metadata": {},
   "outputs": [
    {
     "data": {
      "text/html": [
       "<div>\n",
       "<style scoped>\n",
       "    .dataframe tbody tr th:only-of-type {\n",
       "        vertical-align: middle;\n",
       "    }\n",
       "\n",
       "    .dataframe tbody tr th {\n",
       "        vertical-align: top;\n",
       "    }\n",
       "\n",
       "    .dataframe thead th {\n",
       "        text-align: right;\n",
       "    }\n",
       "</style>\n",
       "<table border=\"1\" class=\"dataframe\">\n",
       "  <thead>\n",
       "    <tr style=\"text-align: right;\">\n",
       "      <th></th>\n",
       "      <th>SEK.AX</th>\n",
       "      <th>TLS.AX</th>\n",
       "      <th>WOW.AX</th>\n",
       "      <th>WBC.AX</th>\n",
       "      <th>BHP.AX</th>\n",
       "      <th>CBA.AX</th>\n",
       "      <th>CPU.AX</th>\n",
       "      <th>WES.AX</th>\n",
       "    </tr>\n",
       "  </thead>\n",
       "  <tbody>\n",
       "    <tr>\n",
       "      <th>s</th>\n",
       "      <td>1.9424</td>\n",
       "      <td>1.2121</td>\n",
       "      <td>1.2280</td>\n",
       "      <td>1.4563</td>\n",
       "      <td>1.7389</td>\n",
       "      <td>1.2915</td>\n",
       "      <td>1.6507</td>\n",
       "      <td>1.2510</td>\n",
       "    </tr>\n",
       "    <tr>\n",
       "      <th>SER (m=1)</th>\n",
       "      <td>1.6730</td>\n",
       "      <td>1.0953</td>\n",
       "      <td>1.0612</td>\n",
       "      <td>0.7375</td>\n",
       "      <td>1.4698</td>\n",
       "      <td>0.5647</td>\n",
       "      <td>1.4002</td>\n",
       "      <td>0.9605</td>\n",
       "    </tr>\n",
       "    <tr>\n",
       "      <th>SER (m=2)</th>\n",
       "      <td>1.6473</td>\n",
       "      <td>1.0461</td>\n",
       "      <td>0.9230</td>\n",
       "      <td>0.5318</td>\n",
       "      <td>1.4719</td>\n",
       "      <td>0.6068</td>\n",
       "      <td>1.3976</td>\n",
       "      <td>0.7550</td>\n",
       "    </tr>\n",
       "    <tr>\n",
       "      <th>SER (m=3)</th>\n",
       "      <td>1.5933</td>\n",
       "      <td>1.0459</td>\n",
       "      <td>0.9011</td>\n",
       "      <td>0.5465</td>\n",
       "      <td>1.4522</td>\n",
       "      <td>0.5955</td>\n",
       "      <td>1.1063</td>\n",
       "      <td>0.7596</td>\n",
       "    </tr>\n",
       "    <tr>\n",
       "      <th>SER (m=4)</th>\n",
       "      <td>1.6063</td>\n",
       "      <td>1.0432</td>\n",
       "      <td>0.9322</td>\n",
       "      <td>0.4179</td>\n",
       "      <td>1.4383</td>\n",
       "      <td>0.6258</td>\n",
       "      <td>1.0748</td>\n",
       "      <td>0.0010</td>\n",
       "    </tr>\n",
       "    <tr>\n",
       "      <th>r2 (m=1)</th>\n",
       "      <td>0.2581</td>\n",
       "      <td>0.1834</td>\n",
       "      <td>0.2532</td>\n",
       "      <td>0.7436</td>\n",
       "      <td>0.2856</td>\n",
       "      <td>0.8088</td>\n",
       "      <td>0.2805</td>\n",
       "      <td>0.4105</td>\n",
       "    </tr>\n",
       "    <tr>\n",
       "      <th>r2 (m=2)</th>\n",
       "      <td>0.2808</td>\n",
       "      <td>0.2551</td>\n",
       "      <td>0.4351</td>\n",
       "      <td>0.8666</td>\n",
       "      <td>0.2835</td>\n",
       "      <td>0.7793</td>\n",
       "      <td>0.2832</td>\n",
       "      <td>0.6358</td>\n",
       "    </tr>\n",
       "    <tr>\n",
       "      <th>r2 (m=3)</th>\n",
       "      <td>0.3272</td>\n",
       "      <td>0.2554</td>\n",
       "      <td>0.4616</td>\n",
       "      <td>0.8592</td>\n",
       "      <td>0.3026</td>\n",
       "      <td>0.7874</td>\n",
       "      <td>0.5509</td>\n",
       "      <td>0.6313</td>\n",
       "    </tr>\n",
       "    <tr>\n",
       "      <th>r2 (m=4)</th>\n",
       "      <td>0.3161</td>\n",
       "      <td>0.2592</td>\n",
       "      <td>0.4238</td>\n",
       "      <td>0.9176</td>\n",
       "      <td>0.3158</td>\n",
       "      <td>0.7652</td>\n",
       "      <td>0.5761</td>\n",
       "      <td>1.0000</td>\n",
       "    </tr>\n",
       "  </tbody>\n",
       "</table>\n",
       "</div>"
      ],
      "text/plain": [
       "           SEK.AX  TLS.AX  WOW.AX  WBC.AX  BHP.AX  CBA.AX  CPU.AX  WES.AX\n",
       "s          1.9424  1.2121  1.2280  1.4563  1.7389  1.2915  1.6507  1.2510\n",
       "SER (m=1)  1.6730  1.0953  1.0612  0.7375  1.4698  0.5647  1.4002  0.9605\n",
       "SER (m=2)  1.6473  1.0461  0.9230  0.5318  1.4719  0.6068  1.3976  0.7550\n",
       "SER (m=3)  1.5933  1.0459  0.9011  0.5465  1.4522  0.5955  1.1063  0.7596\n",
       "SER (m=4)  1.6063  1.0432  0.9322  0.4179  1.4383  0.6258  1.0748  0.0010\n",
       "r2 (m=1)   0.2581  0.1834  0.2532  0.7436  0.2856  0.8088  0.2805  0.4105\n",
       "r2 (m=2)   0.2808  0.2551  0.4351  0.8666  0.2835  0.7793  0.2832  0.6358\n",
       "r2 (m=3)   0.3272  0.2554  0.4616  0.8592  0.3026  0.7874  0.5509  0.6313\n",
       "r2 (m=4)   0.3161  0.2592  0.4238  0.9176  0.3158  0.7652  0.5761  1.0000"
      ]
     },
     "execution_count": 55,
     "metadata": {},
     "output_type": "execute_result"
    }
   ],
   "source": [
    "ser_3 = np.sqrt(ser2_3)\n",
    "ser_4 = np.sqrt(ser3_4)\n",
    "r2_3 = result3.communality \n",
    "r2_4 = result4.communality \n",
    "tbl_r_2 = pd.DataFrame({'s': data.std().round(4),\n",
    "                        'SER (m=1)' : ser.round(4),\n",
    "                        'SER (m=2)' : ser_2.round(4),\n",
    "                        'SER (m=3)' : ser_3.round(4),\n",
    "                        'SER (m=4)' : ser_4.round(4),\n",
    "                        'r2 (m=1)': r2.round(4),\n",
    "                        'r2 (m=2)': r2_2.round(4),\n",
    "                        'r2 (m=3)': r2_3.round(4),\n",
    "                        'r2 (m=4)': r2_4.round(4)})\n",
    "tbl_r_2.T"
   ]
  },
  {
   "cell_type": "markdown",
   "id": "18c9024c",
   "metadata": {},
   "source": [
    "### Question 8"
   ]
  },
  {
   "cell_type": "markdown",
   "id": "99584d9d",
   "metadata": {},
   "source": [
    "m=4 is our choice for the number of factors. The p-value = 0.8833 which is the only p-value among all 4 that is larger than 0.05, leading to a conclusion that we cannot reject the null hypothesis; in other words, the differences in sample and estimated correlations are statistically large enough. It suggests that M=4 model is the only model so far which is appropriate for this data; it is not able to estimate the correlation matrix of the return series sufficiently accurately."
   ]
  },
  {
   "cell_type": "code",
   "execution_count": 56,
   "id": "122d84c4",
   "metadata": {},
   "outputs": [],
   "source": [
    "pvalue_1 = stats.chi2.sf(lr, df)\n",
    "pvalue_2 = stats.chi2.sf(lr_2, df2)\n",
    "pvalue_3 = stats.chi2.sf(lr_3, df3)\n",
    "pvalue_4 = stats.chi2.sf(lr_4, df4)\n"
   ]
  },
  {
   "cell_type": "code",
   "execution_count": 57,
   "id": "33a4fbab",
   "metadata": {},
   "outputs": [
    {
     "name": "stdout",
     "output_type": "stream",
     "text": [
      "P value when m=1\n"
     ]
    },
    {
     "data": {
      "text/plain": [
       "0.0"
      ]
     },
     "execution_count": 57,
     "metadata": {},
     "output_type": "execute_result"
    }
   ],
   "source": [
    "print('P value when m=1')\n",
    "pvalue_1.round(4)\n"
   ]
  },
  {
   "cell_type": "code",
   "execution_count": 58,
   "id": "755aa984",
   "metadata": {},
   "outputs": [
    {
     "name": "stdout",
     "output_type": "stream",
     "text": [
      "P value when m=2\n"
     ]
    },
    {
     "data": {
      "text/plain": [
       "0.0"
      ]
     },
     "execution_count": 58,
     "metadata": {},
     "output_type": "execute_result"
    }
   ],
   "source": [
    "print('P value when m=2')\n",
    "pvalue_2.round(4)\n"
   ]
  },
  {
   "cell_type": "code",
   "execution_count": 59,
   "id": "def11189",
   "metadata": {},
   "outputs": [
    {
     "name": "stdout",
     "output_type": "stream",
     "text": [
      "P value when m=3\n"
     ]
    },
    {
     "data": {
      "text/plain": [
       "0.013"
      ]
     },
     "execution_count": 59,
     "metadata": {},
     "output_type": "execute_result"
    }
   ],
   "source": [
    "print('P value when m=3')\n",
    "pvalue_3.round(4)\n"
   ]
  },
  {
   "cell_type": "code",
   "execution_count": 60,
   "id": "0b9550db",
   "metadata": {},
   "outputs": [
    {
     "name": "stdout",
     "output_type": "stream",
     "text": [
      "P value when m=4\n"
     ]
    },
    {
     "data": {
      "text/plain": [
       "0.8833"
      ]
     },
     "execution_count": 60,
     "metadata": {},
     "output_type": "execute_result"
    }
   ],
   "source": [
    "print('P value when m=4')\n",
    "pvalue_4.round(4)\n"
   ]
  },
  {
   "cell_type": "markdown",
   "id": "8a538e9c",
   "metadata": {},
   "source": [
    "### Question 9"
   ]
  },
  {
   "cell_type": "markdown",
   "id": "0bb4492e",
   "metadata": {},
   "source": [
    "When using PCA analysis decomposition, restricting factors to be linear combinations of the variables in y."
   ]
  },
  {
   "cell_type": "markdown",
   "id": "cf5b0a61",
   "metadata": {},
   "source": [
    "$\\hat{beta}= A'_{4}\\sqrt{\\lambda{4}}$ "
   ]
  },
  {
   "cell_type": "markdown",
   "id": "9bb34e5a",
   "metadata": {},
   "source": [
    "$\\hat{\\psi} = diag(A'\\lambda{}A_{4}-A'\\lambda_{4}A_{4})$"
   ]
  },
  {
   "cell_type": "markdown",
   "id": "5aaaa896",
   "metadata": {},
   "source": [
    "$\\hat{f_{j}} = a'_{j}y$"
   ]
  },
  {
   "cell_type": "markdown",
   "id": "fa764388",
   "metadata": {},
   "source": [
    "### Question 10"
   ]
  },
  {
   "cell_type": "code",
   "execution_count": 61,
   "id": "dd6fc0c4",
   "metadata": {},
   "outputs": [
    {
     "data": {
      "text/plain": [
       "array([[-0.288442  ,  0.31834407, -0.34121103,  0.12295871],\n",
       "       [-0.32006782,  0.24362308, -0.11264467,  0.29102225],\n",
       "       [-0.44964754,  0.25573998, -0.10398669,  0.3812411 ],\n",
       "       [-0.23635037,  0.91728319, -0.14203635,  0.01359296],\n",
       "       [-0.20989865,  0.39694527, -0.2733331 ,  0.19871482],\n",
       "       [-0.31583555,  0.77284324, -0.17057135,  0.19757214],\n",
       "       [-0.21577782,  0.33066468, -0.64645344,  0.04778464],\n",
       "       [-0.95065264,  0.27961034, -0.11885471,  0.06268917]])"
      ]
     },
     "execution_count": 61,
     "metadata": {},
     "output_type": "execute_result"
    }
   ],
   "source": [
    "result4.rotate(method='varimax')\n",
    "result4.loadings"
   ]
  },
  {
   "cell_type": "code",
   "execution_count": 62,
   "id": "208dca14",
   "metadata": {},
   "outputs": [
    {
     "data": {
      "text/html": [
       "<div>\n",
       "<style scoped>\n",
       "    .dataframe tbody tr th:only-of-type {\n",
       "        vertical-align: middle;\n",
       "    }\n",
       "\n",
       "    .dataframe tbody tr th {\n",
       "        vertical-align: top;\n",
       "    }\n",
       "\n",
       "    .dataframe thead th {\n",
       "        text-align: right;\n",
       "    }\n",
       "</style>\n",
       "<table border=\"1\" class=\"dataframe\">\n",
       "  <thead>\n",
       "    <tr style=\"text-align: right;\">\n",
       "      <th></th>\n",
       "      <th>Factor 1</th>\n",
       "      <th>Factor 2</th>\n",
       "      <th>Factor 3</th>\n",
       "      <th>Factor 4</th>\n",
       "    </tr>\n",
       "  </thead>\n",
       "  <tbody>\n",
       "    <tr>\n",
       "      <th>SEK.AX</th>\n",
       "      <td>0.5603</td>\n",
       "      <td>0.6184</td>\n",
       "      <td>-0.6628</td>\n",
       "      <td>0.2388</td>\n",
       "    </tr>\n",
       "    <tr>\n",
       "      <th>TLS.AX</th>\n",
       "      <td>0.3879</td>\n",
       "      <td>0.2953</td>\n",
       "      <td>-0.1365</td>\n",
       "      <td>0.3527</td>\n",
       "    </tr>\n",
       "    <tr>\n",
       "      <th>WOW.AX</th>\n",
       "      <td>0.5522</td>\n",
       "      <td>0.3141</td>\n",
       "      <td>-0.1277</td>\n",
       "      <td>0.4682</td>\n",
       "    </tr>\n",
       "    <tr>\n",
       "      <th>WBC.AX</th>\n",
       "      <td>0.3442</td>\n",
       "      <td>1.3359</td>\n",
       "      <td>-0.2069</td>\n",
       "      <td>0.0198</td>\n",
       "    </tr>\n",
       "    <tr>\n",
       "      <th>BHP.AX</th>\n",
       "      <td>0.3650</td>\n",
       "      <td>0.6902</td>\n",
       "      <td>-0.4753</td>\n",
       "      <td>0.3455</td>\n",
       "    </tr>\n",
       "    <tr>\n",
       "      <th>CBA.AX</th>\n",
       "      <td>0.4079</td>\n",
       "      <td>0.9982</td>\n",
       "      <td>-0.2203</td>\n",
       "      <td>0.2552</td>\n",
       "    </tr>\n",
       "    <tr>\n",
       "      <th>CPU.AX</th>\n",
       "      <td>0.3562</td>\n",
       "      <td>0.5458</td>\n",
       "      <td>-1.0671</td>\n",
       "      <td>0.0789</td>\n",
       "    </tr>\n",
       "    <tr>\n",
       "      <th>WES.AX</th>\n",
       "      <td>1.1893</td>\n",
       "      <td>0.3498</td>\n",
       "      <td>-0.1487</td>\n",
       "      <td>0.0784</td>\n",
       "    </tr>\n",
       "  </tbody>\n",
       "</table>\n",
       "</div>"
      ],
      "text/plain": [
       "        Factor 1  Factor 2  Factor 3  Factor 4\n",
       "SEK.AX    0.5603    0.6184   -0.6628    0.2388\n",
       "TLS.AX    0.3879    0.2953   -0.1365    0.3527\n",
       "WOW.AX    0.5522    0.3141   -0.1277    0.4682\n",
       "WBC.AX    0.3442    1.3359   -0.2069    0.0198\n",
       "BHP.AX    0.3650    0.6902   -0.4753    0.3455\n",
       "CBA.AX    0.4079    0.9982   -0.2203    0.2552\n",
       "CPU.AX    0.3562    0.5458   -1.0671    0.0789\n",
       "WES.AX    1.1893    0.3498   -0.1487    0.0784"
      ]
     },
     "execution_count": 62,
     "metadata": {},
     "output_type": "execute_result"
    }
   ],
   "source": [
    "tbl_loading4_ro = pd.DataFrame({'Factor 1': round(result4.loadings[:,0] * data.std() *(-1), 4),\n",
    "                                'Factor 2': round(result4.loadings[:,1] * data.std(), 4),\n",
    "                                'Factor 3': round(result4.loadings[:,2] * data.std(), 4),\n",
    "                                'Factor 4': round(result4.loadings[:,3] * data.std(), 4)})\n",
    "tbl_loading4_ro"
   ]
  },
  {
   "cell_type": "markdown",
   "id": "2e80d5f2",
   "metadata": {},
   "source": [
    "With varimax rotation it is easier to see the rotated components and variables."
   ]
  },
  {
   "cell_type": "markdown",
   "id": "eb36b11c",
   "metadata": {},
   "source": [
    "### Question 11"
   ]
  },
  {
   "cell_type": "markdown",
   "id": "d23600ae",
   "metadata": {},
   "source": [
    "PCA factor model is better than task 8 model since it attempts to find a rotation of the factors so that the (squares of the) rotated factor loadings are as spaced out or far apart as possible. In this way, it is clearer to see which factors load more  on which variable. SER,R^2 and overall variance wont change after the rotation. "
   ]
  },
  {
   "cell_type": "markdown",
   "id": "105c7d2d",
   "metadata": {},
   "source": [
    "# Section 2 "
   ]
  },
  {
   "cell_type": "code",
   "execution_count": 63,
   "id": "560b23e8",
   "metadata": {},
   "outputs": [],
   "source": [
    "r = data\n",
    "n_insample = 2000\n",
    "n_all = len(r)\n",
    "n_fore = n_all - n_insample"
   ]
  },
  {
   "cell_type": "markdown",
   "id": "33b1f2f7",
   "metadata": {},
   "source": [
    "### Model 3 for asset 5 - 7"
   ]
  },
  {
   "cell_type": "markdown",
   "id": "f73e974d",
   "metadata": {},
   "source": [
    "#### Model 3 for asset 5"
   ]
  },
  {
   "cell_type": "code",
   "execution_count": 64,
   "id": "333d1fd5",
   "metadata": {},
   "outputs": [
    {
     "name": "stdout",
     "output_type": "stream",
     "text": [
      "                               SARIMAX Results                                \n",
      "==============================================================================\n",
      "Dep. Variable:                 BHP.AX   No. Observations:                 2000\n",
      "Model:                 ARIMA(2, 0, 1)   Log Likelihood               -3857.324\n",
      "Date:                Fri, 23 Sep 2022   AIC                           7724.648\n",
      "Time:                        20:58:37   BIC                           7752.653\n",
      "Sample:                             0   HQIC                          7734.931\n",
      "                               - 2000                                         \n",
      "Covariance Type:                  opg                                         \n",
      "==============================================================================\n",
      "                 coef    std err          z      P>|z|      [0.025      0.975]\n",
      "------------------------------------------------------------------------------\n",
      "const         -0.0052      0.031     -0.165      0.869      -0.066       0.056\n",
      "ar.L1          0.9025      0.081     11.202      0.000       0.745       1.060\n",
      "ar.L2         -0.0585      0.019     -3.056      0.002      -0.096      -0.021\n",
      "ma.L1         -0.8714      0.079    -11.096      0.000      -1.025      -0.717\n",
      "sigma2         2.7716      0.060     46.037      0.000       2.654       2.890\n",
      "===================================================================================\n",
      "Ljung-Box (L1) (Q):                   0.00   Jarque-Bera (JB):               471.21\n",
      "Prob(Q):                              0.99   Prob(JB):                         0.00\n",
      "Heteroskedasticity (H):               1.95   Skew:                            -0.12\n",
      "Prob(H) (two-sided):                  0.00   Kurtosis:                         5.37\n",
      "===================================================================================\n",
      "\n",
      "Warnings:\n",
      "[1] Covariance matrix calculated using the outer product of gradients (complex-step).\n"
     ]
    }
   ],
   "source": [
    "# model 3 for asset 5\n",
    "i_col = 4\n",
    "ar21_bhp = ARIMA(r.iloc[:-n_fore, i_col], order=(2,0, 1)).fit() \n",
    "print(ar21_bhp.summary())"
   ]
  },
  {
   "cell_type": "markdown",
   "id": "0db3374a",
   "metadata": {},
   "source": [
    "#### Model 3 for asset 6"
   ]
  },
  {
   "cell_type": "code",
   "execution_count": 65,
   "id": "d29bf290",
   "metadata": {},
   "outputs": [
    {
     "name": "stderr",
     "output_type": "stream",
     "text": [
      "C:\\Users\\sherry\\conda\\lib\\site-packages\\statsmodels\\tsa\\statespace\\sarimax.py:966: UserWarning: Non-stationary starting autoregressive parameters found. Using zeros as starting parameters.\n",
      "  warn('Non-stationary starting autoregressive parameters'\n",
      "C:\\Users\\sherry\\conda\\lib\\site-packages\\statsmodels\\tsa\\statespace\\sarimax.py:978: UserWarning: Non-invertible starting MA parameters found. Using zeros as starting parameters.\n",
      "  warn('Non-invertible starting MA parameters found.'\n"
     ]
    }
   ],
   "source": [
    "# model 3 for asset 6\n",
    "i_col = 5\n",
    "ar21_cba = ARIMA(r.iloc[:-n_fore, i_col], order=(2,0, 1)).fit() "
   ]
  },
  {
   "cell_type": "markdown",
   "id": "3bf572d0",
   "metadata": {},
   "source": [
    "#### Model 3 for asset 7"
   ]
  },
  {
   "cell_type": "code",
   "execution_count": 66,
   "id": "5c34b561",
   "metadata": {},
   "outputs": [
    {
     "name": "stderr",
     "output_type": "stream",
     "text": [
      "C:\\Users\\sherry\\conda\\lib\\site-packages\\statsmodels\\tsa\\statespace\\sarimax.py:966: UserWarning: Non-stationary starting autoregressive parameters found. Using zeros as starting parameters.\n",
      "  warn('Non-stationary starting autoregressive parameters'\n",
      "C:\\Users\\sherry\\conda\\lib\\site-packages\\statsmodels\\tsa\\statespace\\sarimax.py:978: UserWarning: Non-invertible starting MA parameters found. Using zeros as starting parameters.\n",
      "  warn('Non-invertible starting MA parameters found.'\n"
     ]
    }
   ],
   "source": [
    "# model 3 for asset 7\n",
    "i_col = 6\n",
    "ar21_cpu = ARIMA(r.iloc[:-n_fore, i_col], order=(2, 0, 1)).fit()"
   ]
  },
  {
   "cell_type": "markdown",
   "id": "92307dd5",
   "metadata": {},
   "source": [
    "### Model 4 for asset 5 - 7"
   ]
  },
  {
   "cell_type": "markdown",
   "id": "1177eaba",
   "metadata": {},
   "source": [
    "#### Model 4 for asset 5"
   ]
  },
  {
   "cell_type": "code",
   "execution_count": 67,
   "id": "0e95b3de",
   "metadata": {},
   "outputs": [],
   "source": [
    "# model 4 for asset 5\n",
    "x = r.iloc[:-n_fore-1,-1].values\n",
    "y5 = r.iloc[1:-n_fore, 4].values\n",
    "reg_a2_5 = ARIMA(y5, exog = x, order = (1,0,0)).fit()\n",
    "#print(reg_a2.summary())"
   ]
  },
  {
   "cell_type": "code",
   "execution_count": 68,
   "id": "ab638697",
   "metadata": {},
   "outputs": [],
   "source": [
    "# asset 8 as regressor\n",
    "x_new = r.iloc[-n_fore-1, -1]"
   ]
  },
  {
   "cell_type": "code",
   "execution_count": 69,
   "id": "5feb1c5e",
   "metadata": {},
   "outputs": [],
   "source": [
    "# predict asset 5 using asset 8 in model 4\n",
    "reg_bhp = reg_a2_5.predict(exog = x_new, start = len(y5), end = len(y5))"
   ]
  },
  {
   "cell_type": "code",
   "execution_count": 70,
   "id": "9d895243",
   "metadata": {},
   "outputs": [
    {
     "data": {
      "image/png": "[encoded data removed]",
      "text/plain": [
       "<Figure size 648x432 with 2 Axes>"
      ]
     },
     "metadata": {
      "needs_background": "light"
     },
     "output_type": "display_data"
    }
   ],
   "source": [
    "# figure for asset 5 reg model\n",
    "fig, ax = plt.subplots(2, 1, figsize=(9, 6))\n",
    "ax[0].plot(r.iloc[:-n_fore, 4])\n",
    "ax[0].set_title('In-sample BHP returns')\n",
    "sm.graphics.tsa.plot_acf(r.iloc[:-n_fore, 4], ax=ax[1], lags=25, alpha=0.05)\n",
    "ax[1].set_xlabel('Lag')\n",
    "ax[1].set_ylabel('Sample Autocorrelation')\n",
    "ax[1].set_title('BHP Sample Autocorrelation Function')\n",
    "plt.tight_layout()\n",
    "plt.show()"
   ]
  },
  {
   "cell_type": "markdown",
   "id": "df84a107",
   "metadata": {},
   "source": [
    "#### Model 4 for asset 6"
   ]
  },
  {
   "cell_type": "code",
   "execution_count": 71,
   "id": "4653fbd6",
   "metadata": {},
   "outputs": [],
   "source": [
    "# model 4 for asset 6\n",
    "y6 = r.iloc[1:-n_fore, 5].values\n",
    "reg_a2_6 = ARIMA(y6, exog = x, order = (1,0,0)).fit()"
   ]
  },
  {
   "cell_type": "code",
   "execution_count": 72,
   "id": "93f30f72",
   "metadata": {},
   "outputs": [],
   "source": [
    "# predict asset 6 using asset 8 in model 4\n",
    "reg_cba = reg_a2_6.predict(exog = x_new, start = len(y6), end = len(y6))"
   ]
  },
  {
   "cell_type": "code",
   "execution_count": 73,
   "id": "641d21a8",
   "metadata": {},
   "outputs": [
    {
     "data": {
      "image/png": "[encoded data removed]",
      "text/plain": [
       "<Figure size 648x432 with 2 Axes>"
      ]
     },
     "metadata": {
      "needs_background": "light"
     },
     "output_type": "display_data"
    }
   ],
   "source": [
    "# figure for asset 5 reg model\n",
    "fig, ax = plt.subplots(2, 1, figsize=(9, 6))\n",
    "ax[0].plot(r.iloc[:-n_fore, 5])\n",
    "ax[0].set_title('In-sample CBA returns')\n",
    "sm.graphics.tsa.plot_acf(r.iloc[:-n_fore, 5], ax=ax[1], lags=25, alpha=0.05)\n",
    "ax[1].set_xlabel('Lag')\n",
    "ax[1].set_ylabel('Sample Autocorrelation')\n",
    "ax[1].set_title('CBA Sample Autocorrelation Function')\n",
    "plt.tight_layout()\n",
    "plt.show()"
   ]
  },
  {
   "cell_type": "markdown",
   "id": "720684f0",
   "metadata": {},
   "source": [
    "#### Model 4 for asset 7"
   ]
  },
  {
   "cell_type": "code",
   "execution_count": 74,
   "id": "e9eda3ba",
   "metadata": {},
   "outputs": [],
   "source": [
    "# model 4 for asset 7\n",
    "y7 = r.iloc[1:-n_fore, 6].values\n",
    "reg_a2_7 = ARIMA(y7, exog = x, order = (1,0,0)).fit()"
   ]
  },
  {
   "cell_type": "code",
   "execution_count": 75,
   "id": "bd55220b",
   "metadata": {},
   "outputs": [],
   "source": [
    "# predict asset 7 using asset 8 in model 4\n",
    "reg_cpu = reg_a2_7.predict(exog = x_new, start = len(y7), end = len(y7))"
   ]
  },
  {
   "cell_type": "code",
   "execution_count": 76,
   "id": "027807b4",
   "metadata": {},
   "outputs": [
    {
     "data": {
      "image/png": "[encoded data removed]",
      "text/plain": [
       "<Figure size 648x432 with 2 Axes>"
      ]
     },
     "metadata": {
      "needs_background": "light"
     },
     "output_type": "display_data"
    }
   ],
   "source": [
    "# figure for asset 5 reg model\n",
    "fig, ax = plt.subplots(2, 1, figsize=(9, 6))\n",
    "ax[0].plot(r.iloc[:-n_fore, 6])\n",
    "ax[0].set_title('In-sample CPU returns')\n",
    "sm.graphics.tsa.plot_acf(r.iloc[:-n_fore, 6], ax=ax[1], lags=25, alpha=0.05)\n",
    "ax[1].set_xlabel('Lag')\n",
    "ax[1].set_ylabel('Sample Autocorrelation')\n",
    "ax[1].set_title('CPU Sample Autocorrelation Function')\n",
    "plt.tight_layout()\n",
    "plt.show()"
   ]
  },
  {
   "cell_type": "markdown",
   "id": "cc0dd870",
   "metadata": {},
   "source": [
    "## 2.1 5th Asset forecast returns: BHP.AX"
   ]
  },
  {
   "cell_type": "code",
   "execution_count": null,
   "id": "d3742f23",
   "metadata": {},
   "outputs": [
    {
     "data": {
      "application/vnd.jupyter.widget-view+json": {
       "model_id": "04f5e427f5f946ea853288aa445c4201",
       "version_major": 2,
       "version_minor": 0
      },
      "text/plain": [
       "  0%|          | 0/1184 [00:00<?, ?it/s]"
      ]
     },
     "metadata": {},
     "output_type": "display_data"
    }
   ],
   "source": [
    "fnaive_bhp = np.empty(n_fore)\n",
    "f16day_bhp = np.empty(n_fore)\n",
    "far21_bhp = np.empty(n_fore)\n",
    "freg_bhp = np.empty(n_fore)\n",
    "\n",
    "for i in tqdm(range(n_fore)):\n",
    "    y = r.iloc[(i + 1):(-n_fore + i), 4].values\n",
    "    x = r.iloc[i:(-n_fore + i - 1), -1].values\n",
    "    x_new = r.iloc[(-n_fore + i - 1), -1]\n",
    "    i_fore = len(y)\n",
    "\n",
    "    # Naive\n",
    "    fnaive_bhp[i] = y[-1]\n",
    "    # 16 days\n",
    "    f16day_bhp[i] = y[-16:].mean()\n",
    "    \n",
    "    # Formal models\n",
    "    if i % 20 == 0:                  # re-estimate the model when i=0 and then only every 20 days after that (to save time)\n",
    "        reg = ARIMA(y, exog=x, order=(1, 0, 0)).fit()   # Reg\n",
    "        ar = ARIMA(y, order=(2, 0, 1)).fit()    \n",
    "    \n",
    "    reg_bhp = reg.apply(y, exog=x)\n",
    "    arma21_bhp = ar.apply(y)\n",
    "    \n",
    "    # these lines generate the 1 step-ahead forecasts\n",
    "    freg_bhp[i] = reg_bhp.predict(exog=x_new, start=i_fore, end=i_fore)\n",
    "    far21_bhp[i] = arma21_bhp.predict(start=i_fore, end=i_fore)    \n"
   ]
  },
  {
   "cell_type": "code",
   "execution_count": null,
   "id": "ad3b158e",
   "metadata": {},
   "outputs": [],
   "source": [
    "# combination of method 2-4\n",
    "fcomb_bhp = (freg_bhp + f16day_bhp + far21_bhp)/3"
   ]
  },
  {
   "cell_type": "code",
   "execution_count": null,
   "id": "79007c83",
   "metadata": {},
   "outputs": [],
   "source": [
    "# method 6\n",
    "def loss_func(y_obs, y_hat):\n",
    "    rmse = np.sqrt(np.mean((y_hat - y_obs) ** 2))\n",
    "    mad = np.mean(np.abs(y_hat - y_obs))\n",
    "    return (rmse, mad)"
   ]
  },
  {
   "cell_type": "code",
   "execution_count": null,
   "id": "08e9dc63",
   "metadata": {
    "scrolled": true
   },
   "outputs": [],
   "source": [
    "fmethod6_bhp = np.vstack ([fnaive_bhp[-20:],f16day_bhp[-20:],far21_bhp[-20:],freg_bhp[-20:]]).T\n",
    "fmethod6_bhp\n"
   ]
  },
  {
   "cell_type": "code",
   "execution_count": null,
   "id": "b0254bc6",
   "metadata": {},
   "outputs": [],
   "source": [
    "l = np.empty((2, 4))\n",
    "for i in range(4):\n",
    "    l[0, i], l[1, i] = loss_func(r.iloc[-20:, 4].values, fmethod6_bhp[:, i])\n",
    "c_name = ['Naive', '16day', 'ARMA21', 'Reg']\n",
    "tbl_bhp = pd.DataFrame(l.round(4), columns=c_name, index=['RMSE', 'MAD'])\n",
    "tbl_bhp"
   ]
  },
  {
   "cell_type": "code",
   "execution_count": null,
   "id": "fbc3ff6d",
   "metadata": {},
   "outputs": [],
   "source": [
    "in_b1 = 1/tbl_bhp.iloc[1,0]\n",
    "in_b2 = 1/tbl_bhp.iloc[1,1]\n",
    "in_b3 = 1/tbl_bhp.iloc[1,2]\n",
    "in_b4 = 1/tbl_bhp.iloc[1,3]\n",
    "\n",
    "total_b = in_b1 + in_b2 + in_b3 + in_b4\n",
    "\n",
    "b_1 = in_b1/total_b\n",
    "b_2 = in_b2/total_b\n",
    "b_3 = in_b3/total_b\n",
    "b_4 = in_b4/total_b"
   ]
  },
  {
   "cell_type": "code",
   "execution_count": null,
   "id": "855701ed",
   "metadata": {},
   "outputs": [],
   "source": [
    "fmethod6_bhp = b_1 * fnaive_bhp + b_2 * f16day_bhp + b_3 * far21_bhp + b_4 * freg_bhp\n",
    "fmethod6_bhp "
   ]
  },
  {
   "cell_type": "markdown",
   "id": "40511e3b",
   "metadata": {},
   "source": [
    "### Plot "
   ]
  },
  {
   "cell_type": "code",
   "execution_count": null,
   "id": "7fefc7b7",
   "metadata": {},
   "outputs": [],
   "source": [
    "# plot\n",
    "plt.figure(figsize=(15, 11))\n",
    "plt.plot(r.iloc[-n_fore:, 4].values, 'k-', alpha=0.2, label='BHP.AX')\n",
    "plt.plot(fnaive_bhp, '*', label='Naive')\n",
    "plt.plot(f16day_bhp, 'd', mfc='none', label='16day')\n",
    "plt.plot(far21_bhp, 'v', mfc='none', label='ARMA(2,1)')\n",
    "plt.plot(freg_bhp, 'o', mfc='none', label='Reg')\n",
    "plt.plot(fcomb_bhp, 's', mfc='none', label='Combination of 2-4')\n",
    "plt.plot(fmethod6_bhp, '^', mfc='none', label='Method 6')\n",
    "\n",
    "plt.title('BHP stock returns and forecasts')\n",
    "plt.legend(fontsize=10, ncol=8)\n",
    "plt.tight_layout()\n",
    "plt.show()"
   ]
  },
  {
   "cell_type": "code",
   "execution_count": null,
   "id": "634066c2",
   "metadata": {},
   "outputs": [],
   "source": [
    "plt.figure(figsize=(15, 11))\n",
    "plt.plot(r.iloc[-n_fore:, 4].values, 'k-', alpha=0.2, label='BHP.AX')\n",
    "plt.plot(fnaive_bhp, '*', label='Naive')\n",
    "plt.plot(f16day_bhp, 'd', mfc='none', label='16day')\n",
    "plt.plot(far21_bhp, 'v', mfc='none', label='ARMA(2,1)')\n",
    "plt.plot(freg_bhp, 'o', mfc='none', label='Reg')\n",
    "plt.plot(fcomb_bhp, 's', mfc='none', label='Combination of 2-4')\n",
    "plt.plot(fmethod6_bhp, '^', mfc='none', label='Method 6')\n",
    "plt.xlim([800, 900])\n",
    "\n",
    "plt.title('BHP stock returns and forecasts')\n",
    "plt.legend(fontsize=10, ncol=8)\n",
    "plt.tight_layout()\n",
    "plt.show()"
   ]
  },
  {
   "cell_type": "markdown",
   "id": "f08fa53d",
   "metadata": {},
   "source": [
    "From the plot, we can see that the 'naive model' is obvisouly delayed one period with the true return, result it being the least effective model in forecast the true return of BHP. The other model seems more stable and mainly stays in the middle of the true return. Within these models, the '16day average model' has the most flutuation, as this model can observe some high and lows in the pattern flow during peak and downfall in the true return of BHP. The 'Method6 model' also seem to have a bit more flutuation than the rest of model. While the 'ARMA(2,1) model', the 'Reg AR(1) model' and the 'combination of 2-4 model' mainly overlaps with each other, showing a similar trend when forecasting the true return of BHP. From the observation of the plot, we suggest that the '16day average model' would the most sutiable model in forecasting the true return of BHP, as it demonstrates the flutuation trend of the true return without a significant lag. "
   ]
  },
  {
   "cell_type": "markdown",
   "id": "871da5bd",
   "metadata": {},
   "source": [
    "## 2.2 RMSE, MAD and MZ regression for asset 5"
   ]
  },
  {
   "cell_type": "code",
   "execution_count": null,
   "id": "6824840c",
   "metadata": {},
   "outputs": [],
   "source": [
    "def loss_func(y_obs, y_hat):\n",
    "    rmse = np.sqrt(np.mean((y_hat - y_obs) ** 2))\n",
    "    mad = np.mean(np.abs(y_hat - y_obs))\n",
    "    return (rmse, mad)"
   ]
  },
  {
   "cell_type": "code",
   "execution_count": null,
   "id": "8292cdc2",
   "metadata": {
    "scrolled": true
   },
   "outputs": [
    {
     "data": {
      "text/html": [
       "<div>\n",
       "<style scoped>\n",
       "    .dataframe tbody tr th:only-of-type {\n",
       "        vertical-align: middle;\n",
       "    }\n",
       "\n",
       "    .dataframe tbody tr th {\n",
       "        vertical-align: top;\n",
       "    }\n",
       "\n",
       "    .dataframe thead th {\n",
       "        text-align: right;\n",
       "    }\n",
       "</style>\n",
       "<table border=\"1\" class=\"dataframe\">\n",
       "  <thead>\n",
       "    <tr style=\"text-align: right;\">\n",
       "      <th></th>\n",
       "      <th>naive</th>\n",
       "      <th>16 day average</th>\n",
       "      <th>arma(2,1)</th>\n",
       "      <th>ar(1)</th>\n",
       "      <th>combination of method 2-4</th>\n",
       "      <th>method 6</th>\n",
       "    </tr>\n",
       "  </thead>\n",
       "  <tbody>\n",
       "    <tr>\n",
       "      <th>RMSE</th>\n",
       "      <td>2.6821</td>\n",
       "      <td>1.9049</td>\n",
       "      <td>1.8597</td>\n",
       "      <td>1.8476</td>\n",
       "      <td>1.8557</td>\n",
       "      <td>1.9073</td>\n",
       "    </tr>\n",
       "    <tr>\n",
       "      <th>MAD</th>\n",
       "      <td>1.9480</td>\n",
       "      <td>1.3971</td>\n",
       "      <td>1.3397</td>\n",
       "      <td>1.3379</td>\n",
       "      <td>1.3475</td>\n",
       "      <td>1.4026</td>\n",
       "    </tr>\n",
       "  </tbody>\n",
       "</table>\n",
       "</div>"
      ],
      "text/plain": [
       "       naive  16 day average  arma(2,1)   ar(1)  combination of method 2-4  \\\n",
       "RMSE  2.6821          1.9049     1.8597  1.8476                     1.8557   \n",
       "MAD   1.9480          1.3971     1.3397  1.3379                     1.3475   \n",
       "\n",
       "      method 6  \n",
       "RMSE    1.9073  \n",
       "MAD     1.4026  "
      ]
     },
     "execution_count": 116,
     "metadata": {},
     "output_type": "execute_result"
    }
   ],
   "source": [
    "# BHP\n",
    "f_all = np.vstack([fnaive_bhp, f16day_bhp, far21_bhp, freg_bhp, fcomb_bhp, fmethod6_bhp]).T\n",
    "i_col = 4\n",
    "r_fore = r.iloc[-n_fore:, i_col].values # the true value of BHP\n",
    "l = np.empty((2, 6)) # 2 loss functions and 6 methods\n",
    "for i in range(6):\n",
    "    l[0, i], l[1, i] = loss_func(r_fore, f_all[:, i]) # f_all is the forecast for BHP\n",
    "c_name = ['naive', '16 day average', 'arma(2,1)','ar(1)','combination of method 2-4','method 6']\n",
    "tbl_bhp = pd.DataFrame(l.round(4), columns=c_name, index=['RMSE', 'MAD'])\n",
    "tbl_bhp"
   ]
  },
  {
   "cell_type": "code",
   "execution_count": null,
   "id": "77061e97",
   "metadata": {},
   "outputs": [
    {
     "data": {
      "text/html": [
       "<div>\n",
       "<style scoped>\n",
       "    .dataframe tbody tr th:only-of-type {\n",
       "        vertical-align: middle;\n",
       "    }\n",
       "\n",
       "    .dataframe tbody tr th {\n",
       "        vertical-align: top;\n",
       "    }\n",
       "\n",
       "    .dataframe thead th {\n",
       "        text-align: right;\n",
       "    }\n",
       "</style>\n",
       "<table border=\"1\" class=\"dataframe\">\n",
       "  <thead>\n",
       "    <tr style=\"text-align: right;\">\n",
       "      <th></th>\n",
       "      <th>r_fore</th>\n",
       "      <th>f_bhp_naive</th>\n",
       "      <th>f_bhp_16day</th>\n",
       "      <th>f_bhp_arma</th>\n",
       "      <th>f_bhp_ar1</th>\n",
       "      <th>f_bhp_comb</th>\n",
       "      <th>f_bhp_method6</th>\n",
       "    </tr>\n",
       "  </thead>\n",
       "  <tbody>\n",
       "    <tr>\n",
       "      <th>0</th>\n",
       "      <td>1.020440</td>\n",
       "      <td>-1.237746</td>\n",
       "      <td>-0.266665</td>\n",
       "      <td>-0.048784</td>\n",
       "      <td>-0.058945</td>\n",
       "      <td>-0.124798</td>\n",
       "      <td>-0.321980</td>\n",
       "    </tr>\n",
       "    <tr>\n",
       "      <th>1</th>\n",
       "      <td>1.547069</td>\n",
       "      <td>1.020440</td>\n",
       "      <td>-0.233526</td>\n",
       "      <td>0.060715</td>\n",
       "      <td>0.034452</td>\n",
       "      <td>-0.046120</td>\n",
       "      <td>0.143623</td>\n",
       "    </tr>\n",
       "    <tr>\n",
       "      <th>2</th>\n",
       "      <td>-0.932579</td>\n",
       "      <td>1.547069</td>\n",
       "      <td>-0.013374</td>\n",
       "      <td>0.040406</td>\n",
       "      <td>0.051594</td>\n",
       "      <td>0.026209</td>\n",
       "      <td>0.296152</td>\n",
       "    </tr>\n",
       "    <tr>\n",
       "      <th>3</th>\n",
       "      <td>-2.001892</td>\n",
       "      <td>-0.932579</td>\n",
       "      <td>-0.118244</td>\n",
       "      <td>-0.085031</td>\n",
       "      <td>-0.033831</td>\n",
       "      <td>-0.079035</td>\n",
       "      <td>-0.230582</td>\n",
       "    </tr>\n",
       "    <tr>\n",
       "      <th>4</th>\n",
       "      <td>-0.220847</td>\n",
       "      <td>-2.001892</td>\n",
       "      <td>-0.170002</td>\n",
       "      <td>-0.082498</td>\n",
       "      <td>-0.082199</td>\n",
       "      <td>-0.111566</td>\n",
       "      <td>-0.446908</td>\n",
       "    </tr>\n",
       "    <tr>\n",
       "      <th>...</th>\n",
       "      <td>...</td>\n",
       "      <td>...</td>\n",
       "      <td>...</td>\n",
       "      <td>...</td>\n",
       "      <td>...</td>\n",
       "      <td>...</td>\n",
       "      <td>...</td>\n",
       "    </tr>\n",
       "    <tr>\n",
       "      <th>1179</th>\n",
       "      <td>-1.338835</td>\n",
       "      <td>1.079976</td>\n",
       "      <td>-0.019153</td>\n",
       "      <td>-0.021506</td>\n",
       "      <td>0.034735</td>\n",
       "      <td>-0.001975</td>\n",
       "      <td>0.189895</td>\n",
       "    </tr>\n",
       "    <tr>\n",
       "      <th>1180</th>\n",
       "      <td>0.077719</td>\n",
       "      <td>-1.338835</td>\n",
       "      <td>0.094675</td>\n",
       "      <td>-0.016529</td>\n",
       "      <td>-0.207648</td>\n",
       "      <td>-0.043167</td>\n",
       "      <td>-0.272801</td>\n",
       "    </tr>\n",
       "    <tr>\n",
       "      <th>1181</th>\n",
       "      <td>-1.146148</td>\n",
       "      <td>0.077719</td>\n",
       "      <td>0.188985</td>\n",
       "      <td>0.021303</td>\n",
       "      <td>0.173884</td>\n",
       "      <td>0.128057</td>\n",
       "      <td>0.118532</td>\n",
       "    </tr>\n",
       "    <tr>\n",
       "      <th>1182</th>\n",
       "      <td>1.662817</td>\n",
       "      <td>-1.146148</td>\n",
       "      <td>0.208103</td>\n",
       "      <td>0.027340</td>\n",
       "      <td>0.017002</td>\n",
       "      <td>0.084148</td>\n",
       "      <td>-0.134408</td>\n",
       "    </tr>\n",
       "    <tr>\n",
       "      <th>1183</th>\n",
       "      <td>0.795581</td>\n",
       "      <td>1.662817</td>\n",
       "      <td>0.231295</td>\n",
       "      <td>0.042233</td>\n",
       "      <td>-0.107483</td>\n",
       "      <td>0.055348</td>\n",
       "      <td>0.340706</td>\n",
       "    </tr>\n",
       "  </tbody>\n",
       "</table>\n",
       "<p>1184 rows × 7 columns</p>\n",
       "</div>"
      ],
      "text/plain": [
       "        r_fore  f_bhp_naive  f_bhp_16day  f_bhp_arma  f_bhp_ar1  f_bhp_comb  \\\n",
       "0     1.020440    -1.237746    -0.266665   -0.048784  -0.058945   -0.124798   \n",
       "1     1.547069     1.020440    -0.233526    0.060715   0.034452   -0.046120   \n",
       "2    -0.932579     1.547069    -0.013374    0.040406   0.051594    0.026209   \n",
       "3    -2.001892    -0.932579    -0.118244   -0.085031  -0.033831   -0.079035   \n",
       "4    -0.220847    -2.001892    -0.170002   -0.082498  -0.082199   -0.111566   \n",
       "...        ...          ...          ...         ...        ...         ...   \n",
       "1179 -1.338835     1.079976    -0.019153   -0.021506   0.034735   -0.001975   \n",
       "1180  0.077719    -1.338835     0.094675   -0.016529  -0.207648   -0.043167   \n",
       "1181 -1.146148     0.077719     0.188985    0.021303   0.173884    0.128057   \n",
       "1182  1.662817    -1.146148     0.208103    0.027340   0.017002    0.084148   \n",
       "1183  0.795581     1.662817     0.231295    0.042233  -0.107483    0.055348   \n",
       "\n",
       "      f_bhp_method6  \n",
       "0         -0.321980  \n",
       "1          0.143623  \n",
       "2          0.296152  \n",
       "3         -0.230582  \n",
       "4         -0.446908  \n",
       "...             ...  \n",
       "1179       0.189895  \n",
       "1180      -0.272801  \n",
       "1181       0.118532  \n",
       "1182      -0.134408  \n",
       "1183       0.340706  \n",
       "\n",
       "[1184 rows x 7 columns]"
      ]
     },
     "execution_count": 117,
     "metadata": {},
     "output_type": "execute_result"
    }
   ],
   "source": [
    "dff_bhp = pd.DataFrame({\n",
    "    'r_fore': r_fore,\n",
    "    'f_bhp_naive': f_all[:, 0],\n",
    "    'f_bhp_16day': f_all[:, 1],\n",
    "    'f_bhp_arma': f_all[:, 2],\n",
    "    'f_bhp_ar1': f_all[:, 3],\n",
    "    'f_bhp_comb': f_all[:, 4],\n",
    "    'f_bhp_method6': f_all[:,5]})\n",
    "dff_bhp"
   ]
  },
  {
   "cell_type": "code",
   "execution_count": null,
   "id": "7c75354c",
   "metadata": {},
   "outputs": [
    {
     "name": "stderr",
     "output_type": "stream",
     "text": [
      "/Users/iyw/opt/anaconda3/lib/python3.9/site-packages/statsmodels/base/model.py:1889: FutureWarning: The behavior of wald_test will change after 0.14 to returning scalar test statistic values. To get the future behavior now, set scalar to True. To silence this message while retaining the legacy behavior, set scalar to False.\n",
      "  warnings.warn(\n"
     ]
    },
    {
     "data": {
      "text/html": [
       "<div>\n",
       "<style scoped>\n",
       "    .dataframe tbody tr th:only-of-type {\n",
       "        vertical-align: middle;\n",
       "    }\n",
       "\n",
       "    .dataframe tbody tr th {\n",
       "        vertical-align: top;\n",
       "    }\n",
       "\n",
       "    .dataframe thead th {\n",
       "        text-align: right;\n",
       "    }\n",
       "</style>\n",
       "<table border=\"1\" class=\"dataframe\">\n",
       "  <thead>\n",
       "    <tr style=\"text-align: right;\">\n",
       "      <th></th>\n",
       "      <th>alpha</th>\n",
       "      <th>beta</th>\n",
       "    </tr>\n",
       "  </thead>\n",
       "  <tbody>\n",
       "    <tr>\n",
       "      <th>f_bhp_naive</th>\n",
       "      <td>0.060986</td>\n",
       "      <td>-0.050859</td>\n",
       "    </tr>\n",
       "    <tr>\n",
       "      <th>f_bhp_16day</th>\n",
       "      <td>0.058166</td>\n",
       "      <td>-0.000897</td>\n",
       "    </tr>\n",
       "    <tr>\n",
       "      <th>f_bhp_arma</th>\n",
       "      <td>0.080788</td>\n",
       "      <td>-1.307330</td>\n",
       "    </tr>\n",
       "    <tr>\n",
       "      <th>f_bhp_ar1</th>\n",
       "      <td>0.040465</td>\n",
       "      <td>0.755594</td>\n",
       "    </tr>\n",
       "    <tr>\n",
       "      <th>f_bhp_comb</th>\n",
       "      <td>0.057069</td>\n",
       "      <td>0.033335</td>\n",
       "    </tr>\n",
       "    <tr>\n",
       "      <th>f_bhp_method6</th>\n",
       "      <td>0.065181</td>\n",
       "      <td>-0.197176</td>\n",
       "    </tr>\n",
       "  </tbody>\n",
       "</table>\n",
       "</div>"
      ],
      "text/plain": [
       "                  alpha      beta\n",
       "f_bhp_naive    0.060986 -0.050859\n",
       "f_bhp_16day    0.058166 -0.000897\n",
       "f_bhp_arma     0.080788 -1.307330\n",
       "f_bhp_ar1      0.040465  0.755594\n",
       "f_bhp_comb     0.057069  0.033335\n",
       "f_bhp_method6  0.065181 -0.197176"
      ]
     },
     "execution_count": 118,
     "metadata": {},
     "output_type": "execute_result"
    }
   ],
   "source": [
    "import statsmodels.formula.api as smf\n",
    "\n",
    "mz_bhp_naive = smf.ols('r_fore ~ f_bhp_naive', dff_bhp).fit()\n",
    "mz_bhp_16day = smf.ols('r_fore ~ f_bhp_16day', dff_bhp).fit()\n",
    "mz_bhp_arma = smf.ols('r_fore ~ f_bhp_arma', dff_bhp).fit()\n",
    "mz_bhp_ar1 = smf.ols('r_fore ~ f_bhp_ar1', dff_bhp).fit()\n",
    "mz_bhp_comb = smf.ols('r_fore ~ f_bhp_comb', dff_bhp).fit()\n",
    "mz_bhp_method6 = smf.ols('r_fore ~ f_bhp_method6', dff_bhp).fit()\n",
    "\n",
    "\n",
    "# bhp F test for alpha=0, beta=1 from MZ regression\n",
    "\n",
    "wald_naive = mz_bhp_naive.wald_test('(Intercept = 0, f_bhp_naive = 1)')\n",
    "wald_16day = mz_bhp_16day.wald_test('(Intercept = 0, f_bhp_16day = 1)')\n",
    "wald_arma = mz_bhp_arma.wald_test('(Intercept = 0, f_bhp_arma = 1)')\n",
    "wald_ar1 = mz_bhp_ar1.wald_test('(Intercept = 0, f_bhp_ar1 = 1)')\n",
    "wald_comb = mz_bhp_comb.wald_test('(Intercept = 0, f_bhp_comb = 1)')\n",
    "wald_method6 = mz_bhp_method6.wald_test('(Intercept = 0, f_bhp_method6 = 1)')\n",
    "\n",
    "# bhp MZ R^2\n",
    "mz_bhp_r2 = pd.Series([\n",
    "    mz_bhp_naive.rsquared,\n",
    "    mz_bhp_16day.rsquared,\n",
    "    mz_bhp_arma.rsquared,\n",
    "    mz_bhp_ar1.rsquared,\n",
    "    mz_bhp_comb.rsquared,\n",
    "    mz_bhp_method6.rsquared], index=dff_bhp.columns[1:])\n",
    "\n",
    "\n",
    "# MZ F-stat\n",
    "mz_f = pd.Series([\n",
    "    wald_naive.fvalue[0][0],\n",
    "    wald_16day.fvalue[0][0],\n",
    "    wald_arma.fvalue[0][0],\n",
    "    wald_ar1.fvalue[0][0],\n",
    "    wald_comb.fvalue[0][0],\n",
    "    wald_method6.fvalue[0][0]],index=dff_bhp.columns[1:])\n",
    "#mz_f\n",
    "\n",
    "# MZ p-value\n",
    "mz_p = pd.Series([\n",
    "    wald_naive.pvalue,\n",
    "    wald_16day.pvalue,\n",
    "    wald_arma.pvalue,\n",
    "    wald_ar1.pvalue,\n",
    "    wald_comb.pvalue,\n",
    "    wald_method6.pvalue], index=dff_bhp.columns[1:])\n",
    "#mz_p\n",
    "\n",
    "# ibm MZ parameters\n",
    "mz_bhp_par = pd.DataFrame([\n",
    "    mz_bhp_naive.params.values,\n",
    "    mz_bhp_16day.params.values,\n",
    "    mz_bhp_arma.params.values,\n",
    "    mz_bhp_ar1.params.values,\n",
    "    mz_bhp_comb.params.values,\n",
    "    mz_bhp_method6.params.values], index=dff_bhp.columns[1:], columns=['alpha', 'beta'])\n",
    "mz_bhp_par"
   ]
  },
  {
   "cell_type": "code",
   "execution_count": null,
   "id": "94d0fe33",
   "metadata": {},
   "outputs": [
    {
     "data": {
      "text/html": [
       "<div>\n",
       "<style scoped>\n",
       "    .dataframe tbody tr th:only-of-type {\n",
       "        vertical-align: middle;\n",
       "    }\n",
       "\n",
       "    .dataframe tbody tr th {\n",
       "        vertical-align: top;\n",
       "    }\n",
       "\n",
       "    .dataframe thead th {\n",
       "        text-align: right;\n",
       "    }\n",
       "</style>\n",
       "<table border=\"1\" class=\"dataframe\">\n",
       "  <thead>\n",
       "    <tr style=\"text-align: right;\">\n",
       "      <th></th>\n",
       "      <th>Naive</th>\n",
       "      <th>16day</th>\n",
       "      <th>ARMA(2,1)</th>\n",
       "      <th>Reg</th>\n",
       "      <th>Combination of 2-4</th>\n",
       "      <th>Method6</th>\n",
       "    </tr>\n",
       "  </thead>\n",
       "  <tbody>\n",
       "    <tr>\n",
       "      <th>RMSE</th>\n",
       "      <td>2.6821</td>\n",
       "      <td>1.9049</td>\n",
       "      <td>1.8597</td>\n",
       "      <td>1.8476</td>\n",
       "      <td>1.8557</td>\n",
       "      <td>1.9073</td>\n",
       "    </tr>\n",
       "    <tr>\n",
       "      <th>MAD</th>\n",
       "      <td>1.9480</td>\n",
       "      <td>1.3971</td>\n",
       "      <td>1.3397</td>\n",
       "      <td>1.3379</td>\n",
       "      <td>1.3475</td>\n",
       "      <td>1.4026</td>\n",
       "    </tr>\n",
       "    <tr>\n",
       "      <th>MZ R-sq</th>\n",
       "      <td>0.0026</td>\n",
       "      <td>0.0000</td>\n",
       "      <td>0.0047</td>\n",
       "      <td>0.0033</td>\n",
       "      <td>0.0000</td>\n",
       "      <td>0.0017</td>\n",
       "    </tr>\n",
       "    <tr>\n",
       "      <th>MZ F</th>\n",
       "      <td>654.5201</td>\n",
       "      <td>35.6377</td>\n",
       "      <td>9.0728</td>\n",
       "      <td>0.4124</td>\n",
       "      <td>3.6943</td>\n",
       "      <td>38.2763</td>\n",
       "    </tr>\n",
       "    <tr>\n",
       "      <th>MZ pval</th>\n",
       "      <td>0.0000</td>\n",
       "      <td>0.0000</td>\n",
       "      <td>0.0001</td>\n",
       "      <td>0.6621</td>\n",
       "      <td>0.0252</td>\n",
       "      <td>0.0000</td>\n",
       "    </tr>\n",
       "  </tbody>\n",
       "</table>\n",
       "</div>"
      ],
      "text/plain": [
       "            Naive    16day  ARMA(2,1)     Reg  Combination of 2-4  Method6\n",
       "RMSE       2.6821   1.9049     1.8597  1.8476              1.8557   1.9073\n",
       "MAD        1.9480   1.3971     1.3397  1.3379              1.3475   1.4026\n",
       "MZ R-sq    0.0026   0.0000     0.0047  0.0033              0.0000   0.0017\n",
       "MZ F     654.5201  35.6377     9.0728  0.4124              3.6943  38.2763\n",
       "MZ pval    0.0000   0.0000     0.0001  0.6621              0.0252   0.0000"
      ]
     },
     "execution_count": 119,
     "metadata": {},
     "output_type": "execute_result"
    }
   ],
   "source": [
    "i_col = 4\n",
    "l = np.empty((5, 6))\n",
    "for i in range(6):\n",
    "    l[0, i], l[1, i] = loss_func(r_fore, f_all[:, i])\n",
    "    l[2, i] = mz_bhp_r2[i]\n",
    "    l[3, i] = mz_f[i]\n",
    "    l[4, i] = mz_p[i]\n",
    "c_name = ['Naive', '16day', 'ARMA(2,1)', 'Reg', 'Combination of 2-4','Method6']\n",
    "tbl_bhp = pd.DataFrame(l.round(4), columns=c_name, index=['RMSE', 'MAD', 'MZ R-sq', 'MZ F', 'MZ pval'])\n",
    "tbl_bhp"
   ]
  },
  {
   "cell_type": "markdown",
   "id": "123176dc",
   "metadata": {},
   "source": [
    "From the RMSE and MAD, it suggests that the 'Reg AR(1) model' is the best model to predict the true return of BHP as it had the smallest RMSE and MAD, the 'ARMA(2,1) model' and the 'combination of 2-4 model' seems to also have a good prediction capability to forecast the true return. While 'naive model' seem like the worst model to forecast the return. \n",
    "\n",
    "The r-squared tells you the amount of movement explained by the forecast, it seems like all models does not explains the forecast well as r-sqaured are really small, all models that could only explain less than 1% of the forecast return.\n",
    "\n",
    "The p value is to see how close the model is to alpha being 0, and beta being 1 (p< 0.05). From the value, we can see that only 'Regression AR(1) model' accept the hypothesis, showing that this model's alpha is close to 0 and beta is close to 1. \n",
    "\n",
    "From the above quantitiative measures, we can see that the 'Regression AR(1) model' seems to be the best model in forecasting the true return of BHP. As it has the smallest RMSE and MAD, also its p value accept the null hypothesis. Additionally, it can explain the most movement from forecast as it has the largest the r-square in all models. "
   ]
  },
  {
   "cell_type": "markdown",
   "id": "9febfd6a",
   "metadata": {},
   "source": [
    "## 2.3 RMSE, MAD and MZ regression for asset 6"
   ]
  },
  {
   "cell_type": "code",
   "execution_count": null,
   "id": "37cf4001",
   "metadata": {},
   "outputs": [
    {
     "data": {
      "application/vnd.jupyter.widget-view+json": {
       "model_id": "de63e66b36084268a6b6ceb711a1bcc0",
       "version_major": 2,
       "version_minor": 0
      },
      "text/plain": [
       "  0%|          | 0/1184 [00:00<?, ?it/s]"
      ]
     },
     "metadata": {},
     "output_type": "display_data"
    }
   ],
   "source": [
    "fnaive_cba = np.empty(n_fore)\n",
    "f16day_cba = np.empty(n_fore)\n",
    "far21_cba = np.empty(n_fore)\n",
    "freg_cba = np.empty(n_fore)\n",
    "\n",
    "for i in tqdm(range(n_fore)):\n",
    "    y = r.iloc[(i + 1):(-n_fore + i), 5].values\n",
    "    x = r.iloc[i:(-n_fore + i - 1), -1].values\n",
    "    x_new = r.iloc[(-n_fore + i - 1), -1]\n",
    "    i_fore = len(y)\n",
    "\n",
    "    # Naive\n",
    "    fnaive_cba[i] = y[-1]\n",
    "    # 16 days\n",
    "    f16day_cba[i] = y[-16:].mean()\n",
    "   \n",
    "    # Formal models\n",
    "    if i % 20 == 0:                  # re-estimate the model when i=0 and then only every 20 days after that (to save time)\n",
    "        reg_c = ARIMA(y, exog=x, order=(1, 0, 0)).fit()   # Reg\n",
    "        ar_c = ARIMA(y, order=(2, 0, 1)).fit()    \n",
    "    \n",
    "    reg_cba = reg_c.apply(y, exog=x)\n",
    "    arma21_cba = ar_c.apply(y)\n",
    "    \n",
    "    # these lines generate the 1 step-ahead forecasts\n",
    "    freg_cba[i] = reg_cba.predict(exog=x_new, start=i_fore, end=i_fore)\n",
    "    far21_cba[i] = arma21_cba.predict(start=i_fore, end=i_fore)    "
   ]
  },
  {
   "cell_type": "code",
   "execution_count": null,
   "id": "411a32c6",
   "metadata": {},
   "outputs": [],
   "source": [
    "# combination of method 2-4\n",
    "fcomb_cba = (freg_cba + f16day_cba + far21_cba)/3"
   ]
  },
  {
   "cell_type": "code",
   "execution_count": null,
   "id": "888bebd1",
   "metadata": {},
   "outputs": [
    {
     "data": {
      "text/plain": [
       "array([[-4.31990661e-02,  3.67855638e-01,  3.10909059e-02,\n",
       "         5.67417197e-02],\n",
       "       [ 1.16017367e+00,  4.19629751e-01, -5.97622556e-02,\n",
       "        -6.27734751e-02],\n",
       "       [ 1.06236978e+00,  3.36489229e-01, -5.25597250e-02,\n",
       "        -7.49302181e-02],\n",
       "       [-1.50122327e+00,  2.49636714e-01,  1.40865955e-01,\n",
       "         9.59005306e-02],\n",
       "       [ 5.36142039e-02,  2.40439999e-01,  2.39280109e-02,\n",
       "        -7.85863626e-03],\n",
       "       [ 1.03462639e+00,  2.76617758e-01, -5.02986318e-02,\n",
       "        -4.88459093e-02],\n",
       "       [ 7.50572092e-01,  8.01592874e-02, -2.90173317e-02,\n",
       "        -1.17766891e-02],\n",
       "       [ 1.12060471e+00,  1.63545657e-01, -5.69001114e-02,\n",
       "        -8.74915903e-02],\n",
       "       [ 1.65259235e+00,  3.03018095e-01, -9.70898112e-02,\n",
       "        -1.27558564e-01],\n",
       "       [ 1.84221547e-01,  4.93135088e-01,  1.36169326e-02,\n",
       "         1.93592769e-02],\n",
       "       [-7.49227809e-01,  4.24219132e-01,  8.42535757e-02,\n",
       "         1.17381276e-01],\n",
       "       [-3.50868765e-01,  3.50820608e-01,  5.43412574e-02,\n",
       "         1.25446060e-01],\n",
       "       [ 2.21856265e+00,  5.04533893e-01, -1.39569710e-01,\n",
       "        -1.24564860e-01],\n",
       "       [ 9.96030221e-01,  5.14256134e-01, -4.77060813e-02,\n",
       "        -2.50164842e-02],\n",
       "       [ 8.77103416e-01,  4.96132748e-01, -3.85703518e-02,\n",
       "        -4.60463736e-02],\n",
       "       [ 3.07164292e-01,  5.48319776e-01,  4.45384000e-03,\n",
       "         7.11346228e-04],\n",
       "       [ 8.76640105e-01,  6.05809724e-01, -3.30117264e-02,\n",
       "        -7.93476132e-02],\n",
       "       [-1.48195045e+00,  4.40676966e-01,  1.40836534e-01,\n",
       "         1.50512576e-01],\n",
       "       [ 1.31509598e+00,  4.56472354e-01, -6.45054636e-02,\n",
       "        -3.26827554e-02],\n",
       "       [-3.83839484e-01,  5.26308841e-01,  5.95900008e-02,\n",
       "        -3.76698425e-04]])"
      ]
     },
     "execution_count": 123,
     "metadata": {},
     "output_type": "execute_result"
    }
   ],
   "source": [
    "# method 6\n",
    "fmethod6_cba = np.vstack ([fnaive_cba[-20:],f16day_cba[-20:],far21_cba[-20:],freg_cba[-20:]]).T\n",
    "fmethod6_cba"
   ]
  },
  {
   "cell_type": "code",
   "execution_count": null,
   "id": "f88c60b0",
   "metadata": {},
   "outputs": [
    {
     "data": {
      "text/html": [
       "<div>\n",
       "<style scoped>\n",
       "    .dataframe tbody tr th:only-of-type {\n",
       "        vertical-align: middle;\n",
       "    }\n",
       "\n",
       "    .dataframe tbody tr th {\n",
       "        vertical-align: top;\n",
       "    }\n",
       "\n",
       "    .dataframe thead th {\n",
       "        text-align: right;\n",
       "    }\n",
       "</style>\n",
       "<table border=\"1\" class=\"dataframe\">\n",
       "  <thead>\n",
       "    <tr style=\"text-align: right;\">\n",
       "      <th></th>\n",
       "      <th>Naive</th>\n",
       "      <th>16day</th>\n",
       "      <th>ARMA21</th>\n",
       "      <th>Reg</th>\n",
       "    </tr>\n",
       "  </thead>\n",
       "  <tbody>\n",
       "    <tr>\n",
       "      <th>RMSE</th>\n",
       "      <td>1.4583</td>\n",
       "      <td>1.0251</td>\n",
       "      <td>1.0934</td>\n",
       "      <td>1.0866</td>\n",
       "    </tr>\n",
       "    <tr>\n",
       "      <th>MAD</th>\n",
       "      <td>1.1921</td>\n",
       "      <td>0.8542</td>\n",
       "      <td>0.9715</td>\n",
       "      <td>0.9695</td>\n",
       "    </tr>\n",
       "  </tbody>\n",
       "</table>\n",
       "</div>"
      ],
      "text/plain": [
       "       Naive   16day  ARMA21     Reg\n",
       "RMSE  1.4583  1.0251  1.0934  1.0866\n",
       "MAD   1.1921  0.8542  0.9715  0.9695"
      ]
     },
     "execution_count": 124,
     "metadata": {},
     "output_type": "execute_result"
    }
   ],
   "source": [
    "l = np.empty((2, 4))\n",
    "for i in range(4):\n",
    "    l[0, i], l[1, i] = loss_func(r.iloc[-20:, 5].values, fmethod6_cba[:, i])\n",
    "c_name = ['Naive', '16day', 'ARMA21', 'Reg']\n",
    "tbl_cba = pd.DataFrame(l.round(4), columns=c_name, index=['RMSE', 'MAD'])\n",
    "tbl_cba"
   ]
  },
  {
   "cell_type": "code",
   "execution_count": null,
   "id": "8bb2eb7a",
   "metadata": {},
   "outputs": [],
   "source": [
    "in_c1 = 1/tbl_cba.iloc[1,0]\n",
    "in_c2 = 1/tbl_cba.iloc[1,1]\n",
    "in_c3 = 1/tbl_cba.iloc[1,2]\n",
    "in_c4 = 1/tbl_cba.iloc[1,3]\n",
    "\n",
    "total_c = in_c1 + in_c2 + in_c3 + in_c4\n",
    "\n",
    "c_1 = in_c1/total_c\n",
    "c_2 = in_c2/total_c\n",
    "c_3 = in_c3/total_c\n",
    "c_4 = in_c4/total_c"
   ]
  },
  {
   "cell_type": "code",
   "execution_count": null,
   "id": "d2d9699d",
   "metadata": {},
   "outputs": [
    {
     "data": {
      "text/plain": [
       "array([-0.38387645, -0.09956797, -0.08208205, ..., -0.10491332,\n",
       "        0.37772125,  0.0872424 ])"
      ]
     },
     "execution_count": 126,
     "metadata": {},
     "output_type": "execute_result"
    }
   ],
   "source": [
    "fmethod6_cba = c_1 * fnaive_cba + c_2 * f16day_cba + c_3 * far21_cba + c_4 * freg_cba\n",
    "fmethod6_cba"
   ]
  },
  {
   "cell_type": "code",
   "execution_count": null,
   "id": "f2bea552",
   "metadata": {},
   "outputs": [
    {
     "data": {
      "text/html": [
       "<div>\n",
       "<style scoped>\n",
       "    .dataframe tbody tr th:only-of-type {\n",
       "        vertical-align: middle;\n",
       "    }\n",
       "\n",
       "    .dataframe tbody tr th {\n",
       "        vertical-align: top;\n",
       "    }\n",
       "\n",
       "    .dataframe thead th {\n",
       "        text-align: right;\n",
       "    }\n",
       "</style>\n",
       "<table border=\"1\" class=\"dataframe\">\n",
       "  <thead>\n",
       "    <tr style=\"text-align: right;\">\n",
       "      <th></th>\n",
       "      <th>naive</th>\n",
       "      <th>16 day average</th>\n",
       "      <th>arma(2,1)</th>\n",
       "      <th>ar(1)</th>\n",
       "      <th>combination of method 2-4</th>\n",
       "      <th>method 6</th>\n",
       "    </tr>\n",
       "  </thead>\n",
       "  <tbody>\n",
       "    <tr>\n",
       "      <th>RMSE</th>\n",
       "      <td>2.3072</td>\n",
       "      <td>1.5975</td>\n",
       "      <td>1.5580</td>\n",
       "      <td>1.5538</td>\n",
       "      <td>1.5581</td>\n",
       "      <td>1.6213</td>\n",
       "    </tr>\n",
       "    <tr>\n",
       "      <th>MAD</th>\n",
       "      <td>1.4520</td>\n",
       "      <td>1.0575</td>\n",
       "      <td>1.0245</td>\n",
       "      <td>1.0236</td>\n",
       "      <td>1.0295</td>\n",
       "      <td>1.0498</td>\n",
       "    </tr>\n",
       "  </tbody>\n",
       "</table>\n",
       "</div>"
      ],
      "text/plain": [
       "       naive  16 day average  arma(2,1)   ar(1)  combination of method 2-4  \\\n",
       "RMSE  2.3072          1.5975     1.5580  1.5538                     1.5581   \n",
       "MAD   1.4520          1.0575     1.0245  1.0236                     1.0295   \n",
       "\n",
       "      method 6  \n",
       "RMSE    1.6213  \n",
       "MAD     1.0498  "
      ]
     },
     "execution_count": 127,
     "metadata": {},
     "output_type": "execute_result"
    }
   ],
   "source": [
    "# CBA\n",
    "f_all_c = np.vstack([fnaive_cba, f16day_cba, far21_cba, freg_cba, fcomb_cba, fmethod6_cba]).T\n",
    "i_col = 5\n",
    "r_fore_c = r.iloc[-n_fore:, i_col].values \n",
    "l = np.empty((2, 6)) # 2 loss functions and 6 methods\n",
    "for i in range(6):\n",
    "    l[0, i], l[1, i] = loss_func(r_fore_c, f_all_c[:, i]) \n",
    "c_name = ['naive', '16 day average', 'arma(2,1)','ar(1)','combination of method 2-4','method 6']\n",
    "tbl_cba = pd.DataFrame(l.round(4), columns=c_name, index=['RMSE', 'MAD'])\n",
    "tbl_cba"
   ]
  },
  {
   "cell_type": "code",
   "execution_count": null,
   "id": "d9e46d2e",
   "metadata": {},
   "outputs": [
    {
     "data": {
      "text/html": [
       "<div>\n",
       "<style scoped>\n",
       "    .dataframe tbody tr th:only-of-type {\n",
       "        vertical-align: middle;\n",
       "    }\n",
       "\n",
       "    .dataframe tbody tr th {\n",
       "        vertical-align: top;\n",
       "    }\n",
       "\n",
       "    .dataframe thead th {\n",
       "        text-align: right;\n",
       "    }\n",
       "</style>\n",
       "<table border=\"1\" class=\"dataframe\">\n",
       "  <thead>\n",
       "    <tr style=\"text-align: right;\">\n",
       "      <th></th>\n",
       "      <th>r_fore</th>\n",
       "      <th>f_cba_naive</th>\n",
       "      <th>f_cba_16day</th>\n",
       "      <th>f_cba_arma</th>\n",
       "      <th>f_cba_ar1</th>\n",
       "      <th>f_cba_comb</th>\n",
       "      <th>f_cba_method6</th>\n",
       "    </tr>\n",
       "  </thead>\n",
       "  <tbody>\n",
       "    <tr>\n",
       "      <th>0</th>\n",
       "      <td>-0.327867</td>\n",
       "      <td>-1.932617</td>\n",
       "      <td>-0.065748</td>\n",
       "      <td>0.049046</td>\n",
       "      <td>0.082569</td>\n",
       "      <td>0.021955</td>\n",
       "      <td>-0.383876</td>\n",
       "    </tr>\n",
       "    <tr>\n",
       "      <th>1</th>\n",
       "      <td>-0.316300</td>\n",
       "      <td>-0.327867</td>\n",
       "      <td>-0.138193</td>\n",
       "      <td>-0.011363</td>\n",
       "      <td>0.041917</td>\n",
       "      <td>-0.035880</td>\n",
       "      <td>-0.099568</td>\n",
       "    </tr>\n",
       "    <tr>\n",
       "      <th>2</th>\n",
       "      <td>-0.228317</td>\n",
       "      <td>-0.316300</td>\n",
       "      <td>-0.151007</td>\n",
       "      <td>0.059076</td>\n",
       "      <td>0.045761</td>\n",
       "      <td>-0.015390</td>\n",
       "      <td>-0.082082</td>\n",
       "    </tr>\n",
       "    <tr>\n",
       "      <th>3</th>\n",
       "      <td>-0.177960</td>\n",
       "      <td>-0.228317</td>\n",
       "      <td>-0.216856</td>\n",
       "      <td>0.020538</td>\n",
       "      <td>0.031187</td>\n",
       "      <td>-0.055044</td>\n",
       "      <td>-0.096328</td>\n",
       "    </tr>\n",
       "    <tr>\n",
       "      <th>4</th>\n",
       "      <td>0.469642</td>\n",
       "      <td>-0.177960</td>\n",
       "      <td>-0.174080</td>\n",
       "      <td>0.044188</td>\n",
       "      <td>0.048108</td>\n",
       "      <td>-0.027262</td>\n",
       "      <td>-0.063378</td>\n",
       "    </tr>\n",
       "    <tr>\n",
       "      <th>...</th>\n",
       "      <td>...</td>\n",
       "      <td>...</td>\n",
       "      <td>...</td>\n",
       "      <td>...</td>\n",
       "      <td>...</td>\n",
       "      <td>...</td>\n",
       "      <td>...</td>\n",
       "    </tr>\n",
       "    <tr>\n",
       "      <th>1179</th>\n",
       "      <td>0.876640</td>\n",
       "      <td>0.307164</td>\n",
       "      <td>0.548320</td>\n",
       "      <td>0.004454</td>\n",
       "      <td>0.000711</td>\n",
       "      <td>0.184495</td>\n",
       "      <td>0.222315</td>\n",
       "    </tr>\n",
       "    <tr>\n",
       "      <th>1180</th>\n",
       "      <td>-1.481950</td>\n",
       "      <td>0.876640</td>\n",
       "      <td>0.605810</td>\n",
       "      <td>-0.033012</td>\n",
       "      <td>-0.079348</td>\n",
       "      <td>0.164483</td>\n",
       "      <td>0.326450</td>\n",
       "    </tr>\n",
       "    <tr>\n",
       "      <th>1181</th>\n",
       "      <td>1.315096</td>\n",
       "      <td>-1.481950</td>\n",
       "      <td>0.440677</td>\n",
       "      <td>0.140837</td>\n",
       "      <td>0.150513</td>\n",
       "      <td>0.244009</td>\n",
       "      <td>-0.104913</td>\n",
       "    </tr>\n",
       "    <tr>\n",
       "      <th>1182</th>\n",
       "      <td>-0.383839</td>\n",
       "      <td>1.315096</td>\n",
       "      <td>0.456472</td>\n",
       "      <td>-0.064505</td>\n",
       "      <td>-0.032683</td>\n",
       "      <td>0.119761</td>\n",
       "      <td>0.377721</td>\n",
       "    </tr>\n",
       "    <tr>\n",
       "      <th>1183</th>\n",
       "      <td>1.166620</td>\n",
       "      <td>-0.383839</td>\n",
       "      <td>0.526309</td>\n",
       "      <td>0.059590</td>\n",
       "      <td>-0.000377</td>\n",
       "      <td>0.195174</td>\n",
       "      <td>0.087242</td>\n",
       "    </tr>\n",
       "  </tbody>\n",
       "</table>\n",
       "<p>1184 rows × 7 columns</p>\n",
       "</div>"
      ],
      "text/plain": [
       "        r_fore  f_cba_naive  f_cba_16day  f_cba_arma  f_cba_ar1  f_cba_comb  \\\n",
       "0    -0.327867    -1.932617    -0.065748    0.049046   0.082569    0.021955   \n",
       "1    -0.316300    -0.327867    -0.138193   -0.011363   0.041917   -0.035880   \n",
       "2    -0.228317    -0.316300    -0.151007    0.059076   0.045761   -0.015390   \n",
       "3    -0.177960    -0.228317    -0.216856    0.020538   0.031187   -0.055044   \n",
       "4     0.469642    -0.177960    -0.174080    0.044188   0.048108   -0.027262   \n",
       "...        ...          ...          ...         ...        ...         ...   \n",
       "1179  0.876640     0.307164     0.548320    0.004454   0.000711    0.184495   \n",
       "1180 -1.481950     0.876640     0.605810   -0.033012  -0.079348    0.164483   \n",
       "1181  1.315096    -1.481950     0.440677    0.140837   0.150513    0.244009   \n",
       "1182 -0.383839     1.315096     0.456472   -0.064505  -0.032683    0.119761   \n",
       "1183  1.166620    -0.383839     0.526309    0.059590  -0.000377    0.195174   \n",
       "\n",
       "      f_cba_method6  \n",
       "0         -0.383876  \n",
       "1         -0.099568  \n",
       "2         -0.082082  \n",
       "3         -0.096328  \n",
       "4         -0.063378  \n",
       "...             ...  \n",
       "1179       0.222315  \n",
       "1180       0.326450  \n",
       "1181      -0.104913  \n",
       "1182       0.377721  \n",
       "1183       0.087242  \n",
       "\n",
       "[1184 rows x 7 columns]"
      ]
     },
     "execution_count": 128,
     "metadata": {},
     "output_type": "execute_result"
    }
   ],
   "source": [
    "dff_cba = pd.DataFrame({\n",
    "    'r_fore': r_fore_c,\n",
    "    'f_cba_naive': f_all_c[:, 0],\n",
    "    'f_cba_16day': f_all_c[:, 1],\n",
    "    'f_cba_arma': f_all_c[:, 2],\n",
    "    'f_cba_ar1': f_all_c[:, 3],\n",
    "    'f_cba_comb': f_all_c[:, 4],\n",
    "    'f_cba_method6': f_all_c[:,5]})\n",
    "dff_cba"
   ]
  },
  {
   "cell_type": "code",
   "execution_count": null,
   "id": "c98d006e",
   "metadata": {},
   "outputs": [
    {
     "name": "stderr",
     "output_type": "stream",
     "text": [
      "/Users/iyw/opt/anaconda3/lib/python3.9/site-packages/statsmodels/base/model.py:1889: FutureWarning: The behavior of wald_test will change after 0.14 to returning scalar test statistic values. To get the future behavior now, set scalar to True. To silence this message while retaining the legacy behavior, set scalar to False.\n",
      "  warnings.warn(\n"
     ]
    },
    {
     "data": {
      "text/html": [
       "<div>\n",
       "<style scoped>\n",
       "    .dataframe tbody tr th:only-of-type {\n",
       "        vertical-align: middle;\n",
       "    }\n",
       "\n",
       "    .dataframe tbody tr th {\n",
       "        vertical-align: top;\n",
       "    }\n",
       "\n",
       "    .dataframe thead th {\n",
       "        text-align: right;\n",
       "    }\n",
       "</style>\n",
       "<table border=\"1\" class=\"dataframe\">\n",
       "  <thead>\n",
       "    <tr style=\"text-align: right;\">\n",
       "      <th></th>\n",
       "      <th>alpha</th>\n",
       "      <th>beta</th>\n",
       "    </tr>\n",
       "  </thead>\n",
       "  <tbody>\n",
       "    <tr>\n",
       "      <th>f_cba_naive</th>\n",
       "      <td>0.042992</td>\n",
       "      <td>-0.109141</td>\n",
       "    </tr>\n",
       "    <tr>\n",
       "      <th>f_cba_16day</th>\n",
       "      <td>0.040261</td>\n",
       "      <td>-0.036481</td>\n",
       "    </tr>\n",
       "    <tr>\n",
       "      <th>f_cba_arma</th>\n",
       "      <td>0.056302</td>\n",
       "      <td>-0.512698</td>\n",
       "    </tr>\n",
       "    <tr>\n",
       "      <th>f_cba_ar1</th>\n",
       "      <td>0.047444</td>\n",
       "      <td>-0.234406</td>\n",
       "    </tr>\n",
       "    <tr>\n",
       "      <th>f_cba_comb</th>\n",
       "      <td>0.048008</td>\n",
       "      <td>-0.260093</td>\n",
       "    </tr>\n",
       "    <tr>\n",
       "      <th>f_cba_method6</th>\n",
       "      <td>0.056745</td>\n",
       "      <td>-0.507606</td>\n",
       "    </tr>\n",
       "  </tbody>\n",
       "</table>\n",
       "</div>"
      ],
      "text/plain": [
       "                  alpha      beta\n",
       "f_cba_naive    0.042992 -0.109141\n",
       "f_cba_16day    0.040261 -0.036481\n",
       "f_cba_arma     0.056302 -0.512698\n",
       "f_cba_ar1      0.047444 -0.234406\n",
       "f_cba_comb     0.048008 -0.260093\n",
       "f_cba_method6  0.056745 -0.507606"
      ]
     },
     "execution_count": 129,
     "metadata": {},
     "output_type": "execute_result"
    }
   ],
   "source": [
    "import statsmodels.formula.api as smf\n",
    "\n",
    "mz_cba_naive = smf.ols('r_fore ~ f_cba_naive', dff_cba).fit()\n",
    "mz_cba_16day = smf.ols('r_fore ~ f_cba_16day', dff_cba).fit()\n",
    "mz_cba_arma = smf.ols('r_fore ~ f_cba_arma', dff_cba).fit()\n",
    "mz_cba_ar1 = smf.ols('r_fore ~ f_cba_ar1', dff_cba).fit()\n",
    "mz_cba_comb = smf.ols('r_fore ~ f_cba_comb', dff_cba).fit()\n",
    "mz_cba_method6 = smf.ols('r_fore ~ f_cba_method6', dff_cba).fit()\n",
    "\n",
    "\n",
    "# cba F test for alpha=0, beta=1 from MZ regression\n",
    "\n",
    "wald_naive_c = mz_cba_naive.wald_test('(Intercept = 0, f_cba_naive = 1)')\n",
    "wald_16day_c = mz_cba_16day.wald_test('(Intercept = 0, f_cba_16day = 1)')\n",
    "wald_arma_c = mz_cba_arma.wald_test('(Intercept = 0, f_cba_arma = 1)')\n",
    "wald_ar1_c = mz_cba_ar1.wald_test('(Intercept = 0, f_cba_ar1 = 1)')\n",
    "wald_comb_c = mz_cba_comb.wald_test('(Intercept = 0, f_cba_comb = 1)')\n",
    "wald_method6_c = mz_cba_method6.wald_test('(Intercept = 0, f_cba_method6 = 1)')\n",
    "\n",
    "# cba MZ R^2\n",
    "mz_cba_r2 = pd.Series([\n",
    "    mz_cba_naive.rsquared,\n",
    "    mz_cba_16day.rsquared,\n",
    "    mz_cba_arma.rsquared,\n",
    "    mz_cba_ar1.rsquared,\n",
    "    mz_cba_comb.rsquared,\n",
    "    mz_cba_method6.rsquared], index=dff_cba.columns[1:])\n",
    "\n",
    "\n",
    "# MZ F-stat\n",
    "mz_f_c = pd.Series([\n",
    "    wald_naive_c.fvalue[0][0],\n",
    "    wald_16day_c.fvalue[0][0],\n",
    "    wald_arma_c.fvalue[0][0],\n",
    "    wald_ar1_c.fvalue[0][0],\n",
    "    wald_comb_c.fvalue[0][0],\n",
    "    wald_method6_c.fvalue[0][0]],index=dff_cba.columns[1:])\n",
    "#mz_f\n",
    "\n",
    "# MZ p-value\n",
    "mz_p_c = pd.Series([\n",
    "    wald_naive_c.pvalue,\n",
    "    wald_16day_c.pvalue,\n",
    "    wald_arma_c.pvalue,\n",
    "    wald_ar1_c.pvalue,\n",
    "    wald_comb_c.pvalue,\n",
    "    wald_method6_c.pvalue], index=dff_cba.columns[1:])\n",
    "#mz_p\n",
    "\n",
    "# ibm MZ parameters\n",
    "mz_cba_par = pd.DataFrame([\n",
    "    mz_cba_naive.params.values,\n",
    "    mz_cba_16day.params.values,\n",
    "    mz_cba_arma.params.values,\n",
    "    mz_cba_ar1.params.values,\n",
    "    mz_cba_comb.params.values,\n",
    "    mz_cba_method6.params.values], index=dff_cba.columns[1:], columns=['alpha', 'beta'])\n",
    "mz_cba_par"
   ]
  },
  {
   "cell_type": "code",
   "execution_count": null,
   "id": "86e0f448",
   "metadata": {},
   "outputs": [
    {
     "data": {
      "text/html": [
       "<div>\n",
       "<style scoped>\n",
       "    .dataframe tbody tr th:only-of-type {\n",
       "        vertical-align: middle;\n",
       "    }\n",
       "\n",
       "    .dataframe tbody tr th {\n",
       "        vertical-align: top;\n",
       "    }\n",
       "\n",
       "    .dataframe thead th {\n",
       "        text-align: right;\n",
       "    }\n",
       "</style>\n",
       "<table border=\"1\" class=\"dataframe\">\n",
       "  <thead>\n",
       "    <tr style=\"text-align: right;\">\n",
       "      <th></th>\n",
       "      <th>Naive</th>\n",
       "      <th>16day</th>\n",
       "      <th>ARMA(2,1)</th>\n",
       "      <th>Reg</th>\n",
       "      <th>Combination of 2-4</th>\n",
       "      <th>Method6</th>\n",
       "    </tr>\n",
       "  </thead>\n",
       "  <tbody>\n",
       "    <tr>\n",
       "      <th>RMSE</th>\n",
       "      <td>2.3072</td>\n",
       "      <td>1.5975</td>\n",
       "      <td>1.5580</td>\n",
       "      <td>1.5538</td>\n",
       "      <td>1.5581</td>\n",
       "      <td>1.6213</td>\n",
       "    </tr>\n",
       "    <tr>\n",
       "      <th>MAD</th>\n",
       "      <td>1.4520</td>\n",
       "      <td>1.0575</td>\n",
       "      <td>1.0245</td>\n",
       "      <td>1.0236</td>\n",
       "      <td>1.0295</td>\n",
       "      <td>1.0498</td>\n",
       "    </tr>\n",
       "    <tr>\n",
       "      <th>MZ R-sq</th>\n",
       "      <td>0.0119</td>\n",
       "      <td>0.0001</td>\n",
       "      <td>0.0016</td>\n",
       "      <td>0.0002</td>\n",
       "      <td>0.0005</td>\n",
       "      <td>0.0123</td>\n",
       "    </tr>\n",
       "    <tr>\n",
       "      <th>MZ F</th>\n",
       "      <td>736.4942</td>\n",
       "      <td>37.8561</td>\n",
       "      <td>8.0714</td>\n",
       "      <td>4.0377</td>\n",
       "      <td>7.5585</td>\n",
       "      <td>64.7782</td>\n",
       "    </tr>\n",
       "    <tr>\n",
       "      <th>MZ pval</th>\n",
       "      <td>0.0000</td>\n",
       "      <td>0.0000</td>\n",
       "      <td>0.0003</td>\n",
       "      <td>0.0179</td>\n",
       "      <td>0.0005</td>\n",
       "      <td>0.0000</td>\n",
       "    </tr>\n",
       "  </tbody>\n",
       "</table>\n",
       "</div>"
      ],
      "text/plain": [
       "            Naive    16day  ARMA(2,1)     Reg  Combination of 2-4  Method6\n",
       "RMSE       2.3072   1.5975     1.5580  1.5538              1.5581   1.6213\n",
       "MAD        1.4520   1.0575     1.0245  1.0236              1.0295   1.0498\n",
       "MZ R-sq    0.0119   0.0001     0.0016  0.0002              0.0005   0.0123\n",
       "MZ F     736.4942  37.8561     8.0714  4.0377              7.5585  64.7782\n",
       "MZ pval    0.0000   0.0000     0.0003  0.0179              0.0005   0.0000"
      ]
     },
     "execution_count": 130,
     "metadata": {},
     "output_type": "execute_result"
    }
   ],
   "source": [
    "i_col = 5\n",
    "l = np.empty((5, 6))\n",
    "for i in range(6):\n",
    "    l[0, i], l[1, i] = loss_func(r_fore_c, f_all_c[:, i])\n",
    "    l[2, i] = mz_cba_r2[i]\n",
    "    l[3, i] = mz_f_c[i]\n",
    "    l[4, i] = mz_p_c[i]\n",
    "c_name = ['Naive', '16day', 'ARMA(2,1)', 'Reg', 'Combination of 2-4','Method6']\n",
    "tbl_cba = pd.DataFrame(l.round(4), columns=c_name, index=['RMSE', 'MAD', 'MZ R-sq', 'MZ F', 'MZ pval'])\n",
    "tbl_cba"
   ]
  },
  {
   "cell_type": "markdown",
   "id": "1765e1a7",
   "metadata": {},
   "source": [
    "From the RMSE and MAD, it suggests that the 'Reg AR(1) model' is the best model to predict the true return of CBA, the 'ARMA(2,1) model' and the 'combination of 2-4 model' seems to also have a good prediction capability to predict the true return. While 'naive model' seem like the worst model in forecast the return, which is understandable as the 'naive model' always predict the forecast one day behind the true return. \n",
    "\n",
    "From the r-sqaured, it seems like no model explains the forecast well, the 'naive model' and the 'method6 model' are relatively strong in explain the forecast, however it is still quite small.\n",
    "\n",
    "There is no model that accpet the hypothesis of alpha close to 0, and beta close to 1 (p < 0.05); suggest that we should find a better modelto forecast the true return of CBA. \n",
    "\n",
    "From these quantitative measures, it looks like the 'Reg AR(!)' is the best model in forecast the true return of CBA. As it has the smallest RMSE and MAD, also if we set the significance to 0.01, then we can accpt the null hypothesis for the 'Reg AR(1) model'. Therefore, it suggests that 'Reg AR(1) model' is the best model to forecast the return of CBA."
   ]
  },
  {
   "cell_type": "markdown",
   "id": "f48cd633",
   "metadata": {},
   "source": [
    "## 2.4 RMSE, MAD and MZ regression for asset 7"
   ]
  },
  {
   "cell_type": "code",
   "execution_count": null,
   "id": "bec5bc49",
   "metadata": {},
   "outputs": [
    {
     "data": {
      "application/vnd.jupyter.widget-view+json": {
       "model_id": "9e985670706f4fc39abec136a4e1c381",
       "version_major": 2,
       "version_minor": 0
      },
      "text/plain": [
       "  0%|          | 0/1184 [00:00<?, ?it/s]"
      ]
     },
     "metadata": {},
     "output_type": "display_data"
    },
    {
     "name": "stderr",
     "output_type": "stream",
     "text": [
      "/Users/iyw/opt/anaconda3/lib/python3.9/site-packages/statsmodels/tsa/statespace/sarimax.py:966: UserWarning: Non-stationary starting autoregressive parameters found. Using zeros as starting parameters.\n",
      "  warn('Non-stationary starting autoregressive parameters'\n",
      "/Users/iyw/opt/anaconda3/lib/python3.9/site-packages/statsmodels/tsa/statespace/sarimax.py:978: UserWarning: Non-invertible starting MA parameters found. Using zeros as starting parameters.\n",
      "  warn('Non-invertible starting MA parameters found.'\n"
     ]
    }
   ],
   "source": [
    "fnaive_cpu = np.empty(n_fore)\n",
    "f16day_cpu = np.empty(n_fore)\n",
    "far21_cpu = np.empty(n_fore)\n",
    "freg_cpu = np.empty(n_fore)\n",
    "\n",
    "for i in tqdm(range(n_fore)):\n",
    "    y = r.iloc[(i + 1):(-n_fore + i), 6].values\n",
    "    x = r.iloc[i:(-n_fore + i - 1), -1].values\n",
    "    x_new = r.iloc[(-n_fore + i - 1), -1]\n",
    "    i_fore = len(y)\n",
    "\n",
    "    # Naive\n",
    "    fnaive_cpu[i] = y[-1]\n",
    "    # 16 days\n",
    "    f16day_cpu[i] = y[-16:].mean()\n",
    "    \n",
    "    \n",
    "    \n",
    "    \n",
    "    # Formal models\n",
    "    if i % 20 == 0:                  # re-estimate the model when i=0 and then only every 20 days after that (to save time)\n",
    "        reg_cpu = ARIMA(y, exog=x, order=(1, 0, 0)).fit()   # Reg\n",
    "        ar_cpu = ARIMA(y, order=(2, 0, 1)).fit()    \n",
    "    \n",
    "    reg_cpu = reg_cpu.apply(y, exog=x)\n",
    "    arma21_cpu = ar_cpu.apply(y)\n",
    "    \n",
    "    # these lines generate the 1 step-ahead forecasts\n",
    "    freg_cpu[i] = reg_cpu.predict(exog=x_new, start=i_fore, end=i_fore)\n",
    "    far21_cpu[i] = arma21_cpu.predict(start=i_fore, end=i_fore)    "
   ]
  },
  {
   "cell_type": "code",
   "execution_count": null,
   "id": "05833a92",
   "metadata": {},
   "outputs": [],
   "source": [
    "# combination of method 2-4\n",
    "fcomb_cpu = (freg_cpu + f16day_cpu + far21_cpu)/3"
   ]
  },
  {
   "cell_type": "code",
   "execution_count": null,
   "id": "526942aa",
   "metadata": {},
   "outputs": [
    {
     "data": {
      "text/plain": [
       "array([[-0.94708895,  0.17569882,  0.04535484,  0.07354044],\n",
       "       [ 1.60068481,  0.28905357, -0.0361717 ,  0.01669574],\n",
       "       [-0.44888097,  0.13697071,  0.07043916,  0.03610479],\n",
       "       [ 2.66359633,  0.49446167, -0.01214787,  0.00780912],\n",
       "       [ 0.55599142,  0.54539649,  0.12366107,  0.02739548],\n",
       "       [ 1.68863759,  0.51468356,  0.101359  ,  0.01984412],\n",
       "       [-1.17510886,  0.29497294,  0.19928832,  0.06610723],\n",
       "       [ 1.52496557,  0.32863013,  0.07647396,  0.00576904],\n",
       "       [ 1.15741249,  0.34245006,  0.12398834,  0.00711468],\n",
       "       [ 0.11501675,  0.35977671,  0.1641344 ,  0.04983811],\n",
       "       [-2.36491907,  0.15892761,  0.19291783,  0.10121373],\n",
       "       [ 1.17006732,  0.21447615,  0.01772381,  0.06878891],\n",
       "       [ 0.07751736,  0.2067935 ,  0.08078307,  0.03459956],\n",
       "       [-3.54926726,  0.03018084,  0.14842749,  0.09737581],\n",
       "       [ 0.2806141 ,  0.17764065, -0.06036061,  0.0344642 ],\n",
       "       [ 1.27288668,  0.22638283, -0.05110181,  0.02885141],\n",
       "       [ 0.31570606,  0.30530752,  0.02459662,  0.01082353],\n",
       "       [ 0.82402385,  0.25676621,  0.0266551 ,  0.05858784],\n",
       "       [ 0.97220381,  0.34558401,  0.05115603,  0.03830085],\n",
       "       [-1.52079536,  0.08405953,  0.13010983,  0.03926834]])"
      ]
     },
     "execution_count": 133,
     "metadata": {},
     "output_type": "execute_result"
    }
   ],
   "source": [
    "# method 6\n",
    "fmethod6_cpu = np.vstack ([fnaive_cpu[-20:],f16day_cpu[-20:],far21_cpu[-20:],freg_cpu[-20:]]).T\n",
    "fmethod6_cpu\n"
   ]
  },
  {
   "cell_type": "code",
   "execution_count": null,
   "id": "cff2c432",
   "metadata": {},
   "outputs": [
    {
     "data": {
      "text/html": [
       "<div>\n",
       "<style scoped>\n",
       "    .dataframe tbody tr th:only-of-type {\n",
       "        vertical-align: middle;\n",
       "    }\n",
       "\n",
       "    .dataframe tbody tr th {\n",
       "        vertical-align: top;\n",
       "    }\n",
       "\n",
       "    .dataframe thead th {\n",
       "        text-align: right;\n",
       "    }\n",
       "</style>\n",
       "<table border=\"1\" class=\"dataframe\">\n",
       "  <thead>\n",
       "    <tr style=\"text-align: right;\">\n",
       "      <th></th>\n",
       "      <th>Naive</th>\n",
       "      <th>16day</th>\n",
       "      <th>ARMA21</th>\n",
       "      <th>Reg</th>\n",
       "    </tr>\n",
       "  </thead>\n",
       "  <tbody>\n",
       "    <tr>\n",
       "      <th>RMSE</th>\n",
       "      <td>2.2271</td>\n",
       "      <td>1.4925</td>\n",
       "      <td>1.4877</td>\n",
       "      <td>1.4794</td>\n",
       "    </tr>\n",
       "    <tr>\n",
       "      <th>MAD</th>\n",
       "      <td>1.9080</td>\n",
       "      <td>1.1533</td>\n",
       "      <td>1.1905</td>\n",
       "      <td>1.1900</td>\n",
       "    </tr>\n",
       "  </tbody>\n",
       "</table>\n",
       "</div>"
      ],
      "text/plain": [
       "       Naive   16day  ARMA21     Reg\n",
       "RMSE  2.2271  1.4925  1.4877  1.4794\n",
       "MAD   1.9080  1.1533  1.1905  1.1900"
      ]
     },
     "execution_count": 134,
     "metadata": {},
     "output_type": "execute_result"
    }
   ],
   "source": [
    "l = np.empty((2, 4))\n",
    "for i in range(4):\n",
    "    l[0, i], l[1, i] = loss_func(r.iloc[-20:, 6].values, fmethod6_cpu[:, i])\n",
    "c_name = ['Naive', '16day', 'ARMA21', 'Reg']\n",
    "tbl_cpu = pd.DataFrame(l.round(4), columns=c_name, index=['RMSE', 'MAD'])\n",
    "tbl_cpu"
   ]
  },
  {
   "cell_type": "code",
   "execution_count": null,
   "id": "397db0c3",
   "metadata": {},
   "outputs": [],
   "source": [
    "in_cpu1 = 1/tbl_cpu.iloc[1,0]\n",
    "in_cpu2 = 1/tbl_cpu.iloc[1,1]\n",
    "in_cpu3 = 1/tbl_cpu.iloc[1,2]\n",
    "in_cpu4 = 1/tbl_cpu.iloc[1,3]\n",
    "\n",
    "total_cpu = in_cpu1 + in_cpu2 + in_cpu3 + in_cpu4\n",
    "\n",
    "cpu_1 = in_cpu1/total_cpu\n",
    "cpu_2 = in_cpu2/total_cpu\n",
    "cpu_3 = in_cpu3/total_cpu\n",
    "cpu_4 = in_cpu4/total_cpu"
   ]
  },
  {
   "cell_type": "code",
   "execution_count": null,
   "id": "cadf865f",
   "metadata": {},
   "outputs": [
    {
     "data": {
      "text/plain": [
       "array([ 0.04685184, -0.11570585,  0.1561218 , ...,  0.23641102,\n",
       "        0.28791893, -0.1894471 ])"
      ]
     },
     "execution_count": 136,
     "metadata": {},
     "output_type": "execute_result"
    }
   ],
   "source": [
    "fmethod6_cpu = cpu_1 * fnaive_cpu + cpu_2 * f16day_cpu + cpu_3 * far21_cpu + cpu_4 * freg_cpu\n",
    "fmethod6_cpu"
   ]
  },
  {
   "cell_type": "code",
   "execution_count": null,
   "id": "5d6bd16e",
   "metadata": {},
   "outputs": [
    {
     "data": {
      "text/html": [
       "<div>\n",
       "<style scoped>\n",
       "    .dataframe tbody tr th:only-of-type {\n",
       "        vertical-align: middle;\n",
       "    }\n",
       "\n",
       "    .dataframe tbody tr th {\n",
       "        vertical-align: top;\n",
       "    }\n",
       "\n",
       "    .dataframe thead th {\n",
       "        text-align: right;\n",
       "    }\n",
       "</style>\n",
       "<table border=\"1\" class=\"dataframe\">\n",
       "  <thead>\n",
       "    <tr style=\"text-align: right;\">\n",
       "      <th></th>\n",
       "      <th>naive</th>\n",
       "      <th>16 day average</th>\n",
       "      <th>arma(2,1)</th>\n",
       "      <th>ar(1)</th>\n",
       "      <th>combination of method 2-4</th>\n",
       "      <th>method 6</th>\n",
       "    </tr>\n",
       "  </thead>\n",
       "  <tbody>\n",
       "    <tr>\n",
       "      <th>RMSE</th>\n",
       "      <td>2.6300</td>\n",
       "      <td>1.8618</td>\n",
       "      <td>1.8315</td>\n",
       "      <td>1.8115</td>\n",
       "      <td>1.8181</td>\n",
       "      <td>1.8611</td>\n",
       "    </tr>\n",
       "    <tr>\n",
       "      <th>MAD</th>\n",
       "      <td>1.7794</td>\n",
       "      <td>1.2792</td>\n",
       "      <td>1.2267</td>\n",
       "      <td>1.2222</td>\n",
       "      <td>1.2330</td>\n",
       "      <td>1.2629</td>\n",
       "    </tr>\n",
       "  </tbody>\n",
       "</table>\n",
       "</div>"
      ],
      "text/plain": [
       "       naive  16 day average  arma(2,1)   ar(1)  combination of method 2-4  \\\n",
       "RMSE  2.6300          1.8618     1.8315  1.8115                     1.8181   \n",
       "MAD   1.7794          1.2792     1.2267  1.2222                     1.2330   \n",
       "\n",
       "      method 6  \n",
       "RMSE    1.8611  \n",
       "MAD     1.2629  "
      ]
     },
     "execution_count": 137,
     "metadata": {},
     "output_type": "execute_result"
    }
   ],
   "source": [
    "# CPU\n",
    "f_all_cpu = np.vstack([fnaive_cpu, f16day_cpu, far21_cpu, freg_cpu, fcomb_cpu, fmethod6_cpu]).T\n",
    "i_col = 6\n",
    "r_fore_cpu = r.iloc[-n_fore:, i_col].values \n",
    "l = np.empty((2, 6)) # 2 loss functions and 6 methods\n",
    "for i in range(6):\n",
    "    l[0, i], l[1, i] = loss_func(r_fore_cpu, f_all_cpu[:, i]) \n",
    "c_name = ['naive', '16 day average', 'arma(2,1)','ar(1)','combination of method 2-4','method 6']\n",
    "tbl_cpu = pd.DataFrame(l.round(4), columns=c_name, index=['RMSE', 'MAD'])\n",
    "tbl_cpu"
   ]
  },
  {
   "cell_type": "code",
   "execution_count": null,
   "id": "ad5ccb7f",
   "metadata": {},
   "outputs": [
    {
     "data": {
      "text/html": [
       "<div>\n",
       "<style scoped>\n",
       "    .dataframe tbody tr th:only-of-type {\n",
       "        vertical-align: middle;\n",
       "    }\n",
       "\n",
       "    .dataframe tbody tr th {\n",
       "        vertical-align: top;\n",
       "    }\n",
       "\n",
       "    .dataframe thead th {\n",
       "        text-align: right;\n",
       "    }\n",
       "</style>\n",
       "<table border=\"1\" class=\"dataframe\">\n",
       "  <thead>\n",
       "    <tr style=\"text-align: right;\">\n",
       "      <th></th>\n",
       "      <th>r_fore</th>\n",
       "      <th>f_cpu_naive</th>\n",
       "      <th>f_cpu_16day</th>\n",
       "      <th>f_cpu_arma</th>\n",
       "      <th>f_cpu_ar1</th>\n",
       "      <th>f_cpu_comb</th>\n",
       "      <th>f_cpu_method6</th>\n",
       "    </tr>\n",
       "  </thead>\n",
       "  <tbody>\n",
       "    <tr>\n",
       "      <th>0</th>\n",
       "      <td>-1.344764</td>\n",
       "      <td>-0.424126</td>\n",
       "      <td>0.347203</td>\n",
       "      <td>0.010574</td>\n",
       "      <td>0.066950</td>\n",
       "      <td>0.141576</td>\n",
       "      <td>0.046852</td>\n",
       "    </tr>\n",
       "    <tr>\n",
       "      <th>1</th>\n",
       "      <td>0.061518</td>\n",
       "      <td>-1.344764</td>\n",
       "      <td>0.259145</td>\n",
       "      <td>0.064940</td>\n",
       "      <td>0.083496</td>\n",
       "      <td>0.135860</td>\n",
       "      <td>-0.115706</td>\n",
       "    </tr>\n",
       "    <tr>\n",
       "      <th>2</th>\n",
       "      <td>-0.061518</td>\n",
       "      <td>0.061518</td>\n",
       "      <td>0.429558</td>\n",
       "      <td>0.059308</td>\n",
       "      <td>0.029760</td>\n",
       "      <td>0.172876</td>\n",
       "      <td>0.156122</td>\n",
       "    </tr>\n",
       "    <tr>\n",
       "      <th>3</th>\n",
       "      <td>-0.927359</td>\n",
       "      <td>-0.061518</td>\n",
       "      <td>0.421598</td>\n",
       "      <td>0.053864</td>\n",
       "      <td>0.020420</td>\n",
       "      <td>0.165294</td>\n",
       "      <td>0.128836</td>\n",
       "    </tr>\n",
       "    <tr>\n",
       "      <th>4</th>\n",
       "      <td>1.540853</td>\n",
       "      <td>-0.927359</td>\n",
       "      <td>0.066345</td>\n",
       "      <td>0.080019</td>\n",
       "      <td>0.074356</td>\n",
       "      <td>0.073573</td>\n",
       "      <td>-0.097285</td>\n",
       "    </tr>\n",
       "    <tr>\n",
       "      <th>...</th>\n",
       "      <td>...</td>\n",
       "      <td>...</td>\n",
       "      <td>...</td>\n",
       "      <td>...</td>\n",
       "      <td>...</td>\n",
       "      <td>...</td>\n",
       "      <td>...</td>\n",
       "    </tr>\n",
       "    <tr>\n",
       "      <th>1179</th>\n",
       "      <td>0.315706</td>\n",
       "      <td>1.272887</td>\n",
       "      <td>0.226383</td>\n",
       "      <td>-0.051102</td>\n",
       "      <td>0.028851</td>\n",
       "      <td>0.068044</td>\n",
       "      <td>0.275026</td>\n",
       "    </tr>\n",
       "    <tr>\n",
       "      <th>1180</th>\n",
       "      <td>0.824024</td>\n",
       "      <td>0.315706</td>\n",
       "      <td>0.305308</td>\n",
       "      <td>0.024597</td>\n",
       "      <td>0.010824</td>\n",
       "      <td>0.113576</td>\n",
       "      <td>0.149746</td>\n",
       "    </tr>\n",
       "    <tr>\n",
       "      <th>1181</th>\n",
       "      <td>0.972204</td>\n",
       "      <td>0.824024</td>\n",
       "      <td>0.256766</td>\n",
       "      <td>0.026655</td>\n",
       "      <td>0.058588</td>\n",
       "      <td>0.114003</td>\n",
       "      <td>0.236411</td>\n",
       "    </tr>\n",
       "    <tr>\n",
       "      <th>1182</th>\n",
       "      <td>-1.520795</td>\n",
       "      <td>0.972204</td>\n",
       "      <td>0.345584</td>\n",
       "      <td>0.051156</td>\n",
       "      <td>0.038301</td>\n",
       "      <td>0.145014</td>\n",
       "      <td>0.287919</td>\n",
       "    </tr>\n",
       "    <tr>\n",
       "      <th>1183</th>\n",
       "      <td>-0.947506</td>\n",
       "      <td>-1.520795</td>\n",
       "      <td>0.084060</td>\n",
       "      <td>0.130110</td>\n",
       "      <td>0.039268</td>\n",
       "      <td>0.084479</td>\n",
       "      <td>-0.189447</td>\n",
       "    </tr>\n",
       "  </tbody>\n",
       "</table>\n",
       "<p>1184 rows × 7 columns</p>\n",
       "</div>"
      ],
      "text/plain": [
       "        r_fore  f_cpu_naive  f_cpu_16day  f_cpu_arma  f_cpu_ar1  f_cpu_comb  \\\n",
       "0    -1.344764    -0.424126     0.347203    0.010574   0.066950    0.141576   \n",
       "1     0.061518    -1.344764     0.259145    0.064940   0.083496    0.135860   \n",
       "2    -0.061518     0.061518     0.429558    0.059308   0.029760    0.172876   \n",
       "3    -0.927359    -0.061518     0.421598    0.053864   0.020420    0.165294   \n",
       "4     1.540853    -0.927359     0.066345    0.080019   0.074356    0.073573   \n",
       "...        ...          ...          ...         ...        ...         ...   \n",
       "1179  0.315706     1.272887     0.226383   -0.051102   0.028851    0.068044   \n",
       "1180  0.824024     0.315706     0.305308    0.024597   0.010824    0.113576   \n",
       "1181  0.972204     0.824024     0.256766    0.026655   0.058588    0.114003   \n",
       "1182 -1.520795     0.972204     0.345584    0.051156   0.038301    0.145014   \n",
       "1183 -0.947506    -1.520795     0.084060    0.130110   0.039268    0.084479   \n",
       "\n",
       "      f_cpu_method6  \n",
       "0          0.046852  \n",
       "1         -0.115706  \n",
       "2          0.156122  \n",
       "3          0.128836  \n",
       "4         -0.097285  \n",
       "...             ...  \n",
       "1179       0.275026  \n",
       "1180       0.149746  \n",
       "1181       0.236411  \n",
       "1182       0.287919  \n",
       "1183      -0.189447  \n",
       "\n",
       "[1184 rows x 7 columns]"
      ]
     },
     "execution_count": 138,
     "metadata": {},
     "output_type": "execute_result"
    }
   ],
   "source": [
    "dff_cpu = pd.DataFrame({\n",
    "    'r_fore': r_fore_cpu,\n",
    "    'f_cpu_naive': f_all_cpu[:, 0],\n",
    "    'f_cpu_16day': f_all_cpu[:, 1],\n",
    "    'f_cpu_arma': f_all_cpu[:, 2],\n",
    "    'f_cpu_ar1': f_all_cpu[:, 3],\n",
    "    'f_cpu_comb': f_all_cpu[:, 4],\n",
    "    'f_cpu_method6': f_all_cpu[:,5]})\n",
    "dff_cpu"
   ]
  },
  {
   "cell_type": "code",
   "execution_count": null,
   "id": "931ff7ba",
   "metadata": {},
   "outputs": [
    {
     "name": "stderr",
     "output_type": "stream",
     "text": [
      "/Users/iyw/opt/anaconda3/lib/python3.9/site-packages/statsmodels/base/model.py:1889: FutureWarning: The behavior of wald_test will change after 0.14 to returning scalar test statistic values. To get the future behavior now, set scalar to True. To silence this message while retaining the legacy behavior, set scalar to False.\n",
      "  warnings.warn(\n"
     ]
    },
    {
     "data": {
      "text/html": [
       "<div>\n",
       "<style scoped>\n",
       "    .dataframe tbody tr th:only-of-type {\n",
       "        vertical-align: middle;\n",
       "    }\n",
       "\n",
       "    .dataframe tbody tr th {\n",
       "        vertical-align: top;\n",
       "    }\n",
       "\n",
       "    .dataframe thead th {\n",
       "        text-align: right;\n",
       "    }\n",
       "</style>\n",
       "<table border=\"1\" class=\"dataframe\">\n",
       "  <thead>\n",
       "    <tr style=\"text-align: right;\">\n",
       "      <th></th>\n",
       "      <th>alpha</th>\n",
       "      <th>beta</th>\n",
       "    </tr>\n",
       "  </thead>\n",
       "  <tbody>\n",
       "    <tr>\n",
       "      <th>f_cpu_naive</th>\n",
       "      <td>0.048631</td>\n",
       "      <td>-0.056162</td>\n",
       "    </tr>\n",
       "    <tr>\n",
       "      <th>f_cpu_16day</th>\n",
       "      <td>0.038572</td>\n",
       "      <td>0.151148</td>\n",
       "    </tr>\n",
       "    <tr>\n",
       "      <th>f_cpu_arma</th>\n",
       "      <td>0.127214</td>\n",
       "      <td>-1.657100</td>\n",
       "    </tr>\n",
       "    <tr>\n",
       "      <th>f_cpu_ar1</th>\n",
       "      <td>0.076590</td>\n",
       "      <td>-0.828117</td>\n",
       "    </tr>\n",
       "    <tr>\n",
       "      <th>f_cpu_comb</th>\n",
       "      <td>0.042401</td>\n",
       "      <td>0.080330</td>\n",
       "    </tr>\n",
       "    <tr>\n",
       "      <th>f_cpu_method6</th>\n",
       "      <td>0.055864</td>\n",
       "      <td>-0.217093</td>\n",
       "    </tr>\n",
       "  </tbody>\n",
       "</table>\n",
       "</div>"
      ],
      "text/plain": [
       "                  alpha      beta\n",
       "f_cpu_naive    0.048631 -0.056162\n",
       "f_cpu_16day    0.038572  0.151148\n",
       "f_cpu_arma     0.127214 -1.657100\n",
       "f_cpu_ar1      0.076590 -0.828117\n",
       "f_cpu_comb     0.042401  0.080330\n",
       "f_cpu_method6  0.055864 -0.217093"
      ]
     },
     "execution_count": 139,
     "metadata": {},
     "output_type": "execute_result"
    }
   ],
   "source": [
    "import statsmodels.formula.api as smf\n",
    "\n",
    "mz_cpu_naive = smf.ols('r_fore ~ f_cpu_naive', dff_cpu).fit()\n",
    "mz_cpu_16day = smf.ols('r_fore ~ f_cpu_16day', dff_cpu).fit()\n",
    "mz_cpu_arma = smf.ols('r_fore ~ f_cpu_arma', dff_cpu).fit()\n",
    "mz_cpu_ar1 = smf.ols('r_fore ~ f_cpu_ar1', dff_cpu).fit()\n",
    "mz_cpu_comb = smf.ols('r_fore ~ f_cpu_comb', dff_cpu).fit()\n",
    "mz_cpu_method6 = smf.ols('r_fore ~ f_cpu_method6', dff_cpu).fit()\n",
    "\n",
    "\n",
    "# cba F test for alpha=0, beta=1 from MZ regression\n",
    "\n",
    "wald_naive_cpu = mz_cpu_naive.wald_test('(Intercept = 0, f_cpu_naive = 1)')\n",
    "wald_16day_cpu = mz_cpu_16day.wald_test('(Intercept = 0, f_cpu_16day = 1)')\n",
    "wald_arma_cpu = mz_cpu_arma.wald_test('(Intercept = 0, f_cpu_arma = 1)')\n",
    "wald_ar1_cpu = mz_cpu_ar1.wald_test('(Intercept = 0, f_cpu_ar1 = 1)')\n",
    "wald_comb_cpu = mz_cpu_comb.wald_test('(Intercept = 0, f_cpu_comb = 1)')\n",
    "wald_method6_cpu = mz_cpu_method6.wald_test('(Intercept = 0, f_cpu_method6 = 1)')\n",
    "\n",
    "# cba MZ R^2\n",
    "mz_cpu_r2 = pd.Series([\n",
    "    mz_cpu_naive.rsquared,\n",
    "    mz_cpu_16day.rsquared,\n",
    "    mz_cpu_arma.rsquared,\n",
    "    mz_cpu_ar1.rsquared,\n",
    "    mz_cpu_comb.rsquared,\n",
    "    mz_cpu_method6.rsquared], index=dff_cpu.columns[1:])\n",
    "\n",
    "\n",
    "# MZ F-stat\n",
    "mz_f_cpu = pd.Series([\n",
    "    wald_naive_cpu.fvalue[0][0],\n",
    "    wald_16day_cpu.fvalue[0][0],\n",
    "    wald_arma_cpu.fvalue[0][0],\n",
    "    wald_ar1_cpu.fvalue[0][0],\n",
    "    wald_comb_cpu.fvalue[0][0],\n",
    "    wald_method6_cpu.fvalue[0][0]],index=dff_cpu.columns[1:])\n",
    "#mz_f\n",
    "\n",
    "# MZ p-value\n",
    "mz_p_cpu = pd.Series([\n",
    "    wald_naive_cpu.pvalue,\n",
    "    wald_16day_cpu.pvalue,\n",
    "    wald_arma_cpu.pvalue,\n",
    "    wald_ar1_cpu.pvalue,\n",
    "    wald_comb_cpu.pvalue,\n",
    "    wald_method6_cpu.pvalue], index=dff_cpu.columns[1:])\n",
    "#mz_p\n",
    "\n",
    "# ibm MZ parameters\n",
    "mz_cpu_par = pd.DataFrame([\n",
    "    mz_cpu_naive.params.values,\n",
    "    mz_cpu_16day.params.values,\n",
    "    mz_cpu_arma.params.values,\n",
    "    mz_cpu_ar1.params.values,\n",
    "    mz_cpu_comb.params.values,\n",
    "    mz_cpu_method6.params.values], index=dff_cpu.columns[1:], columns=['alpha', 'beta'])\n",
    "mz_cpu_par"
   ]
  },
  {
   "cell_type": "code",
   "execution_count": null,
   "id": "56201285",
   "metadata": {},
   "outputs": [
    {
     "data": {
      "text/html": [
       "<div>\n",
       "<style scoped>\n",
       "    .dataframe tbody tr th:only-of-type {\n",
       "        vertical-align: middle;\n",
       "    }\n",
       "\n",
       "    .dataframe tbody tr th {\n",
       "        vertical-align: top;\n",
       "    }\n",
       "\n",
       "    .dataframe thead th {\n",
       "        text-align: right;\n",
       "    }\n",
       "</style>\n",
       "<table border=\"1\" class=\"dataframe\">\n",
       "  <thead>\n",
       "    <tr style=\"text-align: right;\">\n",
       "      <th></th>\n",
       "      <th>Naive</th>\n",
       "      <th>16day</th>\n",
       "      <th>ARMA(2,1)</th>\n",
       "      <th>Reg</th>\n",
       "      <th>Combination of 2-4</th>\n",
       "      <th>Method6</th>\n",
       "    </tr>\n",
       "  </thead>\n",
       "  <tbody>\n",
       "    <tr>\n",
       "      <th>RMSE</th>\n",
       "      <td>2.6300</td>\n",
       "      <td>1.8618</td>\n",
       "      <td>1.8315</td>\n",
       "      <td>1.8115</td>\n",
       "      <td>1.8181</td>\n",
       "      <td>1.8611</td>\n",
       "    </tr>\n",
       "    <tr>\n",
       "      <th>MAD</th>\n",
       "      <td>1.7794</td>\n",
       "      <td>1.2792</td>\n",
       "      <td>1.2267</td>\n",
       "      <td>1.2222</td>\n",
       "      <td>1.2330</td>\n",
       "      <td>1.2629</td>\n",
       "    </tr>\n",
       "    <tr>\n",
       "      <th>MZ R-sq</th>\n",
       "      <td>0.0032</td>\n",
       "      <td>0.0019</td>\n",
       "      <td>0.0155</td>\n",
       "      <td>0.0005</td>\n",
       "      <td>0.0001</td>\n",
       "      <td>0.0019</td>\n",
       "    </tr>\n",
       "    <tr>\n",
       "      <th>MZ F</th>\n",
       "      <td>661.2022</td>\n",
       "      <td>35.7362</td>\n",
       "      <td>23.9138</td>\n",
       "      <td>1.5035</td>\n",
       "      <td>5.5718</td>\n",
       "      <td>35.2928</td>\n",
       "    </tr>\n",
       "    <tr>\n",
       "      <th>MZ pval</th>\n",
       "      <td>0.0000</td>\n",
       "      <td>0.0000</td>\n",
       "      <td>0.0000</td>\n",
       "      <td>0.2228</td>\n",
       "      <td>0.0039</td>\n",
       "      <td>0.0000</td>\n",
       "    </tr>\n",
       "  </tbody>\n",
       "</table>\n",
       "</div>"
      ],
      "text/plain": [
       "            Naive    16day  ARMA(2,1)     Reg  Combination of 2-4  Method6\n",
       "RMSE       2.6300   1.8618     1.8315  1.8115              1.8181   1.8611\n",
       "MAD        1.7794   1.2792     1.2267  1.2222              1.2330   1.2629\n",
       "MZ R-sq    0.0032   0.0019     0.0155  0.0005              0.0001   0.0019\n",
       "MZ F     661.2022  35.7362    23.9138  1.5035              5.5718  35.2928\n",
       "MZ pval    0.0000   0.0000     0.0000  0.2228              0.0039   0.0000"
      ]
     },
     "execution_count": 140,
     "metadata": {},
     "output_type": "execute_result"
    }
   ],
   "source": [
    "i_col = 6\n",
    "l = np.empty((5, 6))\n",
    "for i in range(6):\n",
    "    l[0, i], l[1, i] = loss_func(r_fore_cpu, f_all_cpu[:, i])\n",
    "    l[2, i] = mz_cpu_r2[i]\n",
    "    l[3, i] = mz_f_cpu[i]\n",
    "    l[4, i] = mz_p_cpu[i]\n",
    "c_name = ['Naive', '16day', 'ARMA(2,1)', 'Reg', 'Combination of 2-4','Method6']\n",
    "tbl_cpu = pd.DataFrame(l.round(4), columns=c_name, index=['RMSE', 'MAD', 'MZ R-sq', 'MZ F', 'MZ pval'])\n",
    "tbl_cpu"
   ]
  },
  {
   "cell_type": "markdown",
   "id": "70594579",
   "metadata": {},
   "source": [
    "From RMSE and MAD, it looks liks the 'Reg AR(1)' has the best prediciton of the true return of CPU. While the 'naive model' has the worst forecast of the true return. \n",
    "\n",
    "The r-squared demonstrates that the 'ARMA(2,1) model' seems can explain the most movement from the forecast compare with other models, however it is still quite small (r^2 = 1.55%).\n",
    "\n",
    "Additionally, the p value of the MZ regression shows that only the 'Reg AR(1) model' accepts the null hypothesis, while other rejected. \n",
    "\n",
    "From the above quantitive mesure, it demonstrates that 'Reg AR(1) model' should be the best one to forecast the return of CPU, as it has the smallest RMSE and MAD, also it is the only model that accpets the null hypothesis of alpha close to 0 and beta close to 1. \n"
   ]
  },
  {
   "cell_type": "markdown",
   "id": "bd61217c",
   "metadata": {},
   "source": [
    "# Section 3\n",
    "\n"
   ]
  },
  {
   "cell_type": "markdown",
   "id": "65dd82e1",
   "metadata": {},
   "source": [
    "### Question 1"
   ]
  },
  {
   "cell_type": "markdown",
   "id": "be94e5dd",
   "metadata": {},
   "source": [
    "$\\begin{aligned} & L c\\left(\\varphi, \\tau^2 \\mid y\\right)=p\\left(y_1, y_2, \\cdots y_T \\mid \\varphi, \\tau^2\\right)=\\prod_{t=1}^T p\\left(y t \\mid y_{t-1}, \\cdots, y_1, y_0, y_{-1}, \\varphi, \\tau^2\\right) \\\\=& \\prod_{t=1}^T \\frac{1}{\\sqrt{2 \\pi \\tau^2}} \\exp \\left\\{\\frac{1}{-2 \\tau^2}\\left(y_t-\\varphi_1 y_{t-1}-\\varphi_2 y_{t-2}\\right)^2\\right\\} \\end{aligned}$"
   ]
  },
  {
   "cell_type": "markdown",
   "id": "145e79ca",
   "metadata": {},
   "source": [
    "### Question 2"
   ]
  },
  {
   "cell_type": "markdown",
   "id": "98bebabc",
   "metadata": {},
   "source": [
    "$-\\log L_c\\left(\\varphi, \\tau^2 \\mid y\\right)$\n",
    "\n",
    "$=-\\log {\\prod_{t=1}}^T \\frac{1}{\\sqrt{2 \\lambda} \\tau} \\exp \\left\\{-\\frac{1}{2 \\tau^2}\\left(y_t-\\varphi_1 y_{t-1}-\\varphi_2 y_{t-2}\\right)^2\\right\\}$\n",
    "\n",
    "$=\\frac{1}{2 \\tau^2} \\sum_{t=1}^T\\left(y_t-\\varphi_1y_{-1}-\\varphi_2 y_{t-2}\\right)^2+\\frac{1}{2} T \\log 2 \\pi \\tau^2$"
   ]
  },
  {
   "cell_type": "markdown",
   "id": "39ec77d3",
   "metadata": {},
   "source": [
    "### Question 3"
   ]
  },
  {
   "cell_type": "markdown",
   "id": "e276a703",
   "metadata": {},
   "source": [
    "$\\frac{\\partial\\left[-\\log L_c\\left(\\varphi, \\tau^2 \\mid y\\right)\\right]}{\\partial \\varphi_1}$\n",
    "\n",
    "$=\\frac{1}{2 \\tau^2} \\sum_{t=1}^T 2\\left(y_t-\\varphi_1 y_{t-1}-\\varphi_{2} y_{t-2}\\right) \\cdot-y_{t-1}=0$.\n",
    "\n",
    "$\\frac{\\partial\\left[-\\log L_c\\left(\\varphi, \\tau^2 \\mid y\\right)\\right]}{\\partial \\varphi_2 }$\n",
    "\n",
    "$=\\frac{1}{2 \\tau^2} \\sum_{t=1}^T 2\\left(y_t-\\varphi_1 y_{t-1}-\\varphi_2 y_{t-2}\\right) \\cdot-y_{t-2}=0$\n",
    "\n",
    "The equations are in the following:\n",
    "\n",
    " $\\Rightarrow\\left\\{\\varphi_1 \\sum_{t=1}^T y_{t-1}^2+\\varphi_2 \\sum_{t=1}^T y_{t-1} y_{t-2}=\\sum_{t=1}^T y_t y_{t-1}\\right.$\n",
    "\n",
    "$\\varphi_1 \\sum_{t=1}^T y_{t-1} y_{t-2}+\\varphi_2 \\sum_{t=1}^T y_{t-2}^2=\\sum_{t=1}^{T} y_t y_{t-2}$"
   ]
  },
  {
   "cell_type": "markdown",
   "id": "942a7a0e",
   "metadata": {},
   "source": [
    "### Question 4"
   ]
  },
  {
   "cell_type": "markdown",
   "id": "c6ee144f",
   "metadata": {},
   "source": [
    "The formulas for the mles of this model are in the following:\n",
    "\n",
    "$\\psi_1$ = \n",
    "$\\frac{\\sum_{t=1}^T y_{t-2}^2 \\times \\sum_{t=1}^T y_{t} y_{t-1} - \\sum_{t=1}^T y_{t-1} y_{t-2} \\sum_{t=1}^T y_{t} y_{t-2}}{\\sum_{t=1}^T y_{t-1}^2 \\times \\sum_{t=1}^T y_{t-2}^2 - (\\sum_{t=1}^T y_{t-1}y_{t-2})^2}$\n",
    "\n",
    "$\\psi_2$ = \n",
    "$\\frac{\\sum_{t=1}^T y_{t-1}^2 \\times \\sum_{t=1}^T y_{t} y_{t-2} - \\sum_{t=1}^T y_{t} y_{t-1} \\sum_{t=1}^T y_{t-1} y_{t-2}}{\\sum_{t=1}^T y_{t-1}^2 \\times \\sum_{t=1}^T y_{t-2}^2 - (\\sum_{t=1}^T y_{t-1}y_{t-2})^2}$"
   ]
  },
  {
   "cell_type": "markdown",
   "id": "cad7c59f",
   "metadata": {},
   "source": []
  }
 ],
 "metadata": {
  "kernelspec": {
   "display_name": "Python 3 (ipykernel)",
   "language": "python",
   "name": "python3"
  },
  "language_info": {
   "codemirror_mode": {
    "name": "ipython",
    "version": 3
   },
   "file_extension": ".py",
   "mimetype": "text/x-python",
   "name": "python",
   "nbconvert_exporter": "python",
   "pygments_lexer": "ipython3",
   "version": "3.9.12"
  },
  "vscode": {
   "interpreter": {
    "hash": "978e2608f29761ce2b8ee0673c4af26f32c2380291381f96d18e64843f2bbcdb"
   }
  }
 },
 "nbformat": 4,
 "nbformat_minor": 5
}
